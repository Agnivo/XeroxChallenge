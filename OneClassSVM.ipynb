{
 "cells": [
  {
   "cell_type": "code",
   "execution_count": 7,
   "metadata": {
    "collapsed": false
   },
   "outputs": [
    {
     "name": "stdout",
     "output_type": "stream",
     "text": [
      "Populating the interactive namespace from numpy and matplotlib\n"
     ]
    },
    {
     "name": "stderr",
     "output_type": "stream",
     "text": [
      "WARNING: pylab import has clobbered these variables: ['TH']\n",
      "`%matplotlib` prevents importing * from pylab and numpy\n"
     ]
    }
   ],
   "source": [
    "%pylab inline\n",
    "\n",
    "from library import lasagnennet as LN\n",
    "from library import features as F\n",
    "from library import scale as S\n",
    "from library import validate as V\n",
    "import numpy as np\n",
    "import theano as TH\n",
    "import pandas as pa\n",
    "import lasagne as L\n",
    "\n",
    "import time"
   ]
  },
  {
   "cell_type": "code",
   "execution_count": 3,
   "metadata": {
    "collapsed": false,
    "scrolled": true
   },
   "outputs": [],
   "source": [
    "train_feats = pa.read_csv('full_train_feats.csv')\n",
    "# train_targets = pa.read_csv('full_train_targets.csv')\n",
    "# # val_feats = pa.read_csv('validation_feats.csv')\n",
    "# # val_targets = pa.read_csv('validation_targets.csv')\n",
    "# vval_feats = pa.read_csv('val_train_feats.csv')\n",
    "# vval_targets = pa.read_csv('val_train_targets.csv')"
   ]
  },
  {
   "cell_type": "code",
   "execution_count": 4,
   "metadata": {
    "collapsed": true
   },
   "outputs": [],
   "source": [
    "tx = np.asarray(train_feats, dtype=np.float32)\n",
    "# tyall = np.asarray(train_targets, dtype=np.int32)\n",
    "# ty = np.asarray(train_targets['LABEL'], dtype=np.int32).reshape(-1, 1)\n",
    "# vx = np.asarray(val_feats, dtype=np.float32)\n",
    "# vyall = np.asarray(val_targets, dtype=np.float32)\n",
    "# vy = np.asarray(val_targets['LABEL'], dtype=np.float32).reshape(-1, 1)"
   ]
  },
  {
   "cell_type": "code",
   "execution_count": null,
   "metadata": {
    "collapsed": false
   },
   "outputs": [],
   "source": [
    "from sklearn.svm import OneClassSVM\n",
    "starttime = time.time()\n",
    "clf = OneClassSVM(max_iter=1)\n",
    "clf.fit(tx)\n",
    "endtime = time.time()\n",
    "\n",
    "print \"Took {} mins\".format((starttime-endtime)*1.0/60)"
   ]
  },
  {
   "cell_type": "code",
   "execution_count": null,
   "metadata": {
    "collapsed": false
   },
   "outputs": [],
   "source": [
    "valx = np.asarray(vval_feats, dtype=np.float32)\n",
    "valyall = np.asarray(vval_targets, dtype=np.int64)"
   ]
  },
  {
   "cell_type": "code",
   "execution_count": null,
   "metadata": {
    "collapsed": false
   },
   "outputs": [],
   "source": [
    "vallabels = np.asarray(pa.read_csv('Validation_Data/id_label_val.csv'), dtype=np.int32)"
   ]
  },
  {
   "cell_type": "code",
   "execution_count": null,
   "metadata": {
    "collapsed": false
   },
   "outputs": [],
   "source": [
    "ty = ty.ravel()\n",
    "# vy = vy.ravel()"
   ]
  },
  {
   "cell_type": "code",
   "execution_count": 7,
   "metadata": {
    "collapsed": false
   },
   "outputs": [
    {
     "name": "stdout",
     "output_type": "stream",
     "text": [
      "(628437, 129) (628437, 4) (628437,) (199971, 129)\n"
     ]
    }
   ],
   "source": [
    "print tx.shape, tyall.shape, ty.shape, valx.shape # vx.shape, vyall.shape, vy.shape,"
   ]
  },
  {
   "cell_type": "code",
   "execution_count": 8,
   "metadata": {
    "collapsed": false
   },
   "outputs": [
    {
     "name": "stdout",
     "output_type": "stream",
     "text": [
      "[     0  16385 557058 ..., 494250 516094 468309]\n",
      "246\n"
     ]
    }
   ],
   "source": [
    "maxtimes = [0 for i in xrange(5000)]\n",
    "for it, i in enumerate(tyall):\n",
    "    maxtimes[i[0]] = max(maxtimes[i[0]], it)\n",
    "maxtimes = set(maxtimes)\n",
    "maxtimes = np.asarray([i for i in maxtimes])\n",
    "print maxtimes\n",
    "newlabels = [0 for i in xrange(tyall.shape[0])]\n",
    "for i in maxtimes:\n",
    "    if tyall[i,2] == 1:\n",
    "        newlabels[i] = 1\n",
    "newlabels = np.asarray(newlabels)\n",
    "print np.sum(newlabels)"
   ]
  },
  {
   "cell_type": "code",
   "execution_count": null,
   "metadata": {
    "collapsed": false
   },
   "outputs": [],
   "source": [
    "from sklearn import cluster\n",
    "clus = cluster.KMeans(n_clusters=1000, init='k-means++', verbose=1, n_jobs=3, max_iter=10, n_init=1)\n",
    "classes = clus.fit_predict(tx)"
   ]
  },
  {
   "cell_type": "code",
   "execution_count": 9,
   "metadata": {
    "collapsed": false
   },
   "outputs": [],
   "source": [
    "from sklearn import svm\n",
    "from sklearn.metrics import roc_curve\n",
    "from sklearn.metrics import auc_score"
   ]
  },
  {
   "cell_type": "code",
   "execution_count": null,
   "metadata": {
    "collapsed": false
   },
   "outputs": [],
   "source": [
    "clf = svm.SVC(verbose=True, max_iter=1, class_weight={0:0, 1:1})\n",
    "clf.fit(tx, newlabels)"
   ]
  },
  {
   "cell_type": "code",
   "execution_count": 40,
   "metadata": {
    "collapsed": false
   },
   "outputs": [],
   "source": [
    "tprobs = clf.decision_function(tx)\n",
    "# vprobs = clf.decision_function(vx)\n",
    "# valprobs = clf.decision_function(valx)"
   ]
  },
  {
   "cell_type": "code",
   "execution_count": 19,
   "metadata": {
    "collapsed": false
   },
   "outputs": [
    {
     "name": "stdout",
     "output_type": "stream",
     "text": [
      "[ 0.03918062  0.05856521  0.05856521 ...,  0.02660812  0.02660812\n",
      "  0.02660812]\n"
     ]
    }
   ],
   "source": [
    "print tprobs"
   ]
  },
  {
   "cell_type": "code",
   "execution_count": 23,
   "metadata": {
    "collapsed": false
   },
   "outputs": [
    {
     "name": "stdout",
     "output_type": "stream",
     "text": [
      "0.939759976382\n"
     ]
    },
    {
     "name": "stderr",
     "output_type": "stream",
     "text": [
      "/home/biswajit/anaconda/lib/python2.7/site-packages/sklearn/utils/__init__.py:93: DeprecationWarning: Function auc_score is deprecated; Function 'auc_score' has been renamed to 'roc_auc_score' and will be removed in release 0.16.\n",
      "  warnings.warn(msg, category=DeprecationWarning)\n"
     ]
    },
    {
     "data": {
      "text/plain": [
       "[<matplotlib.lines.Line2D at 0x7fa708e73650>]"
      ]
     },
     "metadata": {},
     "output_type": "display_data"
    },
    {
     "data": {
      "image/png": "[encoded data removed]",
      "text/plain": [
       "<matplotlib.figure.Figure at 0x7fa740db3290>"
      ]
     },
     "metadata": {},
     "output_type": "display_data"
    }
   ],
   "source": [
    "yscore = tprobs.ravel()\n",
    "fpr, tpr, thresh = roc_curve(ty, yscore)\n",
    "auc = auc_score(ty, yscore)\n",
    "print auc\n",
    "display(pyplot.plot(1-fpr, tpr,))\n",
    "\n",
    "# yscore = vprobs.ravel()\n",
    "# fpr, tpr, thresh = roc_curve(vy, yscore)\n",
    "# auc = auc_score(vy, yscore)\n",
    "# print auc\n",
    "# display(pyplot.plot(1-fpr, tpr,))"
   ]
  },
  {
   "cell_type": "code",
   "execution_count": 45,
   "metadata": {
    "collapsed": false
   },
   "outputs": [
    {
     "name": "stdout",
     "output_type": "stream",
     "text": [
      "0.406092323258\n",
      "8151\n"
     ]
    }
   ],
   "source": [
    "print 'C 1'\n",
    "print np.percentile(valprobs.ravel(), 99)\n",
    "print np.percentile(valprobs.ravel(), 99.5)\n",
    "\n",
    "thresh = np.percentile(valprobs.ravel(), 99.9)\n",
    "# thresh = 0.37\n",
    "print thresh\n",
    "pred = np.int32(valprobs.ravel() >= thresh)\n",
    "print np.sum(pred)\n",
    "\n",
    "print '******\\nC 2'\n",
    "print np.percentile(valprobs1.ravel(), 99)\n",
    "print np.percentile(valprobs1.ravel(), 99.5)\n",
    "\n",
    "thresh1 = np.percentile(valprobs1.ravel(), 99.3)\n",
    "# thresh = 0.37\n",
    "print thresh1\n",
    "pred1 = np.int32(valprobs1.ravel() >= thresh1)\n",
    "print np.sum(pred1)\n",
    "\n",
    "print '*****'\n",
    "\n",
    "pred = np.int32(pred1+pred>0)\n",
    "# pred = pred1\n",
    "\n",
    "\n",
    "outfile = open('out.csv', 'w')\n",
    "dids = set()\n",
    "alltimes = [nan for i in xrange(5000)]\n",
    "outfile.write('ID,TIME,LABEL,ICU\\n')\n",
    "for i in xrange(valx.shape[0]):\n",
    "    if np.int64(valyall[i,2]) == 1:\n",
    "        outfile.write(str(valyall[i,0])+','+str(valyall[i,1])+','+str(pred[i])+',1\\n')\n",
    "        if pred[i] == 1:\n",
    "            tid = valyall[i,0]\n",
    "            dids.add(tid)\n",
    "            if np.isnan(alltimes[tid]):\n",
    "                alltimes[tid] = valyall[i,1]\n",
    "            \n",
    "outfile.close()\n",
    "print len(dids)\n",
    "print np.nanmedian(alltimes)/3600"
   ]
  },
  {
   "cell_type": "code",
   "execution_count": 26,
   "metadata": {
    "collapsed": false,
    "scrolled": true
   },
   "outputs": [],
   "source": [
    "# for i in vprobs[np.where(vprobs.ravel()>=thresh)]:\n",
    "#     print i"
   ]
  },
  {
   "cell_type": "code",
   "execution_count": 38,
   "metadata": {
    "collapsed": false
   },
   "outputs": [
    {
     "name": "stdout",
     "output_type": "stream",
     "text": [
      "C 1\n",
      "0.444775834728\n",
      "0.468292352666\n",
      "0.505818388697\n",
      "200\n",
      "******\n",
      "C 2\n",
      "0.410538999118\n",
      "0.451752378844\n",
      "0.440680311185\n",
      "1401\n",
      "*****\n",
      "22\n",
      "26.1708333333\n"
     ]
    }
   ],
   "source": [
    "print 'C 1'\n",
    "print np.percentile(valprobs.ravel(), 99)\n",
    "print np.percentile(valprobs.ravel(), 99.5)\n",
    "\n",
    "thresh = np.percentile(valprobs.ravel(), 99.9)\n",
    "# thresh = 0.37\n",
    "print thresh\n",
    "pred = np.int32(valprobs.ravel() >= thresh)\n",
    "print np.sum(pred)\n",
    "\n",
    "print '******\\nC 2'\n",
    "print np.percentile(valprobs1.ravel(), 99)\n",
    "print np.percentile(valprobs1.ravel(), 99.5)\n",
    "\n",
    "thresh1 = np.percentile(valprobs1.ravel(), 99.3)\n",
    "# thresh = 0.37\n",
    "print thresh1\n",
    "pred1 = np.int32(valprobs1.ravel() >= thresh1)\n",
    "print np.sum(pred1)\n",
    "\n",
    "print '*****'\n",
    "\n",
    "pred = np.int32(pred1+pred>0)\n",
    "# pred = pred1\n",
    "\n",
    "\n",
    "outfile = open('output.csv', 'w')\n",
    "dids = set()\n",
    "alltimes = [nan for i in xrange(5000)]\n",
    "# outfile.write('ID,TIME,LABEL\\n')\n",
    "for i in xrange(valx.shape[0]):\n",
    "    if np.int64(valyall[i,2]) == 1:\n",
    "        outfile.write(str(valyall[i,0])+','+str(valyall[i,1])+','+str(pred[i])+'\\n')\n",
    "        if pred[i] == 1:\n",
    "            tid = valyall[i,0]\n",
    "            dids.add(tid)\n",
    "            if np.isnan(alltimes[tid]):\n",
    "                alltimes[tid] = valyall[i,1]\n",
    "            \n",
    "outfile.close()\n",
    "print len(dids)\n",
    "print np.nanmedian(alltimes)/3600"
   ]
  },
  {
   "cell_type": "code",
   "execution_count": 46,
   "metadata": {
    "collapsed": false,
    "scrolled": true
   },
   "outputs": [
    {
     "name": "stdout",
     "output_type": "stream",
     "text": [
      "tp :  29 , tn :  809 , fp :  5 , fn :  27\n",
      "sensitivity :  0.517857142857 , specificity :  0.993857493857\n",
      "accuracy :  0.963218390805 median prediction time :  37.5416666667\n",
      "finalScore :  51.1962733838\n"
     ]
    },
    {
     "data": {
      "text/plain": [
       "(0.5178571428571429,\n",
       " 0.9938574938574939,\n",
       " 0.9632183908045977,\n",
       " 37.541666666666664,\n",
       " 51.1962733837734)"
      ]
     },
     "execution_count": 46,
     "metadata": {},
     "output_type": "execute_result"
    }
   ],
   "source": [
    "reload(V)\n",
    "V.validate('out.csv', './Training_Dataset/id_label_train.csv')"
   ]
  }
 ],
 "metadata": {
  "kernelspec": {
   "display_name": "Python 2",
   "language": "python",
   "name": "python2"
  },
  "language_info": {
   "codemirror_mode": {
    "name": "ipython",
    "version": 2
   },
   "file_extension": ".py",
   "mimetype": "text/x-python",
   "name": "python",
   "nbconvert_exporter": "python",
   "pygments_lexer": "ipython2",
   "version": "2.7.10"
  }
 },
 "nbformat": 4,
 "nbformat_minor": 0
}
