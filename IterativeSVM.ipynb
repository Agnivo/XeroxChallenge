{
 "cells": [
  {
   "cell_type": "code",
   "execution_count": 34,
   "metadata": {
    "collapsed": false
   },
   "outputs": [
    {
     "name": "stdout",
     "output_type": "stream",
     "text": [
      "Populating the interactive namespace from numpy and matplotlib\n"
     ]
    },
    {
     "name": "stderr",
     "output_type": "stream",
     "text": [
      "WARNING: pylab import has clobbered these variables: ['clf', 'TH']\n",
      "`%matplotlib` prevents importing * from pylab and numpy\n"
     ]
    }
   ],
   "source": [
    "%pylab inline\n",
    "\n",
    "from library import lasagnennet as LN\n",
    "from library import features as F\n",
    "from library import scale as S\n",
    "from library import validate as V\n",
    "import numpy as np\n",
    "import theano as TH\n",
    "import pandas as pa\n",
    "import lasagne as L\n",
    "import sys"
   ]
  },
  {
   "cell_type": "code",
   "execution_count": 2,
   "metadata": {
    "collapsed": false,
    "scrolled": true
   },
   "outputs": [],
   "source": [
    "train_feats = pa.read_csv('full_train_feats.csv')\n",
    "train_targets = pa.read_csv('full_train_targets.csv')\n",
    "# val_feats = pa.read_csv('validation_feats.csv')\n",
    "# val_targets = pa.read_csv('validation_targets.csv')\n",
    "vval_feats = pa.read_csv('val_train_feats.csv')\n",
    "vval_targets = pa.read_csv('val_train_targets.csv')"
   ]
  },
  {
   "cell_type": "code",
   "execution_count": 3,
   "metadata": {
    "collapsed": true
   },
   "outputs": [],
   "source": [
    "tx = np.asarray(train_feats, dtype=np.float32)\n",
    "tyall = np.asarray(train_targets, dtype=np.int32)\n",
    "ty = np.asarray(train_targets['LABEL'], dtype=np.int32).reshape(-1, 1)\n",
    "# vx = np.asarray(val_feats, dtype=np.float32)\n",
    "# vyall = np.asarray(val_targets, dtype=np.float32)\n",
    "# vy = np.asarray(val_targets['LABEL'], dtype=np.float32).reshape(-1, 1)"
   ]
  },
  {
   "cell_type": "code",
   "execution_count": 4,
   "metadata": {
    "collapsed": false
   },
   "outputs": [],
   "source": [
    "valx = np.asarray(vval_feats, dtype=np.float32)\n",
    "valyall = np.asarray(vval_targets, dtype=np.int64)"
   ]
  },
  {
   "cell_type": "code",
   "execution_count": 5,
   "metadata": {
    "collapsed": true
   },
   "outputs": [],
   "source": [
    "ty = ty.ravel()\n",
    "# vy = vy.ravel()"
   ]
  },
  {
   "cell_type": "code",
   "execution_count": 6,
   "metadata": {
    "collapsed": false
   },
   "outputs": [
    {
     "name": "stdout",
     "output_type": "stream",
     "text": [
      "(628437, 129) (628437, 4) (628437,)\n"
     ]
    }
   ],
   "source": [
    "print tx.shape, tyall.shape, ty.shape #, vx.shape, vyall.shape, vy.shape"
   ]
  },
  {
   "cell_type": "code",
   "execution_count": 7,
   "metadata": {
    "collapsed": false
   },
   "outputs": [
    {
     "name": "stdout",
     "output_type": "stream",
     "text": [
      "[     0  16385 557058 ..., 494250 516094 468309]\n",
      "246\n"
     ]
    }
   ],
   "source": [
    "maxtimes = [0 for i in xrange(5000)]\n",
    "for it, i in enumerate(tyall):\n",
    "    maxtimes[i[0]] = max(maxtimes[i[0]], it)\n",
    "maxtimes = set(maxtimes)\n",
    "maxtimes = np.asarray([i for i in maxtimes])\n",
    "print maxtimes\n",
    "lasttimes = [0 for i in xrange(tyall.shape[0])]\n",
    "for i in maxtimes:\n",
    "    if tyall[i,2] == 1:\n",
    "        lasttimes[i] = 1\n",
    "lasttimes = np.asarray(lasttimes)\n",
    "print np.sum(lasttimes)"
   ]
  },
  {
   "cell_type": "code",
   "execution_count": 11,
   "metadata": {
    "collapsed": false
   },
   "outputs": [
    {
     "name": "stdout",
     "output_type": "stream",
     "text": [
      "[[   1    1]\n",
      " [   2    1]\n",
      " [   3    1]\n",
      " ..., \n",
      " [3592    0]\n",
      " [3593    0]\n",
      " [3594    0]]\n"
     ]
    }
   ],
   "source": [
    "tlabels = np.asarray(pa.read_csv('Training_Dataset/id_label_train.csv'))\n",
    "print tlabels"
   ]
  },
  {
   "cell_type": "code",
   "execution_count": 12,
   "metadata": {
    "collapsed": false
   },
   "outputs": [],
   "source": [
    "from sklearn import svm\n",
    "from sklearn.metrics import roc_curve\n",
    "from sklearn.metrics import roc_auc_score"
   ]
  },
  {
   "cell_type": "code",
   "execution_count": 9,
   "metadata": {
    "collapsed": false
   },
   "outputs": [],
   "source": [
    "clf = svm.SVC(verbose=True, max_iter=200)\n",
    "clf.fit(tx, ty)"
   ]
  },
  {
   "cell_type": "code",
   "execution_count": 74,
   "metadata": {
    "collapsed": false
   },
   "outputs": [],
   "source": [
    "tprobs = clf.decision_function(tx)\n",
    "# vprobs = clf.decision_function(vx)\n",
    "valprobs = clf.decision_function(valx)"
   ]
  },
  {
   "cell_type": "code",
   "execution_count": 92,
   "metadata": {
    "collapsed": false
   },
   "outputs": [
    {
     "name": "stdout",
     "output_type": "stream",
     "text": [
      "4405\n"
     ]
    }
   ],
   "source": [
    "# thresh = np.percentile(tprobs, 99.3)\n",
    "thresh = 0.993\n",
    "newlabels = tprobs >= thresh\n",
    "newlabels = newlabels.ravel() & (ty==1)\n",
    "# newlabels = newlabels | (lasttimes==1)\n",
    "newlabels = np.int32(newlabels)\n",
    "print np.sum(newlabels)"
   ]
  },
  {
   "cell_type": "code",
   "execution_count": 93,
   "metadata": {
    "collapsed": false
   },
   "outputs": [
    {
     "name": "stdout",
     "output_type": "stream",
     "text": [
      "[LibSVM]"
     ]
    },
    {
     "data": {
      "text/plain": [
       "SVC(C=1.0, cache_size=200, class_weight={0: 1, 1: 10}, coef0=0.0, degree=3,\n",
       "  gamma=0.0, kernel='rbf', max_iter=200, probability=False,\n",
       "  random_state=None, shrinking=True, tol=0.001, verbose=True)"
      ]
     },
     "execution_count": 93,
     "metadata": {},
     "output_type": "execute_result"
    }
   ],
   "source": [
    "clf1 = svm.SVC(verbose=True, max_iter=200, class_weight={0:1, 1:10})\n",
    "clf1.fit(tx, newlabels)"
   ]
  },
  {
   "cell_type": "code",
   "execution_count": 88,
   "metadata": {
    "collapsed": true
   },
   "outputs": [],
   "source": [
    "# tprobs = clf1.decision_function(tx)\n",
    "# vprobs = clf1.decision_function(vx)\n",
    "valprobs = clf1.decision_function(valx)"
   ]
  },
  {
   "cell_type": "code",
   "execution_count": 95,
   "metadata": {
    "collapsed": false
   },
   "outputs": [
    {
     "name": "stdout",
     "output_type": "stream",
     "text": [
      "Done 0 ...\n",
      "737184\n",
      "sensitivity =  0.0734693877551\n",
      "specificity =  0.994625261272\n",
      "Done 1 ...\n",
      "1773403\n",
      "sensitivity =  0.134693877551\n",
      "specificity =  0.999104210212\n"
     ]
    }
   ],
   "source": [
    "num_examples = ty.shape[0]\n",
    "weights = np.asarray([1 for i in xrange(num_examples)])\n",
    "for i in xrange(num_examples):\n",
    "    if ty[i] == 1:\n",
    "        weights[i] = 1.5\n",
    "\n",
    "for i in xrange(2):\n",
    "    clf2 = svm.SVC(max_iter=200)\n",
    "    clf2.fit(tx, ty, weights)\n",
    "    prob = clf2.decision_function(tx)\n",
    "    print 'Done {} ...'.format(i)\n",
    "    \n",
    "    maxs = np.asarray([nan for j in xrange(tlabels.shape[0])])\n",
    "    for j in xrange(num_examples):\n",
    "        ind = tyall[j,0]-1\n",
    "        maxs[ind] = np.nanmax((maxs[ind], prob[j]))\n",
    "    \n",
    "    thresh = np.percentile(maxs, 99)\n",
    "\n",
    "    pred = prob >= thresh\n",
    "    for j in xrange(num_examples):\n",
    "        if ty[j] == 0 and pred[j]:\n",
    "            weights[j] = min(100, weights[j]*10)\n",
    "        if ty[j] == 1 and pred[j]:\n",
    "            weights[j] = min(1000, weights[j]*100)\n",
    "        if ty[j] == 1 and not pred[j]:\n",
    "            weights[j] = max(1, weights[j]/2)\n",
    "    \n",
    "    print np.sum(weights)\n",
    "    \n",
    "    maxs = np.int32(maxs>=thresh)\n",
    "    \n",
    "    tp = 0\n",
    "    fp = 0\n",
    "    tn = 0\n",
    "    fn = 0\n",
    "    for j in xrange(maxs.shape[0]):\n",
    "        if maxs[j] == 1:\n",
    "            if tlabels[j,1] == 1:\n",
    "                tp += 1\n",
    "            else:\n",
    "                fp += 1\n",
    "        else:\n",
    "            if tlabels[j,1] == 0:\n",
    "                tn += 1\n",
    "            else:\n",
    "                fn += 1\n",
    "    \n",
    "    print 'sensitivity = ', tp*1.0/(tp+fn)\n",
    "    print 'specificity = ', tn*1.0/(tn+fp)\n",
    "    sys.stdout.flush()"
   ]
  },
  {
   "cell_type": "code",
   "execution_count": 96,
   "metadata": {
    "collapsed": false
   },
   "outputs": [
    {
     "name": "stdout",
     "output_type": "stream",
     "text": [
      "0.994191586806\n"
     ]
    }
   ],
   "source": [
    "# tprobs = clf2.decision_function(tx)\n",
    "# vprobs = clf.decision_function(vx)\n",
    "valprobs = clf2.decision_function(valx)\n",
    "print thresh"
   ]
  },
  {
   "cell_type": "code",
   "execution_count": 20,
   "metadata": {
    "collapsed": false
   },
   "outputs": [
    {
     "name": "stdout",
     "output_type": "stream",
     "text": [
      "0.678517218615\n"
     ]
    },
    {
     "name": "stderr",
     "output_type": "stream",
     "text": [
      "/home/biswajit/anaconda/lib/python2.7/site-packages/sklearn/utils/__init__.py:93: DeprecationWarning: Function auc_score is deprecated; Function 'auc_score' has been renamed to 'roc_auc_score' and will be removed in release 0.16.\n",
      "  warnings.warn(msg, category=DeprecationWarning)\n"
     ]
    },
    {
     "data": {
      "text/plain": [
       "[<matplotlib.lines.Line2D at 0x7f2f37ee7950>]"
      ]
     },
     "metadata": {},
     "output_type": "display_data"
    },
    {
     "name": "stdout",
     "output_type": "stream",
     "text": [
      "0.695630173164\n"
     ]
    },
    {
     "name": "stderr",
     "output_type": "stream",
     "text": [
      "/home/biswajit/anaconda/lib/python2.7/site-packages/sklearn/utils/__init__.py:93: DeprecationWarning: Function auc_score is deprecated; Function 'auc_score' has been renamed to 'roc_auc_score' and will be removed in release 0.16.\n",
      "  warnings.warn(msg, category=DeprecationWarning)\n"
     ]
    },
    {
     "data": {
      "text/plain": [
       "[<matplotlib.lines.Line2D at 0x7f2f84ee9250>]"
      ]
     },
     "metadata": {},
     "output_type": "display_data"
    },
    {
     "data": {
      "image/png": "[encoded data removed]",
      "text/plain": [
       "<matplotlib.figure.Figure at 0x7f2f58023fd0>"
      ]
     },
     "metadata": {},
     "output_type": "display_data"
    }
   ],
   "source": [
    "yscore = tprobs.ravel()\n",
    "fpr, tpr, thresh = roc_curve(ty, yscore)\n",
    "auc = auc_score(ty, yscore)\n",
    "print auc\n",
    "display(pyplot.plot(1-fpr, tpr,))\n",
    "\n",
    "yscore = vprobs.ravel()\n",
    "fpr, tpr, thresh = roc_curve(vy, yscore)\n",
    "auc = auc_score(vy, yscore)\n",
    "print auc\n",
    "display(pyplot.plot(1-fpr, tpr,))"
   ]
  },
  {
   "cell_type": "code",
   "execution_count": 97,
   "metadata": {
    "collapsed": false
   },
   "outputs": [
    {
     "name": "stdout",
     "output_type": "stream",
     "text": [
      "0.99\n",
      "3715\n",
      "tp :  22 , tn :  1105 , fp :  11 , fn :  60\n",
      "sensitivity :  0.268292682927 , specificity :  0.990143369176\n",
      "accuracy :  0.940734557596 median prediction time :  76.5311111111\n",
      "finalScore :  40.1936358073\n"
     ]
    },
    {
     "data": {
      "text/plain": [
       "(0.2682926829268293,\n",
       " 0.9901433691756273,\n",
       " 0.9407345575959933,\n",
       " 76.531111111111116,\n",
       " 40.19363580732585)"
      ]
     },
     "execution_count": 97,
     "metadata": {},
     "output_type": "execute_result"
    }
   ],
   "source": [
    "# thresh = np.percentile(valprobs.ravel(), 99)\n",
    "thresh = 0.99\n",
    "print thresh\n",
    "pred = np.int32(valprobs.ravel() >= thresh)\n",
    "print np.sum(pred)\n",
    "\n",
    "outfile = open('out.csv', 'w')\n",
    "outfile.write('ID,TIME,LABEL,ICU\\n')\n",
    "for i in xrange(valx.shape[0]):\n",
    "    if np.int64(valyall[i,2]) == 1:\n",
    "        outfile.write(str(valyall[i,0])+','+str(valyall[i,1])+','+str(pred[i])+',1\\n')\n",
    "outfile.close()\n",
    "\n",
    "V.validate('out.csv', './Validation_Data/id_label_val.csv')"
   ]
  },
  {
   "cell_type": "code",
   "execution_count": 46,
   "metadata": {
    "collapsed": false,
    "scrolled": true
   },
   "outputs": [
    {
     "name": "stdout",
     "output_type": "stream",
     "text": [
      "0.759480724715\n",
      "0.759055356111\n"
     ]
    }
   ],
   "source": [
    "print np.percentile(valprobs.ravel(), 99.5)\n",
    "print np.percentile(valprobs.ravel(), 99.3)"
   ]
  },
  {
   "cell_type": "code",
   "execution_count": 11,
   "metadata": {
    "collapsed": false
   },
   "outputs": [
    {
     "name": "stdout",
     "output_type": "stream",
     "text": [
      "0.759\n",
      "1468\n"
     ]
    }
   ],
   "source": [
    "# thresh = np.percentile(valprobs.ravel(), 99.3)\n",
    "thresh = 0.7590\n",
    "print thresh\n",
    "pred = np.int32(valprobs.ravel() >= thresh)\n",
    "print np.sum(pred)\n",
    "\n",
    "outfile = open('output.csv', 'w')\n",
    "# outfile.write('ID,TIME,LABEL\\n')\n",
    "for i in xrange(valx.shape[0]):\n",
    "    if np.int64(valyall[i,2]) == 1:\n",
    "        outfile.write(str(valyall[i,0])+','+str(valyall[i,1])+','+str(pred[i])+'\\n')\n",
    "outfile.close()"
   ]
  },
  {
   "cell_type": "code",
   "execution_count": 53,
   "metadata": {
    "collapsed": false,
    "scrolled": true
   },
   "outputs": [
    {
     "name": "stdout",
     "output_type": "stream",
     "text": [
      "tp :  22 , tn :  1105 , fp :  11 , fn :  60\n",
      "sensitivity :  0.268292682927 , specificity :  0.990143369176\n",
      "accuracy :  0.940734557596 median prediction time :  76.5311111111\n",
      "finalScore :  40.1936358073\n"
     ]
    },
    {
     "data": {
      "text/plain": [
       "(0.2682926829268293,\n",
       " 0.9901433691756273,\n",
       " 0.9407345575959933,\n",
       " 76.531111111111116,\n",
       " 40.19363580732585)"
      ]
     },
     "execution_count": 53,
     "metadata": {},
     "output_type": "execute_result"
    }
   ],
   "source": [
    "reload(V)\n",
    "V.validate('out.csv', './Validation_Data/id_label_val.csv')"
   ]
  }
 ],
 "metadata": {
  "kernelspec": {
   "display_name": "Python 2",
   "language": "python",
   "name": "python2"
  },
  "language_info": {
   "codemirror_mode": {
    "name": "ipython",
    "version": 2
   },
   "file_extension": ".py",
   "mimetype": "text/x-python",
   "name": "python",
   "nbconvert_exporter": "python",
   "pygments_lexer": "ipython2",
   "version": "2.7.10"
  }
 },
 "nbformat": 4,
 "nbformat_minor": 0
}
