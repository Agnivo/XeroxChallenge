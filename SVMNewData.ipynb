{
 "cells": [
  {
   "cell_type": "code",
   "execution_count": 1,
   "metadata": {
    "collapsed": false
   },
   "outputs": [
    {
     "name": "stdout",
     "output_type": "stream",
     "text": [
      "Populating the interactive namespace from numpy and matplotlib\n"
     ]
    }
   ],
   "source": [
    "%pylab inline\n",
    "\n",
    "from library import lasagnennet as LN\n",
    "from library import features as F\n",
    "from library import scale as S\n",
    "from library import validate as V\n",
    "import numpy as np\n",
    "import theano as TH\n",
    "import pandas as pa\n",
    "import lasagne as L"
   ]
  },
  {
   "cell_type": "code",
   "execution_count": 2,
   "metadata": {
    "collapsed": false,
    "scrolled": true
   },
   "outputs": [],
   "source": [
    "train_feats = pa.read_csv('Training_Dataset/train_feats.csv')\n",
    "train_targets = pa.read_csv('Training_Dataset/train_targets.csv')\n",
    "# val_feats = pa.read_csv('validation_feats.csv')\n",
    "# val_targets = pa.read_csv('validation_targets.csv')\n",
    "# vval_feats = pa.read_csv('val_train_feats.csv')\n",
    "# vval_targets = pa.read_csv('val_train_targets.csv')"
   ]
  },
  {
   "cell_type": "code",
   "execution_count": 3,
   "metadata": {
    "collapsed": true
   },
   "outputs": [],
   "source": [
    "tx = np.asarray(train_feats, dtype=np.float32)\n",
    "tyall = np.asarray(train_targets, dtype=np.float32)\n",
    "ty = np.asarray(train_targets['LABEL'], dtype=np.float32).reshape(-1, 1)\n",
    "# vx = np.asarray(val_feats, dtype=np.float32)\n",
    "# vyall = np.asarray(val_targets, dtype=np.float32)\n",
    "# vy = np.asarray(val_targets['LABEL'], dtype=np.float32).reshape(-1, 1)"
   ]
  },
  {
   "cell_type": "code",
   "execution_count": 4,
   "metadata": {
    "collapsed": true
   },
   "outputs": [],
   "source": [
    "tlabels = np.asarray(pa.read_csv('Training_Dataset/id_label_train.csv'))"
   ]
  },
  {
   "cell_type": "code",
   "execution_count": 4,
   "metadata": {
    "collapsed": false
   },
   "outputs": [],
   "source": [
    "valx = np.asarray(vval_feats, dtype=np.float32)\n",
    "valyall = np.asarray(vval_targets, dtype=np.int64)"
   ]
  },
  {
   "cell_type": "code",
   "execution_count": 5,
   "metadata": {
    "collapsed": true
   },
   "outputs": [],
   "source": [
    "ty = ty.ravel()\n",
    "# vy = vy.ravel()"
   ]
  },
  {
   "cell_type": "code",
   "execution_count": 6,
   "metadata": {
    "collapsed": false
   },
   "outputs": [
    {
     "name": "stdout",
     "output_type": "stream",
     "text": [
      "(368155, 129) (368155, 4) (368155,)\n"
     ]
    }
   ],
   "source": [
    "print tx.shape, tyall.shape, ty.shape #, vx.shape, vyall.shape, vy.shape"
   ]
  },
  {
   "cell_type": "code",
   "execution_count": 7,
   "metadata": {
    "collapsed": false
   },
   "outputs": [],
   "source": [
    "from sklearn import svm\n",
    "from sklearn.metrics import roc_curve\n",
    "from sklearn.metrics import roc_auc_score"
   ]
  },
  {
   "cell_type": "code",
   "execution_count": 49,
   "metadata": {
    "collapsed": false
   },
   "outputs": [
    {
     "name": "stdout",
     "output_type": "stream",
     "text": [
      "[LibSVM]"
     ]
    },
    {
     "data": {
      "text/plain": [
       "SVC(C=1.0, cache_size=200, class_weight={0: 1.0, 1: 0.8}, coef0=0.0, degree=3,\n",
       "  gamma=0.0, kernel='rbf', max_iter=200, probability=False,\n",
       "  random_state=None, shrinking=True, tol=0.001, verbose=True)"
      ]
     },
     "execution_count": 49,
     "metadata": {},
     "output_type": "execute_result"
    }
   ],
   "source": [
    "clf = svm.SVC(verbose=True, max_iter=200, class_weight={0:1.0, 1:0.8})\n",
    "clf.fit(tx, ty)"
   ]
  },
  {
   "cell_type": "code",
   "execution_count": 50,
   "metadata": {
    "collapsed": false
   },
   "outputs": [],
   "source": [
    "tprobs = clf.decision_function(tx)\n",
    "# vprobs = clf.decision_function(vx)\n",
    "# valprobs = clf.decision_function(valx)"
   ]
  },
  {
   "cell_type": "code",
   "execution_count": 51,
   "metadata": {
    "collapsed": false
   },
   "outputs": [
    {
     "name": "stdout",
     "output_type": "stream",
     "text": [
      "3 3316 33 242\n",
      "sensitivity =  0.0122448979592\n",
      "specificity =  0.990146312332\n"
     ]
    }
   ],
   "source": [
    "num_examples = tx.shape[0]\n",
    "maxs = np.asarray([nan for j in xrange(tlabels.shape[0])])\n",
    "for j in xrange(num_examples):\n",
    "    ind = tyall[j,0]-1\n",
    "    maxs[ind] = np.nanmax((maxs[ind], tprobs[j]))\n",
    "\n",
    "thresh = np.percentile(maxs, 99)\n",
    "\n",
    "maxs = np.int32(maxs>=thresh)\n",
    "\n",
    "tp = 0\n",
    "fp = 0\n",
    "tn = 0\n",
    "fn = 0\n",
    "for j in xrange(maxs.shape[0]):\n",
    "    if maxs[j] == 1:\n",
    "        if tlabels[j,1] == 1:\n",
    "            tp += 1\n",
    "        else:\n",
    "            fp += 1\n",
    "    else:\n",
    "        if tlabels[j,1] == 0:\n",
    "            tn += 1\n",
    "        else:\n",
    "            fn += 1\n",
    "\n",
    "print tp, tn, fp, fn\n",
    "print 'sensitivity = ', tp*1.0/(tp+fn)\n",
    "print 'specificity = ', tn*1.0/(tn+fp)\n",
    "sys.stdout.flush()"
   ]
  },
  {
   "cell_type": "code",
   "execution_count": 32,
   "metadata": {
    "collapsed": false
   },
   "outputs": [
    {
     "name": "stdout",
     "output_type": "stream",
     "text": [
      "0.572237792593\n"
     ]
    },
    {
     "data": {
      "text/plain": [
       "[<matplotlib.lines.Line2D at 0x7f9147a7b810>]"
      ]
     },
     "metadata": {},
     "output_type": "display_data"
    },
    {
     "data": {
      "image/png": "[encoded data removed]",
      "text/plain": [
       "<matplotlib.figure.Figure at 0x7f9147ab9850>"
      ]
     },
     "metadata": {},
     "output_type": "display_data"
    }
   ],
   "source": [
    "yscore = tprobs.ravel()\n",
    "fpr, tpr, thresh = roc_curve(ty, yscore)\n",
    "auc = roc_auc_score(ty, yscore)\n",
    "print auc\n",
    "display(pyplot.plot(1-fpr, tpr,))\n",
    "\n",
    "# yscore = vprobs.ravel()\n",
    "# fpr, tpr, thresh = roc_curve(vy, yscore)\n",
    "# auc = auc_score(vy, yscore)\n",
    "# print auc\n",
    "# display(pyplot.plot(1-fpr, tpr,))"
   ]
  },
  {
   "cell_type": "code",
   "execution_count": 21,
   "metadata": {
    "collapsed": false
   },
   "outputs": [
    {
     "name": "stdout",
     "output_type": "stream",
     "text": [
      "0.759\n",
      "1468\n"
     ]
    }
   ],
   "source": [
    "# thresh = np.percentile(valprobs.ravel(), 99.7)\n",
    "thresh = 0.7590\n",
    "print thresh\n",
    "pred = np.int32(valprobs.ravel() >= thresh)\n",
    "print np.sum(pred)\n",
    "\n",
    "outfile = open('out.csv', 'w')\n",
    "outfile.write('ID,TIME,LABEL,ICU\\n')\n",
    "for i in xrange(valx.shape[0]):\n",
    "    if np.int64(valyall[i,2]) == 1:\n",
    "        outfile.write(str(valyall[i,0])+','+str(valyall[i,1])+','+str(pred[i])+',1\\n')\n",
    "outfile.close()"
   ]
  },
  {
   "cell_type": "code",
   "execution_count": 46,
   "metadata": {
    "collapsed": false,
    "scrolled": true
   },
   "outputs": [
    {
     "name": "stdout",
     "output_type": "stream",
     "text": [
      "0.759480724715\n",
      "0.759055356111\n"
     ]
    }
   ],
   "source": [
    "print np.percentile(valprobs.ravel(), 99.5)\n",
    "print np.percentile(valprobs.ravel(), 99.3)"
   ]
  },
  {
   "cell_type": "code",
   "execution_count": 22,
   "metadata": {
    "collapsed": false
   },
   "outputs": [
    {
     "name": "stdout",
     "output_type": "stream",
     "text": [
      "0.759\n",
      "1468\n"
     ]
    }
   ],
   "source": [
    "# thresh = np.percentile(valprobs.ravel(), 99.3)\n",
    "thresh = 0.7590\n",
    "print thresh\n",
    "pred = np.int32(valprobs.ravel() >= thresh)\n",
    "print np.sum(pred)\n",
    "\n",
    "outfile = open('output.csv', 'w')\n",
    "# outfile.write('ID,TIME,LABEL\\n')\n",
    "for i in xrange(valx.shape[0]):\n",
    "    if np.int64(valyall[i,2]) == 1:\n",
    "        outfile.write(str(valyall[i,0])+','+str(valyall[i,1])+','+str(pred[i])+'\\n')\n",
    "outfile.close()"
   ]
  },
  {
   "cell_type": "code",
   "execution_count": 23,
   "metadata": {
    "collapsed": false,
    "scrolled": true
   },
   "outputs": [
    {
     "name": "stdout",
     "output_type": "stream",
     "text": [
      "tp :  14 , tn :  1111 , fp :  5 , fn :  68\n",
      "sensitivity :  0.170731707317 , specificity :  0.995519713262\n",
      "accuracy :  0.939065108514 median prediction time :  93.6519444444\n",
      "finalScore :  35.5647346796\n"
     ]
    },
    {
     "data": {
      "text/plain": [
       "(0.17073170731707318,\n",
       " 0.9955197132616488,\n",
       " 0.9390651085141903,\n",
       " 93.651944444444439,\n",
       " 35.56473467960488)"
      ]
     },
     "execution_count": 23,
     "metadata": {},
     "output_type": "execute_result"
    }
   ],
   "source": [
    "reload(V)\n",
    "V.validate('out.csv', './Validation_Data/id_label_val.csv')"
   ]
  }
 ],
 "metadata": {
  "kernelspec": {
   "display_name": "Python 2",
   "language": "python",
   "name": "python2"
  },
  "language_info": {
   "codemirror_mode": {
    "name": "ipython",
    "version": 2
   },
   "file_extension": ".py",
   "mimetype": "text/x-python",
   "name": "python",
   "nbconvert_exporter": "python",
   "pygments_lexer": "ipython2",
   "version": "2.7.10"
  }
 },
 "nbformat": 4,
 "nbformat_minor": 0
}
