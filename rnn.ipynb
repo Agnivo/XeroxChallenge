{
 "cells": [
  {
   "cell_type": "code",
   "execution_count": 30,
   "metadata": {
    "collapsed": false
   },
   "outputs": [
    {
     "name": "stdout",
     "output_type": "stream",
     "text": [
      "Populating the interactive namespace from numpy and matplotlib\n"
     ]
    },
    {
     "name": "stderr",
     "output_type": "stream",
     "text": [
      "WARNING: pylab import has clobbered these variables: ['TH']\n",
      "`%matplotlib` prevents importing * from pylab and numpy\n"
     ]
    }
   ],
   "source": [
    "%pylab inline\n",
    "\n",
    "import numpy as np\n",
    "import pandas as pa\n",
    "import theano as th\n",
    "import lasagne as L\n",
    "import matplotlib.pyplot as py"
   ]
  },
  {
   "cell_type": "code",
   "execution_count": 3,
   "metadata": {
    "collapsed": true
   },
   "outputs": [],
   "source": [
    "vitals = pa.read_csv(\n",
    "    'Training_Dataset/id_time_vitals_train.csv',\n",
    "    dtype={'ID': np.int32, 'TIME': np.int32, 'ICU': np.int32}\n",
    ")\n",
    "labs = pa.read_csv(\n",
    "    'Training_Dataset/id_time_labs_train.csv',\n",
    "    dtype={'ID': np.int32, 'TIME': np.int32}\n",
    ")\n",
    "ages = pa.read_csv(\n",
    "    'Training_Dataset/id_age_train.csv',\n",
    "    dtype={'ID': np.int32, 'AGE': np.int32}\n",
    ")\n",
    "labels = pa.read_csv(\n",
    "    'Training_Dataset/id_label_train.csv',\n",
    "    dtype={'ID': np.int32, 'LABEL': np.int32}\n",
    ")"
   ]
  },
  {
   "cell_type": "code",
   "execution_count": 17,
   "metadata": {
    "collapsed": false
   },
   "outputs": [],
   "source": [
    "ids = np.asarray(ages['ID'])\n",
    "numids = np.max(ids)+1\n",
    "\n",
    "# numfolds = 5\n",
    "# folds = np.random.randint(0, numfolds-1, np.max(ids)+1)\n",
    "\n",
    "avitals = [[] for i in xrange(numids)]\n",
    "alabs = [[] for i in xrange(numids)]\n",
    "atime = [[] for i in xrange(numids)]\n",
    "aicu = [[] for i in xrange(numids)]\n",
    "aages = [[] for i in xrange(numids)]\n",
    "alabels = [[] for i in xrange(numids)]\n",
    "\n",
    "qages = [0 for i in xrange(numids)]\n",
    "qlabels = [0 for i in xrange(numids)]\n",
    "\n",
    "for row in ages.iterrows():\n",
    "    qages[row[1]['ID'].astype(np.int32)] = row[1]['AGE'].astype(np.int32)\n",
    "for row in labels.iterrows():\n",
    "    qlabels[row[1]['ID'].astype(np.int32)] = row[1]['LABEL'].astype(np.int32)\n",
    "\n",
    "\n",
    "for i, row in enumerate(vitals.iterrows()):\n",
    "    id = row[1]['ID'].astype(np.int32)\n",
    "    avitals[id].append(np.asarray(row[1][2:]))\n",
    "    atime[id].append(row[1]['TIME'].astype(np.int32))\n",
    "    aicu[id].append(row[1]['ICU'].astype(np.int32))\n",
    "    aages[id].append(qages[id])\n",
    "    alabels[id].append(qlabels[id])\n",
    "    if i >= 5000:\n",
    "        break\n",
    "\n",
    "for i, row in enumerate(labs.iterrows()):\n",
    "    id = row[1]['ID'].astype(np.int32)\n",
    "    alabs[id].append(np.asarray(row[1][2:]))\n",
    "    if i >= 5000:\n",
    "        break"
   ]
  },
  {
   "cell_type": "code",
   "execution_count": 11,
   "metadata": {
    "collapsed": false
   },
   "outputs": [
    {
     "name": "stdout",
     "output_type": "stream",
     "text": [
      "[1, 2, 3, 4, 5]\n"
     ]
    }
   ],
   "source": [
    "a = [1, 2, 3]\n",
    "b = [4, 5]\n",
    "print a+b"
   ]
  },
  {
   "cell_type": "code",
   "execution_count": 23,
   "metadata": {
    "collapsed": false
   },
   "outputs": [],
   "source": [
    "afeats = [[] for i in xrange(numids)]\n",
    "\n",
    "for id in ids:\n",
    "    bvitals = avitals[id]\n",
    "    blabs = alabs[id]\n",
    "    bages = aages[id]\n",
    "    \n",
    "    numtimes = len(bvitals)\n",
    "    for i in xrange(numtimes):\n",
    "        bfeats = np.concatenate((bvitals[i],blabs[i],np.asarray([bages[i]])))\n",
    "        bpres = [(0 if np.isnan(i) else 1) for i in bfeats]\n",
    "        bfeats = [(0 if np.isnan(i) else i) for i in bfeats]\n",
    "        afeats[id].append(bfeats+bpres)"
   ]
  },
  {
   "cell_type": "code",
   "execution_count": 46,
   "metadata": {
    "collapsed": false
   },
   "outputs": [
    {
     "name": "stdout",
     "output_type": "stream",
     "text": [
      "Index([u'ID', u'TIME', u'V1', u'V2', u'V3', u'V4', u'V5', u'V6', u'ICU'], dtype='object')\n",
      "Index([u'ID', u'TIME', u'L1', u'L2', u'L3', u'L4', u'L5', u'L6', u'L7', u'L8',\n",
      "       u'L9', u'L10', u'L11', u'L12', u'L13', u'L14', u'L15', u'L16', u'L17',\n",
      "       u'L18', u'L19', u'L20', u'L21', u'L22', u'L23', u'L24', u'L25'],\n",
      "      dtype='object')\n"
     ]
    }
   ],
   "source": [
    "print vitals.columns\n",
    "print labs.columns"
   ]
  },
  {
   "cell_type": "code",
   "execution_count": 76,
   "metadata": {
    "collapsed": false
   },
   "outputs": [
    {
     "data": {
      "image/png": "[encoded data removed]",
      "text/plain": [
       "<matplotlib.figure.Figure at 0x7fe295936e90>"
      ]
     },
     "metadata": {},
     "output_type": "display_data"
    }
   ],
   "source": [
    "vals = np.asarray(labs['L25'])\n",
    "vals = (vals[np.isnan(vals) == False])\n",
    "_ = py.hist(vals, bins = 100)"
   ]
  },
  {
   "cell_type": "code",
   "execution_count": 87,
   "metadata": {
    "collapsed": false
   },
   "outputs": [
    {
     "name": "stdout",
     "output_type": "stream",
     "text": [
      "66\n"
     ]
    }
   ],
   "source": [
    "print len(afeats[3][10])"
   ]
  },
  {
   "cell_type": "code",
   "execution_count": null,
   "metadata": {
    "collapsed": true
   },
   "outputs": [],
   "source": []
  }
 ],
 "metadata": {
  "kernelspec": {
   "display_name": "Python 2",
   "language": "python",
   "name": "python2"
  },
  "language_info": {
   "codemirror_mode": {
    "name": "ipython",
    "version": 2
   },
   "file_extension": ".py",
   "mimetype": "text/x-python",
   "name": "python",
   "nbconvert_exporter": "python",
   "pygments_lexer": "ipython2",
   "version": "2.7.10"
  }
 },
 "nbformat": 4,
 "nbformat_minor": 0
}
