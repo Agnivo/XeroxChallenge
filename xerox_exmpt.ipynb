{
 "cells": [
  {
   "cell_type": "code",
   "execution_count": 2,
   "metadata": {
    "collapsed": false
   },
   "outputs": [
    {
     "name": "stdout",
     "output_type": "stream",
     "text": [
      "Populating the interactive namespace from numpy and matplotlib\n"
     ]
    }
   ],
   "source": [
    "import pandas as pa\n",
    "import numpy as np\n",
    "import matplotlib.pyplot as py\n",
    "\n",
    "%pylab inline"
   ]
  },
  {
   "cell_type": "code",
   "execution_count": 63,
   "metadata": {
    "collapsed": false
   },
   "outputs": [],
   "source": [
    "trainfile = pa.read_csv('./Training_Dataset/id_time_vitals_train.csv',\n",
    "                        dtype={'ID':np.int32, 'TIME':np.int32, 'ICU':np.bool})"
   ]
  },
  {
   "cell_type": "code",
   "execution_count": 3,
   "metadata": {
    "collapsed": false
   },
   "outputs": [
    {
     "ename": "NameError",
     "evalue": "name 'trainfile' is not defined",
     "output_type": "error",
     "traceback": [
      "\u001b[1;31m---------------------------------------------------------------------------\u001b[0m",
      "\u001b[1;31mNameError\u001b[0m                                 Traceback (most recent call last)",
      "\u001b[1;32m<ipython-input-3-0d325b4dab7a>\u001b[0m in \u001b[0;36m<module>\u001b[1;34m()\u001b[0m\n\u001b[1;32m----> 1\u001b[1;33m \u001b[0mids\u001b[0m \u001b[1;33m=\u001b[0m \u001b[0mtrainfile\u001b[0m\u001b[1;33m[\u001b[0m\u001b[1;34m'ID'\u001b[0m\u001b[1;33m]\u001b[0m\u001b[1;33m\u001b[0m\u001b[0m\n\u001b[0m\u001b[0;32m      2\u001b[0m \u001b[0mcnts\u001b[0m \u001b[1;33m=\u001b[0m \u001b[1;33m[\u001b[0m\u001b[1;36m0\u001b[0m \u001b[1;32mfor\u001b[0m \u001b[0mi\u001b[0m \u001b[1;32min\u001b[0m \u001b[0mxrange\u001b[0m\u001b[1;33m(\u001b[0m\u001b[0mnp\u001b[0m\u001b[1;33m.\u001b[0m\u001b[0mmax\u001b[0m\u001b[1;33m(\u001b[0m\u001b[0mids\u001b[0m\u001b[1;33m)\u001b[0m\u001b[1;33m)\u001b[0m\u001b[1;33m]\u001b[0m\u001b[1;33m\u001b[0m\u001b[0m\n\u001b[0;32m      3\u001b[0m \u001b[1;33m\u001b[0m\u001b[0m\n\u001b[0;32m      4\u001b[0m \u001b[1;32mfor\u001b[0m \u001b[0mid\u001b[0m \u001b[1;32min\u001b[0m \u001b[0mids\u001b[0m\u001b[1;33m:\u001b[0m\u001b[1;33m\u001b[0m\u001b[0m\n\u001b[0;32m      5\u001b[0m     \u001b[0mcnts\u001b[0m\u001b[1;33m[\u001b[0m\u001b[0mid\u001b[0m\u001b[1;33m-\u001b[0m\u001b[1;36m1\u001b[0m\u001b[1;33m]\u001b[0m \u001b[1;33m+=\u001b[0m \u001b[1;36m1\u001b[0m\u001b[1;33m\u001b[0m\u001b[0m\n",
      "\u001b[1;31mNameError\u001b[0m: name 'trainfile' is not defined"
     ]
    }
   ],
   "source": [
    "ids = trainfile['ID']\n",
    "cnts = [0 for i in xrange(np.max(ids))]\n",
    "\n",
    "for id in ids:\n",
    "    cnts[id-1] += 1"
   ]
  },
  {
   "cell_type": "code",
   "execution_count": 40,
   "metadata": {
    "collapsed": false
   },
   "outputs": [
    {
     "name": "stdout",
     "output_type": "stream",
     "text": [
      "1.0 290.0\n"
     ]
    },
    {
     "data": {
      "image/png": "[encoded data removed]",
      "text/plain": [
       "<matplotlib.figure.Figure at 0x7f174dcb9fd0>"
      ]
     },
     "metadata": {},
     "output_type": "display_data"
    }
   ],
   "source": [
    "vals = [i for i in trainfile['V1'] if not np.isnan(i)]\n",
    "\n",
    "print min(vals), max(vals)\n",
    "_ = py.hist(vals, bins=20)"
   ]
  },
  {
   "cell_type": "code",
   "execution_count": 62,
   "metadata": {
    "collapsed": false
   },
   "outputs": [
    {
     "name": "stdout",
     "output_type": "stream",
     "text": [
      "86.0\n",
      "Index([u'ID', u'TIME', u'V1', u'V2', u'V3', u'V4', u'V5', u'V6', u'ICU'], dtype='object')\n"
     ]
    }
   ],
   "source": [
    "for row in trainfile.iterrows():\n",
    "    print row[1]['V1']\n",
    "    break\n",
    "print trainfile.columns"
   ]
  },
  {
   "cell_type": "code",
   "execution_count": 4,
   "metadata": {
    "collapsed": false
   },
   "outputs": [],
   "source": [
    "vitals = pa.read_csv('Training_Dataset/id_time_vitals_train.csv',\n",
    "                    dtype={'ID':np.int32, 'TIME':np.int32, 'ICU':np.int32})\n",
    "labs = pa.read_csv('Training_Dataset/id_time_labs_train.csv',\n",
    "                  dtype={'ID':np.int32, 'TIME':np.int32})\n",
    "ages = pa.read_csv('Training_Dataset/id_age_train.csv',\n",
    "                  dtype={'ID':np.int32, 'AGE':np.int32})\n",
    "labels = pa.read_csv('Training_Dataset/id_label_train.csv',\n",
    "                    dtype={'ID':np.int32, 'LABEL':np.int32})"
   ]
  },
  {
   "cell_type": "code",
   "execution_count": 24,
   "metadata": {
    "collapsed": false,
    "scrolled": true
   },
   "outputs": [],
   "source": [
    "feats = []\n",
    "targets = []\n",
    "win = 10\n",
    "\n",
    "#get ids\n",
    "ids = ages['ID']\n",
    "\n",
    "tvitals = [[] for i in xrange(np.max(ids))]\n",
    "tlabs = [[] for i in xrange(np.max(ids))]\n",
    "\n",
    "for i, row in enumerate(vitals.iterrows()):\n",
    "    tvitals[row[1]['ID'].astype(np.int32)].append(np.asarray(row[1][2:]))\n",
    "    if i >= 3:\n",
    "        break\n",
    "\n",
    "for i, row in enumerate(labs.iterrows()):\n",
    "    tlabs[row[1]['ID'].astype(np.int32)].append(np.asarray(row[1][2:]))\n",
    "    if i >= 3:\n",
    "        break"
   ]
  },
  {
   "cell_type": "code",
   "execution_count": 43,
   "metadata": {
    "collapsed": false
   },
   "outputs": [
    {
     "name": "stdout",
     "output_type": "stream",
     "text": [
      "   ID  TIME       L1          L2          L3  L4  L5         L6  L7  L8 ...   \\\n",
      "0   1     0      NaN         NaN         NaN NaN NaN        NaN NaN NaN ...    \n",
      "1   1  4320  6.60759  114.044116  128.393872 NaN NaN  11.327002 NaN NaN ...    \n",
      "2   1  5646      NaN         NaN         NaN NaN NaN        NaN NaN NaN ...    \n",
      "3   1  5703      NaN         NaN         NaN NaN NaN        NaN NaN NaN ...    \n",
      "4   1  6342      NaN         NaN         NaN NaN NaN        NaN NaN NaN ...    \n",
      "\n",
      "   L16  L17  L18  L19         L20  L21  L22  L23  L24  L25  \n",
      "0  NaN  NaN  NaN  NaN         NaN  NaN  NaN  NaN  NaN  NaN  \n",
      "1  NaN  NaN  NaN  NaN  100.206288  NaN  NaN  NaN  NaN  NaN  \n",
      "2  NaN  NaN  NaN  NaN         NaN  NaN  NaN  NaN  NaN  NaN  \n",
      "3  NaN  NaN  NaN  NaN         NaN  NaN  NaN  NaN  NaN  NaN  \n",
      "4  NaN  NaN  NaN  NaN         NaN  NaN  NaN  NaN  NaN  NaN  \n",
      "\n",
      "[5 rows x 27 columns]\n"
     ]
    }
   ],
   "source": [
    "print labs[labs.ID==1][0:5]"
   ]
  },
  {
   "cell_type": "code",
   "execution_count": 46,
   "metadata": {
    "collapsed": false
   },
   "outputs": [
    {
     "name": "stdout",
     "output_type": "stream",
     "text": [
      "(4, 7)\n",
      "(4, 25)\n",
      "1\n",
      "[86.0, 49.0, 70.0, 0, 87.0, 0, 0.0, 0, 0, 0, 0, 0, 0, 0, 0, 0, 0, 0, 0, 0, 0, 0, 0, 0, 0, 0, 0, 0, 0, 0, 0, 0]\n",
      "[1, 1, 1, 0, 1, 0, 1, 0, 0, 0, 0, 0, 0, 0, 0, 0, 0, 0, 0, 0, 0, 0, 0, 0, 0, 0, 0, 0, 0, 0, 0, 0]\n",
      "[0, 0, 70.0, 0, 0, 0, 0.0, 6.6075897369599996, 114.04411609299999, 128.39387150499999, 0, 0, 11.327002096800001, 0, 0, 0, 0, 0, 0, 0, 0, 0, 0, 0, 0, 0, 100.206287769, 0, 0, 0, 0, 0]\n",
      "[0, 0, 1, 0, 0, 0, 1, 1, 1, 1, 0, 0, 1, 0, 0, 0, 0, 0, 0, 0, 0, 0, 0, 0, 0, 0, 1, 0, 0, 0, 0, 0]\n",
      "[91.0, 58.0, 0, 0, 0, 96.599999999999994, 1.0, 0, 0, 0, 0, 0, 0, 0, 0, 0, 0, 0, 0, 0, 0, 0, 0, 0, 0, 0, 0, 0, 0, 0, 0, 0]\n",
      "[1, 1, 0, 0, 0, 1, 1, 0, 0, 0, 0, 0, 0, 0, 0, 0, 0, 0, 0, 0, 0, 0, 0, 0, 0, 0, 0, 0, 0, 0, 0, 0]\n",
      "[140.0, 73.0, 91.0, 32.0, 0, 0, 1.0, 0, 0, 0, 0, 0, 0, 0, 0, 0, 0, 0, 0, 0, 0, 0, 0, 0, 0, 0, 0, 0, 0, 0, 0, 0]\n",
      "[1, 1, 1, 1, 0, 0, 1, 0, 0, 0, 0, 0, 0, 0, 0, 0, 0, 0, 0, 0, 0, 0, 0, 0, 0, 0, 0, 0, 0, 0, 0, 0]\n"
     ]
    }
   ],
   "source": [
    "for id in ids:\n",
    "    ivitals = tvitals[id]\n",
    "    ilabs = tlabs[id]\n",
    "    \n",
    "    ivitals = np.asarray(ivitals)\n",
    "    ilabs = np.asarray(ilabs)\n",
    "    \n",
    "    print ivitals.shape\n",
    "    print ilabs.shape\n",
    "    \n",
    "    feat = [[0 for i in xrange(32)] for j in xrange(win)]\n",
    "    pres = [[0 for i in xrange(32)] for j in xrange(win)]\n",
    "    \n",
    "    target = np.int32(labels[labels['ID'] == id]['LABEL'][0])\n",
    "    print target\n",
    "    \n",
    "    for i in xrange(ivitals.shape[0]):\n",
    "        feat = feat[1:]\n",
    "        pres = pres[1:]\n",
    "        \n",
    "        pres.append([0 for j in xrange(32)])\n",
    "        feat.append([0 for j in xrange(32)])\n",
    "        \n",
    "        for j in xrange(ivitals.shape[1]):\n",
    "            if not np.isnan(ivitals[i][j]):\n",
    "                feat[-1][j] = ivitals[i][j]\n",
    "                pres[-1][j] = 1\n",
    "                \n",
    "        for j in xrange(ilabs.shape[1]):\n",
    "            if not np.isnan(ilabs[i][j]):\n",
    "                feat[-1][j+ivitals.shape[1]] = ilabs[i][j]\n",
    "                pres[-1][j+ivitals.shape[1]] = 1\n",
    "        \n",
    "        print feat[-1]\n",
    "        print pres[-1]\n",
    "        \n",
    "        cfeat = np.asarray(feat).flatten()\n",
    "        cpres = np.asarray(pres).flatten()\n",
    "        \n",
    "        feats.append(np.hstack((cfeat, cpres)))\n",
    "        targets.append(target)\n",
    "    \n",
    "    break"
   ]
  },
  {
   "cell_type": "code",
   "execution_count": null,
   "metadata": {
    "collapsed": true
   },
   "outputs": [],
   "source": [
    "\n",
    "for vit, \n",
    "        "
   ]
  }
 ],
 "metadata": {
  "kernelspec": {
   "display_name": "Python 2",
   "language": "python",
   "name": "python2"
  },
  "language_info": {
   "codemirror_mode": {
    "name": "ipython",
    "version": 2
   },
   "file_extension": ".py",
   "mimetype": "text/x-python",
   "name": "python",
   "nbconvert_exporter": "python",
   "pygments_lexer": "ipython2",
   "version": "2.7.10"
  }
 },
 "nbformat": 4,
 "nbformat_minor": 0
}
