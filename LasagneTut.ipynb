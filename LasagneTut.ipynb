{
 "cells": [
  {
   "cell_type": "code",
   "execution_count": 1,
   "metadata": {
    "collapsed": false
   },
   "outputs": [
    {
     "name": "stderr",
     "output_type": "stream",
     "text": [
      "Using gpu device 0: Tesla K20m (CNMeM is disabled)\n",
      "WARNING: "
     ]
    },
    {
     "name": "stdout",
     "output_type": "stream",
     "text": [
      "Populating the interactive namespace from numpy and matplotlib\n"
     ]
    },
    {
     "name": "stderr",
     "output_type": "stream",
     "text": [
      "pylab import has clobbered these variables: ['TH']\n",
      "`%matplotlib` prevents importing * from pylab and numpy\n"
     ]
    }
   ],
   "source": [
    "import scipy.misc as sm\n",
    "import numpy as np\n",
    "import pandas as pd\n",
    "from matplotlib import pyplot as plt\n",
    "\n",
    "from theano import tensor as T\n",
    "import theano as TH\n",
    "import lasagne as L\n",
    "\n",
    "import nnet.lasagnenets as LN\n",
    "\n",
    "%pylab inline"
   ]
  },
  {
   "cell_type": "code",
   "execution_count": 3,
   "metadata": {
    "collapsed": true
   },
   "outputs": [],
   "source": [
    "def getimage(arr, ma = None, mi = None, doscale = False):\n",
    "    if ma is None:\n",
    "        ma = 1.0\n",
    "    if mi is None:\n",
    "        mi = 0.0\n",
    "    if doscale is True:\n",
    "        ma = np.max(arr)\n",
    "        mi = np.min(arr)\n",
    "    img = arr.reshape(28,28)\n",
    "    return sm.toimage(arr = img, cmax = ma, cmin = mi)"
   ]
  },
  {
   "cell_type": "code",
   "execution_count": 4,
   "metadata": {
    "collapsed": true
   },
   "outputs": [],
   "source": [
    "train = pd.read_csv('../Datasets/mnist/mnist_train.csv')\n",
    "\n",
    "trainX = train.values[:,1:]\n",
    "trainY = train.values[:,0]\n",
    "num_examples = trainX.shape[0]\n",
    "temp = np.zeros((num_examples, 10))\n",
    "for i in xrange(num_examples):\n",
    "    temp[i][trainY[i]] = 1\n",
    "\n",
    "trainY = np.asarray(temp, dtype = 'float32')\n",
    "trainX = np.asarray(trainX, dtype = 'float32')/255.0"
   ]
  },
  {
   "cell_type": "code",
   "execution_count": 5,
   "metadata": {
    "collapsed": true
   },
   "outputs": [],
   "source": [
    "test = pd.read_csv('../Datasets/mnist/mnist_test.csv')\n",
    "\n",
    "testX = test.values[:,1:]\n",
    "testY = test.values[:,0]\n",
    "num_examples = testX.shape[0]\n",
    "temp = np.zeros((num_examples, 10))\n",
    "for i in xrange(num_examples):\n",
    "    temp[i][testY[i]] = 1\n",
    "\n",
    "testY = np.asarray(temp, dtype = 'float32')\n",
    "testX = np.asarray(testX, dtype = 'float32')/255.0"
   ]
  },
  {
   "cell_type": "code",
   "execution_count": 6,
   "metadata": {
    "collapsed": false,
    "scrolled": true
   },
   "outputs": [
    {
     "name": "stdout",
     "output_type": "stream",
     "text": [
      "(60000, 784)\n",
      "(60000, 10)\n",
      "(10000, 784)\n",
      "(10000, 10)\n",
      "0 5\n"
     ]
    },
    {
     "data": {
      "image/png": "[encoded data removed]",
      "text/plain": [
       "<PIL.Image.Image image mode=L size=28x28 at 0x7FB53CD37CB0>"
      ]
     },
     "metadata": {},
     "output_type": "display_data"
    },
    {
     "name": "stdout",
     "output_type": "stream",
     "text": [
      "1 0\n"
     ]
    },
    {
     "data": {
      "image/png": "[encoded data removed]",
      "text/plain": [
       "<PIL.Image.Image image mode=L size=28x28 at 0x7FB53DB4E830>"
      ]
     },
     "metadata": {},
     "output_type": "display_data"
    },
    {
     "name": "stdout",
     "output_type": "stream",
     "text": [
      "2 4\n"
     ]
    },
    {
     "data": {
      "image/png": "[encoded data removed]",
      "text/plain": [
       "<PIL.Image.Image image mode=L size=28x28 at 0x7FB53DB4EF38>"
      ]
     },
     "metadata": {},
     "output_type": "display_data"
    },
    {
     "name": "stdout",
     "output_type": "stream",
     "text": [
      "3 1\n"
     ]
    },
    {
     "data": {
      "image/png": "[encoded data removed]",
      "text/plain": [
       "<PIL.Image.Image image mode=L size=28x28 at 0x7FB53DB335F0>"
      ]
     },
     "metadata": {},
     "output_type": "display_data"
    },
    {
     "name": "stdout",
     "output_type": "stream",
     "text": [
      "4 9\n"
     ]
    },
    {
     "data": {
      "image/png": "[encoded data removed]",
      "text/plain": [
       "<PIL.Image.Image image mode=L size=28x28 at 0x7FB53DB33C68>"
      ]
     },
     "metadata": {},
     "output_type": "display_data"
    },
    {
     "name": "stdout",
     "output_type": "stream",
     "text": [
      "5 2\n"
     ]
    },
    {
     "data": {
      "image/png": "[encoded data removed]",
      "text/plain": [
       "<PIL.Image.Image image mode=L size=28x28 at 0x7FB53DB43320>"
      ]
     },
     "metadata": {},
     "output_type": "display_data"
    },
    {
     "name": "stdout",
     "output_type": "stream",
     "text": [
      "6 1\n"
     ]
    },
    {
     "data": {
      "image/png": "[encoded data removed]",
      "text/plain": [
       "<PIL.Image.Image image mode=L size=28x28 at 0x7FB53DB43998>"
      ]
     },
     "metadata": {},
     "output_type": "display_data"
    },
    {
     "name": "stdout",
     "output_type": "stream",
     "text": [
      "7 3\n"
     ]
    },
    {
     "data": {
      "image/png": "[encoded data removed]",
      "text/plain": [
       "<PIL.Image.Image image mode=L size=28x28 at 0x7FB53DB33EA8>"
      ]
     },
     "metadata": {},
     "output_type": "display_data"
    },
    {
     "name": "stdout",
     "output_type": "stream",
     "text": [
      "8 1\n"
     ]
    },
    {
     "data": {
      "image/png": "[encoded data removed]",
      "text/plain": [
       "<PIL.Image.Image image mode=L size=28x28 at 0x7FB53DB335A8>"
      ]
     },
     "metadata": {},
     "output_type": "display_data"
    },
    {
     "name": "stdout",
     "output_type": "stream",
     "text": [
      "9 4\n"
     ]
    },
    {
     "data": {
      "image/png": "[encoded data removed]",
      "text/plain": [
       "<PIL.Image.Image image mode=L size=28x28 at 0x7FB53DB33518>"
      ]
     },
     "metadata": {},
     "output_type": "display_data"
    },
    {
     "name": "stdout",
     "output_type": "stream",
     "text": [
      "10 3\n"
     ]
    },
    {
     "data": {
      "image/png": "[encoded data removed]",
      "text/plain": [
       "<PIL.Image.Image image mode=L size=28x28 at 0x7FB53DB4E710>"
      ]
     },
     "metadata": {},
     "output_type": "display_data"
    },
    {
     "name": "stdout",
     "output_type": "stream",
     "text": [
      "11 5\n"
     ]
    },
    {
     "data": {
      "image/png": "[encoded data removed]",
      "text/plain": [
       "<PIL.Image.Image image mode=L size=28x28 at 0x7FB53DB43CF8>"
      ]
     },
     "metadata": {},
     "output_type": "display_data"
    },
    {
     "name": "stdout",
     "output_type": "stream",
     "text": [
      "12 3\n"
     ]
    },
    {
     "data": {
      "image/png": "[encoded data removed]",
      "text/plain": [
       "<PIL.Image.Image image mode=L size=28x28 at 0x7FB53DB437A0>"
      ]
     },
     "metadata": {},
     "output_type": "display_data"
    },
    {
     "name": "stdout",
     "output_type": "stream",
     "text": [
      "13 6\n"
     ]
    },
    {
     "data": {
      "image/png": "[encoded data removed]",
      "text/plain": [
       "<PIL.Image.Image image mode=L size=28x28 at 0x7FB53DB43F80>"
      ]
     },
     "metadata": {},
     "output_type": "display_data"
    },
    {
     "name": "stdout",
     "output_type": "stream",
     "text": [
      "14 1\n"
     ]
    },
    {
     "data": {
      "image/png": "[encoded data removed]",
      "text/plain": [
       "<PIL.Image.Image image mode=L size=28x28 at 0x7FB53DB585A8>"
      ]
     },
     "metadata": {},
     "output_type": "display_data"
    },
    {
     "name": "stdout",
     "output_type": "stream",
     "text": [
      "15 7\n"
     ]
    },
    {
     "data": {
      "image/png": "[encoded data removed]",
      "text/plain": [
       "<PIL.Image.Image image mode=L size=28x28 at 0x7FB53DB58C20>"
      ]
     },
     "metadata": {},
     "output_type": "display_data"
    },
    {
     "name": "stdout",
     "output_type": "stream",
     "text": [
      "16 2\n"
     ]
    },
    {
     "data": {
      "image/png": "[encoded data removed]",
      "text/plain": [
       "<PIL.Image.Image image mode=L size=28x28 at 0x7FB53DB602D8>"
      ]
     },
     "metadata": {},
     "output_type": "display_data"
    },
    {
     "name": "stdout",
     "output_type": "stream",
     "text": [
      "17 8\n"
     ]
    },
    {
     "data": {
      "image/png": "[encoded data removed]",
      "text/plain": [
       "<PIL.Image.Image image mode=L size=28x28 at 0x7FB53DB60950>"
      ]
     },
     "metadata": {},
     "output_type": "display_data"
    },
    {
     "name": "stdout",
     "output_type": "stream",
     "text": [
      "18 6\n"
     ]
    },
    {
     "data": {
      "image/png": "[encoded data removed]",
      "text/plain": [
       "<PIL.Image.Image image mode=L size=28x28 at 0x7FB53DB60FC8>"
      ]
     },
     "metadata": {},
     "output_type": "display_data"
    },
    {
     "name": "stdout",
     "output_type": "stream",
     "text": [
      "19 9\n"
     ]
    },
    {
     "data": {
      "image/png": "[encoded data removed]",
      "text/plain": [
       "<PIL.Image.Image image mode=L size=28x28 at 0x7FB53DB38680>"
      ]
     },
     "metadata": {},
     "output_type": "display_data"
    }
   ],
   "source": [
    "trainX = trainX.reshape(-1, 784)\n",
    "testX = testX.reshape(-1, 784)\n",
    "print trainX.shape\n",
    "print trainY.shape\n",
    "\n",
    "print testX.shape\n",
    "print testY.shape\n",
    "\n",
    "for ind in xrange(20):\n",
    "    print ind, np.argmax(trainY[ind])\n",
    "    display(getimage(trainX[ind]))"
   ]
  },
  {
   "cell_type": "code",
   "execution_count": 15,
   "metadata": {
    "collapsed": false,
    "scrolled": true
   },
   "outputs": [
    {
     "name": "stdout",
     "output_type": "stream",
     "text": [
      "Training ... \n",
      "Iteration 0, Loss = 1.04876711617\n",
      "Testing ...\n",
      "Mean accuracy = 0.9131\n",
      "Iteration 1, Loss = 0.53535563002\n",
      "Iteration 2, Loss = 0.447218403717\n",
      "Iteration 3, Loss = 0.396775488555\n",
      "Iteration 4, Loss = 0.364396416644\n",
      "Iteration 5, Loss = 0.341632570823\n",
      "Iteration 6, Loss = 0.323153470208\n",
      "Iteration 7, Loss = 0.307535604139\n",
      "Iteration 8, Loss = 0.293518308798\n",
      "Iteration 9, Loss = 0.281276353697\n",
      "Iteration 10, Loss = 0.276563436041\n",
      "Testing ...\n",
      "Mean accuracy = 0.9676\n",
      "Iteration 11, Loss = 0.265410990765\n",
      "Iteration 12, Loss = 0.255351766447\n",
      "Iteration 13, Loss = 0.253718808293\n",
      "Iteration 14, Loss = 0.24766704465\n",
      "Iteration 15, Loss = 0.243865462889\n",
      "Iteration 16, Loss = 0.243049052606\n",
      "Iteration 17, Loss = 0.235681107889\n",
      "Iteration 18, Loss = 0.230317487071\n",
      "Iteration 19, Loss = 0.229787881921\n",
      "Iteration 20, Loss = 0.225603821377\n",
      "Testing ...\n",
      "Mean accuracy = 0.9742\n",
      "Iteration 21, Loss = 0.221457800517\n",
      "Iteration 22, Loss = 0.220448000729\n",
      "Iteration 23, Loss = 0.216736211876\n",
      "Iteration 24, Loss = 0.2130577224\n",
      "Iteration 25, Loss = 0.213708272825\n",
      "Iteration 26, Loss = 0.21294063578\n",
      "Iteration 27, Loss = 0.208174022039\n",
      "Iteration 28, Loss = 0.204542478547\n",
      "Iteration 29, Loss = 0.202659463882\n",
      "Iteration 30, Loss = 0.20191498821\n",
      "Testing ...\n",
      "Mean accuracy = 0.9766\n",
      "Iteration 31, Loss = 0.202803469698\n",
      "Iteration 32, Loss = 0.20024527957\n",
      "Iteration 33, Loss = 0.195976217588\n",
      "Iteration 34, Loss = 0.196824696163\n",
      "Iteration 35, Loss = 0.197012194122\n",
      "Iteration 36, Loss = 0.195823901395\n",
      "Iteration 37, Loss = 0.193252461155\n",
      "Iteration 38, Loss = 0.188922166328\n",
      "Iteration 39, Loss = 0.187613567213\n",
      "Iteration 40, Loss = 0.190528290967\n",
      "Testing ...\n",
      "Mean accuracy = 0.9761\n",
      "Iteration 41, Loss = 0.18938485086\n",
      "Iteration 42, Loss = 0.184828604509\n",
      "Iteration 43, Loss = 0.186534897486\n",
      "Iteration 44, Loss = 0.187524415056\n",
      "Iteration 45, Loss = 0.187466918925\n",
      "Iteration 46, Loss = 0.1832866172\n",
      "Iteration 47, Loss = 0.184848181655\n",
      "Iteration 48, Loss = 0.18437793379\n",
      "Iteration 49, Loss = 0.181587340559\n",
      "Iteration 50, Loss = 0.180796485643\n",
      "Testing ...\n",
      "Mean accuracy = 0.9765\n",
      "Iteration 51, Loss = 0.180224561691\n",
      "Iteration 52, Loss = 0.179589264095\n",
      "Iteration 53, Loss = 0.179115518058\n",
      "Iteration 54, Loss = 0.18324534595\n",
      "Iteration 55, Loss = 0.178572000811\n",
      "Iteration 56, Loss = 0.17470414564\n",
      "Iteration 57, Loss = 0.178357988596\n",
      "Iteration 58, Loss = 0.177132293582\n",
      "Iteration 59, Loss = 0.17704128325\n",
      "Iteration 60, Loss = 0.176175727944\n",
      "Testing ...\n",
      "Mean accuracy = 0.9773\n",
      "Iteration 61, Loss = 0.173982374246\n",
      "Iteration 62, Loss = 0.175457873692\n",
      "Iteration 63, Loss = 0.17592288206\n",
      "Iteration 64, Loss = 0.172442755103\n",
      "Iteration 65, Loss = 0.174160256485\n",
      "Iteration 66, Loss = 0.174095117549\n",
      "Iteration 67, Loss = 0.171834007899\n",
      "Iteration 68, Loss = 0.173723915716\n",
      "Iteration 69, Loss = 0.170747919132\n",
      "Iteration 70, Loss = 0.170881610364\n",
      "Testing ...\n",
      "Mean accuracy = 0.979\n",
      "Iteration 71, Loss = 0.168945416187\n",
      "Iteration 72, Loss = 0.170893771698\n",
      "Iteration 73, Loss = 0.171138984213\n",
      "Iteration 74, Loss = 0.169073136648\n",
      "Iteration 75, Loss = 0.16767054672\n",
      "Iteration 76, Loss = 0.167437328398\n",
      "Iteration 77, Loss = 0.168987775842\n",
      "Iteration 78, Loss = 0.166641282911\n",
      "Iteration 79, Loss = 0.167899845416\n",
      "Iteration 80, Loss = 0.165551435451\n",
      "Testing ...\n",
      "Mean accuracy = 0.9775\n",
      "Iteration 81, Loss = 0.16760095035\n",
      "Iteration 82, Loss = 0.165065734088\n",
      "Iteration 83, Loss = 0.165235692511\n",
      "Iteration 84, Loss = 0.167686294764\n",
      "Iteration 85, Loss = 0.162616401166\n",
      "Iteration 86, Loss = 0.165944311644\n",
      "Iteration 87, Loss = 0.163947252184\n",
      "Iteration 88, Loss = 0.165591043731\n",
      "Iteration 89, Loss = 0.162231853604\n",
      "Iteration 90, Loss = 0.163512350867\n",
      "Testing ...\n",
      "Mean accuracy = 0.9797\n",
      "Iteration 91, Loss = 0.162035522982\n",
      "Iteration 92, Loss = 0.161953166996\n",
      "Iteration 93, Loss = 0.162168538198\n",
      "Iteration 94, Loss = 0.160499230524\n",
      "Iteration 95, Loss = 0.160429311544\n",
      "Iteration 96, Loss = 0.159614942347\n",
      "Iteration 97, Loss = 0.1608984941\n",
      "Iteration 98, Loss = 0.162719219799\n",
      "Iteration 99, Loss = 0.163427338004\n",
      "Iteration 100, Loss = 0.163577175016\n",
      "Testing ...\n",
      "Mean accuracy = 0.9796\n",
      "Iteration 101, Loss = 0.161355951428\n",
      "Iteration 102, Loss = 0.160010148088\n",
      "Iteration 103, Loss = 0.159561432526\n",
      "Iteration 104, Loss = 0.163429167867\n",
      "Iteration 105, Loss = 0.163728403548\n",
      "Iteration 106, Loss = 0.158385219177\n",
      "Iteration 107, Loss = 0.160014233987\n",
      "Iteration 108, Loss = 0.15852158082\n",
      "Iteration 109, Loss = 0.158484270175\n",
      "Iteration 110, Loss = 0.160762929916\n",
      "Testing ...\n",
      "Mean accuracy = 0.9805\n",
      "Iteration 111, Loss = 0.157667258879\n",
      "Iteration 112, Loss = 0.160163436085\n",
      "Iteration 113, Loss = 0.160797638819\n",
      "Iteration 114, Loss = 0.157725605369\n",
      "Iteration 115, Loss = 0.158418085178\n",
      "Iteration 116, Loss = 0.156161423773\n",
      "Iteration 117, Loss = 0.159694285691\n",
      "Iteration 118, Loss = 0.158102465173\n",
      "Iteration 119, Loss = 0.155823957548\n",
      "Iteration 120, Loss = 0.158049343775\n",
      "Testing ...\n",
      "Mean accuracy = 0.9798\n",
      "Iteration 121, Loss = 0.15857287099\n",
      "Iteration 122, Loss = 0.155565628037\n",
      "Iteration 123, Loss = 0.159149322907\n",
      "Iteration 124, Loss = 0.159069830303\n",
      "Iteration 125, Loss = 0.153587763881\n",
      "Iteration 126, Loss = 0.158032343288\n",
      "Iteration 127, Loss = 0.153432707489\n",
      "Iteration 128, Loss = 0.157170740142\n",
      "Iteration 129, Loss = 0.156288907429\n",
      "Iteration 130, Loss = 0.156466549014\n",
      "Testing ...\n",
      "Mean accuracy = 0.9807\n",
      "Iteration 131, Loss = 0.157643388088\n",
      "Iteration 132, Loss = 0.155873058985\n",
      "Iteration 133, Loss = 0.159233803675\n",
      "Iteration 134, Loss = 0.158075134705\n",
      "Iteration 135, Loss = 0.156634203345\n",
      "Iteration 136, Loss = 0.156916484485\n",
      "Iteration 137, Loss = 0.156328392526\n",
      "Iteration 138, Loss = 0.150651890039\n",
      "Iteration 139, Loss = 0.154525055612\n",
      "Iteration 140, Loss = 0.157788863281\n",
      "Testing ...\n",
      "Mean accuracy = 0.9805\n",
      "Iteration 141, Loss = 0.153253826002\n",
      "Iteration 142, Loss = 0.156461672609\n",
      "Iteration 143, Loss = 0.154516078283\n",
      "Iteration 144, Loss = 0.153684773544\n",
      "Iteration 145, Loss = 0.154058657587\n",
      "Iteration 146, Loss = 0.151446170732\n",
      "Iteration 147, Loss = 0.153678773468\n",
      "Iteration 148, Loss = 0.155064771945\n",
      "Iteration 149, Loss = 0.157104042793\n",
      "Iteration 150, Loss = 0.155951296662\n",
      "Testing ...\n",
      "Mean accuracy = 0.9802\n",
      "Iteration 151, Loss = 0.15581467549\n",
      "Iteration 152, Loss = 0.156351762141\n",
      "Iteration 153, Loss = 0.154375275845\n",
      "Iteration 154, Loss = 0.155540602903\n",
      "Iteration 155, Loss = 0.152481690049\n",
      "Iteration 156, Loss = 0.153675070157\n",
      "Iteration 157, Loss = 0.155345675846\n",
      "Iteration 158, Loss = 0.156151075164\n",
      "Iteration 159, Loss = 0.154613277689\n",
      "Iteration 160, Loss = 0.155077732727\n",
      "Testing ...\n",
      "Mean accuracy = 0.98\n",
      "Iteration 161, Loss = 0.152340490619\n",
      "Iteration 162, Loss = 0.154849507908\n",
      "Iteration 163, Loss = 0.154045564557\n",
      "Iteration 164, Loss = 0.153583543872\n",
      "Iteration 165, Loss = 0.154588088145\n",
      "Iteration 166, Loss = 0.154395144557\n",
      "Iteration 167, Loss = 0.152566906313\n",
      "Iteration 168, Loss = 0.153021739423\n",
      "Iteration 169, Loss = 0.153623773654\n",
      "Iteration 170, Loss = 0.155724365761\n",
      "Testing ...\n",
      "Mean accuracy = 0.981\n",
      "Iteration 171, Loss = 0.153252130871\n",
      "Iteration 172, Loss = 0.15399109001\n",
      "Iteration 173, Loss = 0.149743119627\n",
      "Iteration 174, Loss = 0.15420246919\n",
      "Iteration 175, Loss = 0.15096174789\n",
      "Iteration 176, Loss = 0.153746151303\n",
      "Iteration 177, Loss = 0.153496864438\n",
      "Iteration 178, Loss = 0.1535692436\n",
      "Iteration 179, Loss = 0.155258036405\n",
      "Iteration 180, Loss = 0.152175856009\n",
      "Testing ...\n",
      "Mean accuracy = 0.9808\n",
      "Iteration 181, Loss = 0.1563067394\n",
      "Iteration 182, Loss = 0.151846883446\n",
      "Iteration 183, Loss = 0.149612360323\n",
      "Iteration 184, Loss = 0.154224203775\n",
      "Iteration 185, Loss = 0.152353955309\n",
      "Iteration 186, Loss = 0.153423417856\n",
      "Iteration 187, Loss = 0.148801238214\n",
      "Iteration 188, Loss = 0.154990303889\n",
      "Iteration 189, Loss = 0.152976666639\n",
      "Iteration 190, Loss = 0.153762459755\n",
      "Testing ...\n",
      "Mean accuracy = 0.982\n",
      "Iteration 191, Loss = 0.152154391756\n",
      "Iteration 192, Loss = 0.152195607995\n",
      "Iteration 193, Loss = 0.150687739005\n",
      "Iteration 194, Loss = 0.150817361226\n",
      "Iteration 195, Loss = 0.150720372672\n",
      "Iteration 196, Loss = 0.152028341591\n",
      "Iteration 197, Loss = 0.150705761338\n",
      "Iteration 198, Loss = 0.154410220062\n",
      "Iteration 199, Loss = 0.153749918565\n",
      "Iteration 200, Loss = 0.152140699203\n",
      "Testing ...\n",
      "Mean accuracy = 0.9803\n",
      "Iteration 201, Loss = 0.152075487127\n",
      "Iteration 202, Loss = 0.154481909921\n"
     ]
    },
    {
     "ename": "KeyboardInterrupt",
     "evalue": "",
     "output_type": "error",
     "traceback": [
      "\u001b[1;31m---------------------------------------------------------------------------\u001b[0m",
      "\u001b[1;31mKeyboardInterrupt\u001b[0m                         Traceback (most recent call last)",
      "\u001b[1;32m<ipython-input-15-2f10969aa7bb>\u001b[0m in \u001b[0;36m<module>\u001b[1;34m()\u001b[0m\n\u001b[0;32m     11\u001b[0m     )\n\u001b[0;32m     12\u001b[0m \u001b[1;33m\u001b[0m\u001b[0m\n\u001b[1;32m---> 13\u001b[1;33m \u001b[0mnnet\u001b[0m\u001b[1;33m.\u001b[0m\u001b[0mtrain\u001b[0m\u001b[1;33m(\u001b[0m\u001b[0mx\u001b[0m\u001b[1;33m=\u001b[0m\u001b[0mtrainX\u001b[0m\u001b[1;33m,\u001b[0m \u001b[0my\u001b[0m\u001b[1;33m=\u001b[0m\u001b[0mtrainY\u001b[0m\u001b[1;33m,\u001b[0m \u001b[0mtestx\u001b[0m\u001b[1;33m=\u001b[0m\u001b[0mtestX\u001b[0m\u001b[1;33m,\u001b[0m \u001b[0mtesty\u001b[0m\u001b[1;33m=\u001b[0m\u001b[0mtestY\u001b[0m\u001b[1;33m,\u001b[0m \u001b[0mlrate\u001b[0m\u001b[1;33m=\u001b[0m\u001b[1;36m0.1\u001b[0m\u001b[1;33m,\u001b[0m \u001b[0mgamma\u001b[0m\u001b[1;33m=\u001b[0m\u001b[1;36m0.9\u001b[0m\u001b[1;33m,\u001b[0m \u001b[0mbatch_size\u001b[0m\u001b[1;33m=\u001b[0m\u001b[1;36m1000\u001b[0m\u001b[1;33m,\u001b[0m \u001b[0miters\u001b[0m\u001b[1;33m=\u001b[0m\u001b[1;36m1000\u001b[0m\u001b[1;33m)\u001b[0m\u001b[1;33m\u001b[0m\u001b[0m\n\u001b[0m\u001b[0;32m     14\u001b[0m \u001b[1;33m\u001b[0m\u001b[0m\n\u001b[0;32m     15\u001b[0m \u001b[0mnnet\u001b[0m\u001b[1;33m.\u001b[0m\u001b[0mtest\u001b[0m\u001b[1;33m(\u001b[0m\u001b[0mtestX\u001b[0m\u001b[1;33m,\u001b[0m \u001b[0mtestY\u001b[0m\u001b[1;33m,\u001b[0m \u001b[0mbatch_size\u001b[0m\u001b[1;33m=\u001b[0m\u001b[0mtestX\u001b[0m\u001b[1;33m.\u001b[0m\u001b[0mshape\u001b[0m\u001b[1;33m[\u001b[0m\u001b[1;36m0\u001b[0m\u001b[1;33m]\u001b[0m\u001b[1;33m)\u001b[0m\u001b[1;33m\u001b[0m\u001b[0m\n",
      "\u001b[1;32m/home/du2/12CS30009/BTechProject/nnet/lasagnenets.pyc\u001b[0m in \u001b[0;36mtrain\u001b[1;34m(self, x, y, lrate, gamma, batch_size, iters, test_batch, testx, testy, filename, lrate_iters, lrate_factor)\u001b[0m\n\u001b[0;32m    105\u001b[0m             \u001b[0mcnt\u001b[0m \u001b[1;33m=\u001b[0m \u001b[1;36m0\u001b[0m\u001b[1;33m\u001b[0m\u001b[0m\n\u001b[0;32m    106\u001b[0m             \u001b[1;32mfor\u001b[0m \u001b[0mbx\u001b[0m\u001b[1;33m,\u001b[0m \u001b[0mby\u001b[0m \u001b[1;32min\u001b[0m \u001b[0mbatch_iterable\u001b[0m\u001b[1;33m(\u001b[0m\u001b[0mx\u001b[0m\u001b[1;33m,\u001b[0m \u001b[0my\u001b[0m\u001b[1;33m,\u001b[0m \u001b[0mbatch_size\u001b[0m\u001b[1;33m)\u001b[0m\u001b[1;33m:\u001b[0m\u001b[1;33m\u001b[0m\u001b[0m\n\u001b[1;32m--> 107\u001b[1;33m                 \u001b[0mc_loss\u001b[0m\u001b[1;33m,\u001b[0m \u001b[1;33m=\u001b[0m \u001b[0mself\u001b[0m\u001b[1;33m.\u001b[0m\u001b[0mtrainer\u001b[0m\u001b[1;33m(\u001b[0m\u001b[0mbx\u001b[0m\u001b[1;33m,\u001b[0m \u001b[0mby\u001b[0m\u001b[1;33m)\u001b[0m\u001b[1;33m\u001b[0m\u001b[0m\n\u001b[0m\u001b[0;32m    108\u001b[0m                 \u001b[0mtot_loss\u001b[0m \u001b[1;33m+=\u001b[0m \u001b[0mc_loss\u001b[0m\u001b[1;33m\u001b[0m\u001b[0m\n\u001b[0;32m    109\u001b[0m                 \u001b[0mcnt\u001b[0m \u001b[1;33m+=\u001b[0m \u001b[1;36m1\u001b[0m\u001b[1;33m\u001b[0m\u001b[0m\n",
      "\u001b[1;32m/home/du2/12CS30009/anaconda/lib/python2.7/site-packages/theano/compile/function_module.pyc\u001b[0m in \u001b[0;36m__call__\u001b[1;34m(self, *args, **kwargs)\u001b[0m\n\u001b[0;32m    605\u001b[0m         \u001b[0mt0_fn\u001b[0m \u001b[1;33m=\u001b[0m \u001b[0mtime\u001b[0m\u001b[1;33m.\u001b[0m\u001b[0mtime\u001b[0m\u001b[1;33m(\u001b[0m\u001b[1;33m)\u001b[0m\u001b[1;33m\u001b[0m\u001b[0m\n\u001b[0;32m    606\u001b[0m         \u001b[1;32mtry\u001b[0m\u001b[1;33m:\u001b[0m\u001b[1;33m\u001b[0m\u001b[0m\n\u001b[1;32m--> 607\u001b[1;33m             \u001b[0moutputs\u001b[0m \u001b[1;33m=\u001b[0m \u001b[0mself\u001b[0m\u001b[1;33m.\u001b[0m\u001b[0mfn\u001b[0m\u001b[1;33m(\u001b[0m\u001b[1;33m)\u001b[0m\u001b[1;33m\u001b[0m\u001b[0m\n\u001b[0m\u001b[0;32m    608\u001b[0m         \u001b[1;32mexcept\u001b[0m \u001b[0mException\u001b[0m\u001b[1;33m:\u001b[0m\u001b[1;33m\u001b[0m\u001b[0m\n\u001b[0;32m    609\u001b[0m             \u001b[1;32mif\u001b[0m \u001b[0mhasattr\u001b[0m\u001b[1;33m(\u001b[0m\u001b[0mself\u001b[0m\u001b[1;33m.\u001b[0m\u001b[0mfn\u001b[0m\u001b[1;33m,\u001b[0m \u001b[1;34m'position_of_error'\u001b[0m\u001b[1;33m)\u001b[0m\u001b[1;33m:\u001b[0m\u001b[1;33m\u001b[0m\u001b[0m\n",
      "\u001b[1;31mKeyboardInterrupt\u001b[0m: "
     ]
    }
   ],
   "source": [
    "reload(LN)\n",
    "\n",
    "nnet = LN.nnet(\n",
    "    n_in = 784, n_out = 10,\n",
    "    h_layers = [100, 50],\n",
    "    i_drop=0.2,\n",
    "    l_drops=[0.3, 0.3],\n",
    "    lam=0.0001, Temp=1,\n",
    "    inp_max=False,\n",
    "    nonlinearity=L.nonlinearities.rectify\n",
    "    )\n",
    "\n",
    "nnet.train(x=trainX, y=trainY, testx=testX, testy=testY, lrate=0.1, gamma=0.9, batch_size=1000, iters=1000)\n",
    "\n",
    "nnet.test(testX, testY, batch_size=testX.shape[0])"
   ]
  },
  {
   "cell_type": "code",
   "execution_count": 2,
   "metadata": {
    "collapsed": false
   },
   "outputs": [
    {
     "ename": "AttributeError",
     "evalue": "'SharedVariable' object has no attribute 'ndim'",
     "output_type": "error",
     "traceback": [
      "\u001b[1;31m---------------------------------------------------------------------------\u001b[0m",
      "\u001b[1;31mAttributeError\u001b[0m                            Traceback (most recent call last)",
      "\u001b[1;32m<ipython-input-2-c685f2db88c2>\u001b[0m in \u001b[0;36m<module>\u001b[1;34m()\u001b[0m\n\u001b[0;32m      9\u001b[0m     \u001b[0mlam\u001b[0m\u001b[1;33m=\u001b[0m\u001b[1;36m0.0001\u001b[0m\u001b[1;33m,\u001b[0m \u001b[0mTemp\u001b[0m\u001b[1;33m=\u001b[0m\u001b[1;36m1\u001b[0m\u001b[1;33m,\u001b[0m\u001b[1;33m\u001b[0m\u001b[0m\n\u001b[0;32m     10\u001b[0m     \u001b[0minp_max\u001b[0m\u001b[1;33m=\u001b[0m\u001b[0mTrue\u001b[0m\u001b[1;33m,\u001b[0m\u001b[1;33m\u001b[0m\u001b[0m\n\u001b[1;32m---> 11\u001b[1;33m     \u001b[0mnonlinearity\u001b[0m\u001b[1;33m=\u001b[0m\u001b[0mL\u001b[0m\u001b[1;33m.\u001b[0m\u001b[0mnonlinearities\u001b[0m\u001b[1;33m.\u001b[0m\u001b[0mrectify\u001b[0m\u001b[1;33m\u001b[0m\u001b[0m\n\u001b[0m\u001b[0;32m     12\u001b[0m     )\n\u001b[0;32m     13\u001b[0m \u001b[1;33m\u001b[0m\u001b[0m\n",
      "\u001b[1;32m/home/du2/12CS30009/BTechProject/nnet/lasagnenets.py\u001b[0m in \u001b[0;36m__init__\u001b[1;34m(self, n_in, n_out, h_layers, i_drop, l_drops, lam, Temp, inp_max, nonlinearity)\u001b[0m\n\u001b[0;32m     81\u001b[0m         \u001b[0mself\u001b[0m\u001b[1;33m.\u001b[0m\u001b[0mlayers\u001b[0m\u001b[1;33m.\u001b[0m\u001b[0mappend\u001b[0m\u001b[1;33m(\u001b[0m\u001b[0mself\u001b[0m\u001b[1;33m.\u001b[0m\u001b[0moutput_layer\u001b[0m\u001b[1;33m)\u001b[0m\u001b[1;33m\u001b[0m\u001b[0m\n\u001b[0;32m     82\u001b[0m \u001b[1;33m\u001b[0m\u001b[0m\n\u001b[1;32m---> 83\u001b[1;33m         \u001b[0mself\u001b[0m\u001b[1;33m.\u001b[0m\u001b[0moutput\u001b[0m \u001b[1;33m=\u001b[0m \u001b[0mL\u001b[0m\u001b[1;33m.\u001b[0m\u001b[0mlayers\u001b[0m\u001b[1;33m.\u001b[0m\u001b[0mget_output\u001b[0m\u001b[1;33m(\u001b[0m\u001b[0mself\u001b[0m\u001b[1;33m.\u001b[0m\u001b[0moutput_layer\u001b[0m\u001b[1;33m)\u001b[0m\u001b[1;33m\u001b[0m\u001b[0m\n\u001b[0m\u001b[0;32m     84\u001b[0m         self.test_output = L.layers.get_output(\n\u001b[0;32m     85\u001b[0m             \u001b[0mself\u001b[0m\u001b[1;33m.\u001b[0m\u001b[0moutput_layer\u001b[0m\u001b[1;33m,\u001b[0m \u001b[0mdeterministic\u001b[0m\u001b[1;33m=\u001b[0m\u001b[0mTrue\u001b[0m\u001b[1;33m\u001b[0m\u001b[0m\n",
      "\u001b[1;32m/home/du2/12CS30009/BTechProject/Lasagne/lasagne/layers/helper.pyc\u001b[0m in \u001b[0;36mget_output\u001b[1;34m(layer_or_layers, inputs, **kwargs)\u001b[0m\n\u001b[0;32m    183\u001b[0m                                  \u001b[1;34m\"mapping this layer to an input expression.\"\u001b[0m\u001b[1;33m\u001b[0m\u001b[0m\n\u001b[0;32m    184\u001b[0m                                  % layer)\n\u001b[1;32m--> 185\u001b[1;33m             \u001b[0mall_outputs\u001b[0m\u001b[1;33m[\u001b[0m\u001b[0mlayer\u001b[0m\u001b[1;33m]\u001b[0m \u001b[1;33m=\u001b[0m \u001b[0mlayer\u001b[0m\u001b[1;33m.\u001b[0m\u001b[0mget_output_for\u001b[0m\u001b[1;33m(\u001b[0m\u001b[0mlayer_inputs\u001b[0m\u001b[1;33m,\u001b[0m \u001b[1;33m**\u001b[0m\u001b[0mkwargs\u001b[0m\u001b[1;33m)\u001b[0m\u001b[1;33m\u001b[0m\u001b[0m\n\u001b[0m\u001b[0;32m    186\u001b[0m     \u001b[1;31m# return the output(s) of the requested layer(s) only\u001b[0m\u001b[1;33m\u001b[0m\u001b[1;33m\u001b[0m\u001b[0m\n\u001b[0;32m    187\u001b[0m     \u001b[1;32mtry\u001b[0m\u001b[1;33m:\u001b[0m\u001b[1;33m\u001b[0m\u001b[0m\n",
      "\u001b[1;32m/home/du2/12CS30009/BTechProject/Lasagne/lasagne/layers/dense.pyc\u001b[0m in \u001b[0;36mget_output_for\u001b[1;34m(self, input, **kwargs)\u001b[0m\n\u001b[0;32m     80\u001b[0m \u001b[1;33m\u001b[0m\u001b[0m\n\u001b[0;32m     81\u001b[0m     \u001b[1;32mdef\u001b[0m \u001b[0mget_output_for\u001b[0m\u001b[1;33m(\u001b[0m\u001b[0mself\u001b[0m\u001b[1;33m,\u001b[0m \u001b[0minput\u001b[0m\u001b[1;33m,\u001b[0m \u001b[1;33m**\u001b[0m\u001b[0mkwargs\u001b[0m\u001b[1;33m)\u001b[0m\u001b[1;33m:\u001b[0m\u001b[1;33m\u001b[0m\u001b[0m\n\u001b[1;32m---> 82\u001b[1;33m         \u001b[1;32mif\u001b[0m \u001b[0minput\u001b[0m\u001b[1;33m.\u001b[0m\u001b[0mndim\u001b[0m \u001b[1;33m>\u001b[0m \u001b[1;36m2\u001b[0m\u001b[1;33m:\u001b[0m\u001b[1;33m\u001b[0m\u001b[0m\n\u001b[0m\u001b[0;32m     83\u001b[0m             \u001b[1;31m# if the input has more than two dimensions, flatten it into a\u001b[0m\u001b[1;33m\u001b[0m\u001b[1;33m\u001b[0m\u001b[0m\n\u001b[0;32m     84\u001b[0m             \u001b[1;31m# batch of feature vectors.\u001b[0m\u001b[1;33m\u001b[0m\u001b[1;33m\u001b[0m\u001b[0m\n",
      "\u001b[1;31mAttributeError\u001b[0m: 'SharedVariable' object has no attribute 'ndim'"
     ]
    }
   ],
   "source": [
    "import nnet.lasagnenets as LN\n",
    "reload(LN)\n",
    "\n",
    "mnet = LN.nnet(\n",
    "    n_in = 784, n_out = 10,\n",
    "    h_layers = [100, 50],\n",
    "    i_drop=0.2,\n",
    "    l_drops=[0.3, 0.3],\n",
    "    lam=0.0001, Temp=1,\n",
    "    inp_max=True,\n",
    "    nonlinearity=L.nonlinearities.rectify\n",
    "    )\n",
    "\n",
    "mnet.loadmodel('model.npz')"
   ]
  }
 ],
 "metadata": {
  "kernelspec": {
   "display_name": "Python 2",
   "language": "python",
   "name": "python2"
  },
  "language_info": {
   "codemirror_mode": {
    "name": "ipython",
    "version": 2
   },
   "file_extension": ".py",
   "mimetype": "text/x-python",
   "name": "python",
   "nbconvert_exporter": "python",
   "pygments_lexer": "ipython2",
   "version": "2.7.10"
  }
 },
 "nbformat": 4,
 "nbformat_minor": 0
}
