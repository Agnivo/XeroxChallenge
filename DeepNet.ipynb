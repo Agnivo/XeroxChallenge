{
 "cells": [
  {
   "cell_type": "code",
   "execution_count": 49,
   "metadata": {
    "collapsed": false
   },
   "outputs": [
    {
     "name": "stdout",
     "output_type": "stream",
     "text": [
      "Populating the interactive namespace from numpy and matplotlib\n"
     ]
    }
   ],
   "source": [
    "%pylab inline\n",
    "\n",
    "from library import lasagnennet as LN\n",
    "from library import features as F\n",
    "from library import scale as S\n",
    "import numpy as np\n",
    "import theano as TH\n",
    "import pandas as pa\n",
    "import lasagne as L"
   ]
  },
  {
   "cell_type": "code",
   "execution_count": 52,
   "metadata": {
    "collapsed": false
   },
   "outputs": [
    {
     "name": "stdout",
     "output_type": "stream",
     "text": [
      "['ID', 'TIME', 'V1', 'V2', 'V3', 'V4', 'V5', 'V6', 'ICU']\n",
      "['ID', 'TIME', 'L1', 'L2', 'L3', 'L4', 'L5', 'L6', 'L7', 'L8', 'L9', 'L10', 'L11', 'L12', 'L13', 'L14', 'L15', 'L16', 'L17', 'L18', 'L19', 'L20', 'L21', 'L22', 'L23', 'L24', 'L25']\n",
      "['ID', 'AGE']\n",
      "Column :  V1 max Value :  290.0 mean Value :  122.710736712 Mean by Max ratio :  0.42314047142\n",
      "Column :  V1 Mean by Max ratio :  0.42314047142\n",
      "Column :  V2 max Value :  200.0 mean Value :  69.2100425966 Mean by Max ratio :  0.346050212983\n",
      "Column :  V2 Mean by Max ratio :  0.346050212983\n",
      "Column :  V3 max Value :  219.0 mean Value :  86.8153202933 Mean by Max ratio :  0.39641698764\n",
      "Column :  V3 Mean by Max ratio :  0.39641698764\n",
      "Column :  V4 max Value :  82.0 mean Value :  20.4260971774 Mean by Max ratio :  0.249098746066\n",
      "Column :  V4 Mean by Max ratio :  0.249098746066\n",
      "Column :  V5 max Value :  102.0 mean Value :  97.6664309932 Mean by Max ratio :  0.957514029345\n",
      "Column :  V5 Mean by Max ratio :  0.957514029345\n",
      "Column :  V6 max Value :  108.2 mean Value :  98.2426799542 Mean by Max ratio :  0.907973012515\n",
      "Column :  V6 Mean by Max ratio :  0.907973012515\n",
      "Column :  L18 max Value :  1599.36233609 mean Value :  148.042570994 Mean by Max ratio :  0.0925634971222 finite values :  106199\n",
      "Column :  L18 Mean by Max ratio :  0.6751935772\n",
      "Column :  L19 max Value :  857.331644251 mean Value :  157.473834812 Mean by Max ratio :  0.183679018345 finite values :  1484\n",
      "Column :  L19 Mean by Max ratio :  0.183679018345\n",
      "Column :  L14 max Value :  284.98123446 mean Value :  86.1962171214 Mean by Max ratio :  0.302462782452 finite values :  1214\n",
      "Column :  L14 Mean by Max ratio :  0.302462782452\n",
      "Column :  L15 max Value :  28.7438804567 mean Value :  2.68680579806 Mean by Max ratio :  0.0934740110023 finite values :  1968\n",
      "Column :  L15 Mean by Max ratio :  0.485948474379\n",
      "Column :  L16 max Value :  247.27499433 mean Value :  5.00107603793 Mean by Max ratio :  0.0202247544338 finite values :  4709\n",
      "Column :  L16 Mean by Max ratio :  0.668922056492\n",
      "Column :  L17 max Value :  5.44628078605 mean Value :  0.389832611785 Mean by Max ratio :  0.0715777660203 finite values :  104\n",
      "Column :  L17 Mean by Max ratio :  0.515676906793\n",
      "Column :  L10 max Value :  70.3214705805 mean Value :  31.2982370957 Mean by Max ratio :  0.445073699928 finite values :  29835\n",
      "Column :  L10 Mean by Max ratio :  0.445073699928\n",
      "Column :  L11 max Value :  1758.21767799 mean Value :  219.903522576 Mean by Max ratio :  0.125071841404 finite values :  26593\n",
      "Column :  L11 Mean by Max ratio :  0.125071841404\n",
      "Column :  L12 max Value :  38.6527652929 mean Value :  1.3618623351 Mean by Max ratio :  0.0352332446277 finite values :  11119\n",
      "Column :  L12 Mean by Max ratio :  0.45448799264\n",
      "Column :  L13 max Value :  5006.57651932 mean Value :  1674.94163214 Mean by Max ratio :  0.334548293765 finite values :  41\n",
      "Column :  L13 Mean by Max ratio :  0.334548293765\n",
      "Column :  L21 max Value :  5.4746654179 mean Value :  2.87050440695 Mean by Max ratio :  0.524325084336 finite values :  13184\n",
      "Column :  L21 Mean by Max ratio :  0.524325084336\n",
      "Column :  L20 max Value :  2052.67059939 mean Value :  56.5746757373 Mean by Max ratio :  0.0275614975701 finite values :  6330\n",
      "Column :  L20 Mean by Max ratio :  0.650367539913\n",
      "Column :  L23 max Value :  5753.5877775 mean Value :  64.6844007667 Mean by Max ratio :  0.0112424461515 finite values :  5775\n",
      "Column :  L23 Mean by Max ratio :  0.568424629799\n",
      "Column :  L22 max Value :  1148.88118594 mean Value :  98.8390728979 Mean by Max ratio :  0.0860307176299 finite values :  10879\n",
      "Column :  L22 Mean by Max ratio :  0.471418231388\n",
      "Column :  L25 max Value :  9.46730142689 mean Value :  1.97080241534 Mean by Max ratio :  0.20816939553 finite values :  16990\n",
      "Column :  L25 Mean by Max ratio :  0.20816939553\n",
      "Column :  L24 max Value :  152.662242761 mean Value :  37.8914316939 Mean by Max ratio :  0.248204343187 finite values :  459\n",
      "Column :  L24 Mean by Max ratio :  0.248204343187\n",
      "Column :  L6 max Value :  62.0436226912 mean Value :  25.6178691599 Mean by Max ratio :  0.412900924361 finite values :  12961\n",
      "Column :  L6 Mean by Max ratio :  0.412900924361\n",
      "Column :  L7 max Value :  19955.3569063 mean Value :  34.8834420927 Mean by Max ratio :  0.00174807407638 finite values :  29993\n",
      "Column :  L7 Mean by Max ratio :  0.619070685349\n",
      "Column :  L4 max Value :  207.631022205 mean Value :  137.72916393 Mean by Max ratio :  0.663336155009 finite values :  32719\n",
      "Column :  L4 Mean by Max ratio :  0.663336155009\n",
      "Column :  L5 max Value :  86.4218004279 mean Value :  4.05307622823 Mean by Max ratio :  0.0468987710064 finite values :  35741\n",
      "Column :  L5 Mean by Max ratio :  0.270267104839\n",
      "Column :  L2 max Value :  189.360909446 mean Value :  43.7436430747 Mean by Max ratio :  0.231006722574 finite values :  12790\n",
      "Column :  L2 Mean by Max ratio :  0.231006722574\n",
      "Column :  L3 max Value :  663.8873613 mean Value :  121.660821814 Mean by Max ratio :  0.183255216029 finite values :  12831\n",
      "Column :  L3 Mean by Max ratio :  0.183255216029\n",
      "Column :  L1 max Value :  8.00528877671 mean Value :  7.36783249866 Mean by Max ratio :  0.920370608003 finite values :  12471\n",
      "Column :  L1 Mean by Max ratio :  0.920370608003\n",
      "Column :  L8 max Value :  421.380554184 mean Value :  1.90882551954 Mean by Max ratio :  0.00452993262406 finite values :  30131\n",
      "Column :  L8 Mean by Max ratio :  0.642774179253\n",
      "Column :  L9 max Value :  435674.196596 mean Value :  169.829406886 Mean by Max ratio :  0.000389808274653 finite values :  26986\n",
      "Column :  L9 Mean by Max ratio :  0.474399348802\n"
     ]
    }
   ],
   "source": [
    "reload(S)\n",
    "S.scale()"
   ]
  },
  {
   "cell_type": "code",
   "execution_count": 72,
   "metadata": {
    "collapsed": false,
    "scrolled": true
   },
   "outputs": [
    {
     "name": "stdout",
     "output_type": "stream",
     "text": [
      "Getting features...\n"
     ]
    },
    {
     "ename": "KeyboardInterrupt",
     "evalue": "",
     "output_type": "error",
     "traceback": [
      "\u001b[1;31m---------------------------------------------------------------------------\u001b[0m",
      "\u001b[1;31mKeyboardInterrupt\u001b[0m                         Traceback (most recent call last)",
      "\u001b[1;32m<ipython-input-72-56e4ced78fec>\u001b[0m in \u001b[0;36m<module>\u001b[1;34m()\u001b[0m\n\u001b[0;32m      5\u001b[0m     \u001b[0mage_file\u001b[0m\u001b[1;33m=\u001b[0m\u001b[1;34m'Training_Dataset/age_train.csv'\u001b[0m\u001b[1;33m,\u001b[0m\u001b[1;33m\u001b[0m\u001b[0m\n\u001b[0;32m      6\u001b[0m     \u001b[0mlabel_file\u001b[0m\u001b[1;33m=\u001b[0m\u001b[1;34m'Training_Dataset/id_label_train.csv'\u001b[0m\u001b[1;33m,\u001b[0m\u001b[1;33m\u001b[0m\u001b[0m\n\u001b[1;32m----> 7\u001b[1;33m     \u001b[0mprefix\u001b[0m\u001b[1;33m=\u001b[0m\u001b[1;34m''\u001b[0m\u001b[1;33m\u001b[0m\u001b[0m\n\u001b[0m\u001b[0;32m      8\u001b[0m )\n",
      "\u001b[1;32m/home/du2/12CS30009/XeroxChallenge/library/features.py\u001b[0m in \u001b[0;36mgetfeatures\u001b[1;34m(vital_file, lab_file, age_file, label_file, prefix, valfold)\u001b[0m\n\u001b[0;32m     60\u001b[0m \u001b[1;33m\u001b[0m\u001b[0m\n\u001b[0;32m     61\u001b[0m     \u001b[1;32mfor\u001b[0m \u001b[0mi\u001b[0m\u001b[1;33m,\u001b[0m \u001b[0mrow\u001b[0m \u001b[1;32min\u001b[0m \u001b[0menumerate\u001b[0m\u001b[1;33m(\u001b[0m\u001b[0mvitals\u001b[0m\u001b[1;33m.\u001b[0m\u001b[0miterrows\u001b[0m\u001b[1;33m(\u001b[0m\u001b[1;33m)\u001b[0m\u001b[1;33m)\u001b[0m\u001b[1;33m:\u001b[0m\u001b[1;33m\u001b[0m\u001b[0m\n\u001b[1;32m---> 62\u001b[1;33m         \u001b[0mtvitals\u001b[0m\u001b[1;33m[\u001b[0m\u001b[0mrow\u001b[0m\u001b[1;33m[\u001b[0m\u001b[1;36m1\u001b[0m\u001b[1;33m]\u001b[0m\u001b[1;33m[\u001b[0m\u001b[1;34m'ID'\u001b[0m\u001b[1;33m]\u001b[0m\u001b[1;33m.\u001b[0m\u001b[0mastype\u001b[0m\u001b[1;33m(\u001b[0m\u001b[0mnp\u001b[0m\u001b[1;33m.\u001b[0m\u001b[0mint32\u001b[0m\u001b[1;33m)\u001b[0m\u001b[1;33m]\u001b[0m\u001b[1;33m.\u001b[0m\u001b[0mappend\u001b[0m\u001b[1;33m(\u001b[0m\u001b[0mnp\u001b[0m\u001b[1;33m.\u001b[0m\u001b[0masarray\u001b[0m\u001b[1;33m(\u001b[0m\u001b[0mrow\u001b[0m\u001b[1;33m[\u001b[0m\u001b[1;36m1\u001b[0m\u001b[1;33m]\u001b[0m\u001b[1;33m[\u001b[0m\u001b[1;36m2\u001b[0m\u001b[1;33m:\u001b[0m\u001b[1;33m]\u001b[0m\u001b[1;33m)\u001b[0m\u001b[1;33m)\u001b[0m\u001b[1;33m\u001b[0m\u001b[0m\n\u001b[0m\u001b[0;32m     63\u001b[0m         \u001b[0mttime\u001b[0m\u001b[1;33m[\u001b[0m\u001b[0mrow\u001b[0m\u001b[1;33m[\u001b[0m\u001b[1;36m1\u001b[0m\u001b[1;33m]\u001b[0m\u001b[1;33m[\u001b[0m\u001b[1;34m'ID'\u001b[0m\u001b[1;33m]\u001b[0m\u001b[1;33m.\u001b[0m\u001b[0mastype\u001b[0m\u001b[1;33m(\u001b[0m\u001b[0mnp\u001b[0m\u001b[1;33m.\u001b[0m\u001b[0mint32\u001b[0m\u001b[1;33m)\u001b[0m\u001b[1;33m]\u001b[0m\u001b[1;33m.\u001b[0m\u001b[0;31m\\\u001b[0m\u001b[1;33m\u001b[0m\u001b[0m\n\u001b[0;32m     64\u001b[0m             \u001b[0mappend\u001b[0m\u001b[1;33m(\u001b[0m\u001b[0mrow\u001b[0m\u001b[1;33m[\u001b[0m\u001b[1;36m1\u001b[0m\u001b[1;33m]\u001b[0m\u001b[1;33m[\u001b[0m\u001b[1;34m'TIME'\u001b[0m\u001b[1;33m]\u001b[0m\u001b[1;33m.\u001b[0m\u001b[0mastype\u001b[0m\u001b[1;33m(\u001b[0m\u001b[0mnp\u001b[0m\u001b[1;33m.\u001b[0m\u001b[0mint32\u001b[0m\u001b[1;33m)\u001b[0m\u001b[1;33m)\u001b[0m\u001b[1;33m\u001b[0m\u001b[0m\n",
      "\u001b[1;32m/home/du2/12CS30009/anaconda/lib/python2.7/site-packages/pandas/core/series.pyc\u001b[0m in \u001b[0;36m__getitem__\u001b[1;34m(self, key)\u001b[0m\n\u001b[0;32m    519\u001b[0m     \u001b[1;32mdef\u001b[0m \u001b[0m__getitem__\u001b[0m\u001b[1;33m(\u001b[0m\u001b[0mself\u001b[0m\u001b[1;33m,\u001b[0m \u001b[0mkey\u001b[0m\u001b[1;33m)\u001b[0m\u001b[1;33m:\u001b[0m\u001b[1;33m\u001b[0m\u001b[0m\n\u001b[0;32m    520\u001b[0m         \u001b[1;32mtry\u001b[0m\u001b[1;33m:\u001b[0m\u001b[1;33m\u001b[0m\u001b[0m\n\u001b[1;32m--> 521\u001b[1;33m             \u001b[0mresult\u001b[0m \u001b[1;33m=\u001b[0m \u001b[0mself\u001b[0m\u001b[1;33m.\u001b[0m\u001b[0mindex\u001b[0m\u001b[1;33m.\u001b[0m\u001b[0mget_value\u001b[0m\u001b[1;33m(\u001b[0m\u001b[0mself\u001b[0m\u001b[1;33m,\u001b[0m \u001b[0mkey\u001b[0m\u001b[1;33m)\u001b[0m\u001b[1;33m\u001b[0m\u001b[0m\n\u001b[0m\u001b[0;32m    522\u001b[0m \u001b[1;33m\u001b[0m\u001b[0m\n\u001b[0;32m    523\u001b[0m             \u001b[1;32mif\u001b[0m \u001b[1;32mnot\u001b[0m \u001b[0mnp\u001b[0m\u001b[1;33m.\u001b[0m\u001b[0misscalar\u001b[0m\u001b[1;33m(\u001b[0m\u001b[0mresult\u001b[0m\u001b[1;33m)\u001b[0m\u001b[1;33m:\u001b[0m\u001b[1;33m\u001b[0m\u001b[0m\n",
      "\u001b[1;31mKeyboardInterrupt\u001b[0m: "
     ]
    }
   ],
   "source": [
    "reload(F)\n",
    "F.getfeatures(\n",
    "    vital_file='Training_Dataset/vital_train.csv',\n",
    "    lab_file='Training_Dataset/lab_train.csv',\n",
    "    age_file='Training_Dataset/age_train.csv',\n",
    "    label_file='Training_Dataset/id_label_train.csv',\n",
    "    prefix=''\n",
    ")"
   ]
  },
  {
   "cell_type": "code",
   "execution_count": 55,
   "metadata": {
    "collapsed": true
   },
   "outputs": [],
   "source": [
    "train_feats = pa.read_csv('train_feats.csv')\n",
    "train_targets = pa.read_csv('train_targets.csv')\n",
    "val_feats = pa.read_csv('validation_feats.csv')\n",
    "val_targets = pa.read_csv('validation_targets.csv')"
   ]
  },
  {
   "cell_type": "code",
   "execution_count": 56,
   "metadata": {
    "collapsed": false
   },
   "outputs": [
    {
     "name": "stdout",
     "output_type": "stream",
     "text": [
      "Index([u'ID', u'TIME', u'LABEL', u'ICU'], dtype='object')\n"
     ]
    }
   ],
   "source": [
    "print train_targets.columns"
   ]
  },
  {
   "cell_type": "code",
   "execution_count": 57,
   "metadata": {
    "collapsed": true
   },
   "outputs": [],
   "source": [
    "tx = np.asarray(train_feats, dtype=TH.config.floatX)\n",
    "tyall = np.asarray(train_targets, dtype=TH.config.floatX)\n",
    "ty = np.asarray(train_targets['LABEL'], dtype=TH.config.floatX).reshape(-1, 1)\n",
    "vx = np.asarray(val_feats, dtype=TH.config.floatX)\n",
    "vyall = np.asarray(val_targets, dtype=TH.config.floatX)\n",
    "vy = np.asarray(val_targets['LABEL'], dtype=TH.config.floatX).reshape(-1, 1)"
   ]
  },
  {
   "cell_type": "code",
   "execution_count": 58,
   "metadata": {
    "collapsed": false
   },
   "outputs": [
    {
     "name": "stdout",
     "output_type": "stream",
     "text": [
      "(471667, 641) (471667, 4) (471667, 1) (156770, 641) (156770, 4) (156770, 1)\n"
     ]
    }
   ],
   "source": [
    "print tx.shape, tyall.shape, ty.shape, vx.shape, vyall.shape, vy.shape"
   ]
  },
  {
   "cell_type": "code",
   "execution_count": 70,
   "metadata": {
    "collapsed": true
   },
   "outputs": [],
   "source": [
    "reload(LN)\n",
    "nneta = LN.nnet(n_in=641, n_out=1, h_layers=[1000,1000],\n",
    "                i_drop=None, l_drops=None, lam=0.0,\n",
    "                nonlinearity=L.nonlinearities.sigmoid\n",
    "           )"
   ]
  },
  {
   "cell_type": "code",
   "execution_count": 71,
   "metadata": {
    "collapsed": false
   },
   "outputs": [
    {
     "name": "stdout",
     "output_type": "stream",
     "text": [
      "Training ... \n",
      "Iteration 0, Loss = 4.4704550813\n",
      "Testing ...\n",
      "Mean accuracy = 0.0\n",
      "Iteration 1, Loss = 2.05406160235\n",
      "Iteration 2, Loss = 1.46645686491\n",
      "Iteration 3, Loss = 0.840035182691\n",
      "Iteration 4, Loss = 0.786489365821\n",
      "Iteration 5, Loss = 0.786481411628\n",
      "Iteration 6, Loss = 0.786472140993\n",
      "Iteration 7, Loss = 0.786464402403\n",
      "Iteration 8, Loss = 0.786458370537\n",
      "Iteration 9, Loss = 0.786453036368\n",
      "Iteration 10, Loss = 0.786448141692\n",
      "Testing ...\n",
      "Mean accuracy = 0.0\n",
      "Iteration 11, Loss = 0.786443763694\n",
      "Iteration 12, Loss = 0.786439187905\n",
      "Iteration 13, Loss = 0.78643509964\n",
      "Iteration 14, Loss = 0.786430462473\n",
      "Iteration 15, Loss = 0.786425634344\n",
      "Iteration 16, Loss = 0.786421017751\n",
      "Iteration 17, Loss = 0.786416512807\n",
      "Iteration 18, Loss = 0.786411605584\n",
      "Iteration 19, Loss = 0.786406716285\n",
      "Iteration 20, Loss = 0.786401201761\n",
      "Testing ...\n",
      "Mean accuracy = 0.0\n"
     ]
    },
    {
     "ename": "KeyboardInterrupt",
     "evalue": "",
     "output_type": "error",
     "traceback": [
      "\u001b[1;31m---------------------------------------------------------------------------\u001b[0m",
      "\u001b[1;31mKeyboardInterrupt\u001b[0m                         Traceback (most recent call last)",
      "\u001b[1;32m<ipython-input-71-1ee69d6e676a>\u001b[0m in \u001b[0;36m<module>\u001b[1;34m()\u001b[0m\n\u001b[0;32m      1\u001b[0m nneta.train(x=tx, y=ty, lrate=1, gamma=0.9, batch_size=1000, iters=100,\n\u001b[1;32m----> 2\u001b[1;33m             \u001b[0mtestx\u001b[0m\u001b[1;33m=\u001b[0m\u001b[0mvx\u001b[0m\u001b[1;33m,\u001b[0m \u001b[0mtesty\u001b[0m\u001b[1;33m=\u001b[0m\u001b[0mvy\u001b[0m\u001b[1;33m,\u001b[0m \u001b[0mfilename\u001b[0m\u001b[1;33m=\u001b[0m\u001b[1;34m'model.npz'\u001b[0m\u001b[1;33m\u001b[0m\u001b[0m\n\u001b[0m\u001b[0;32m      3\u001b[0m            )\n",
      "\u001b[1;32m/home/du2/12CS30009/XeroxChallenge/library/lasagnennet.py\u001b[0m in \u001b[0;36mtrain\u001b[1;34m(self, x, y, lrate, gamma, batch_size, iters, test_batch, testx, testy, filename, lrate_iters, lrate_factor)\u001b[0m\n\u001b[0;32m    122\u001b[0m             \u001b[0mcnt\u001b[0m \u001b[1;33m=\u001b[0m \u001b[1;36m0\u001b[0m\u001b[1;33m\u001b[0m\u001b[0m\n\u001b[0;32m    123\u001b[0m             \u001b[1;32mfor\u001b[0m \u001b[0mbx\u001b[0m\u001b[1;33m,\u001b[0m \u001b[0mby\u001b[0m \u001b[1;32min\u001b[0m \u001b[0mbatch_iterable\u001b[0m\u001b[1;33m(\u001b[0m\u001b[0mx\u001b[0m\u001b[1;33m,\u001b[0m \u001b[0my\u001b[0m\u001b[1;33m,\u001b[0m \u001b[0mbatch_size\u001b[0m\u001b[1;33m)\u001b[0m\u001b[1;33m:\u001b[0m\u001b[1;33m\u001b[0m\u001b[0m\n\u001b[1;32m--> 124\u001b[1;33m                 \u001b[0mc_loss\u001b[0m\u001b[1;33m,\u001b[0m \u001b[1;33m=\u001b[0m \u001b[0mself\u001b[0m\u001b[1;33m.\u001b[0m\u001b[0mtrainer\u001b[0m\u001b[1;33m(\u001b[0m\u001b[0mbx\u001b[0m\u001b[1;33m,\u001b[0m \u001b[0mby\u001b[0m\u001b[1;33m)\u001b[0m\u001b[1;33m\u001b[0m\u001b[0m\n\u001b[0m\u001b[0;32m    125\u001b[0m                 \u001b[0mtot_loss\u001b[0m \u001b[1;33m+=\u001b[0m \u001b[0mc_loss\u001b[0m\u001b[1;33m\u001b[0m\u001b[0m\n\u001b[0;32m    126\u001b[0m                 \u001b[0mcnt\u001b[0m \u001b[1;33m+=\u001b[0m \u001b[1;36m1\u001b[0m\u001b[1;33m\u001b[0m\u001b[0m\n",
      "\u001b[1;32m/home/du2/12CS30009/anaconda/lib/python2.7/site-packages/theano/compile/function_module.pyc\u001b[0m in \u001b[0;36m__call__\u001b[1;34m(self, *args, **kwargs)\u001b[0m\n\u001b[0;32m    605\u001b[0m         \u001b[0mt0_fn\u001b[0m \u001b[1;33m=\u001b[0m \u001b[0mtime\u001b[0m\u001b[1;33m.\u001b[0m\u001b[0mtime\u001b[0m\u001b[1;33m(\u001b[0m\u001b[1;33m)\u001b[0m\u001b[1;33m\u001b[0m\u001b[0m\n\u001b[0;32m    606\u001b[0m         \u001b[1;32mtry\u001b[0m\u001b[1;33m:\u001b[0m\u001b[1;33m\u001b[0m\u001b[0m\n\u001b[1;32m--> 607\u001b[1;33m             \u001b[0moutputs\u001b[0m \u001b[1;33m=\u001b[0m \u001b[0mself\u001b[0m\u001b[1;33m.\u001b[0m\u001b[0mfn\u001b[0m\u001b[1;33m(\u001b[0m\u001b[1;33m)\u001b[0m\u001b[1;33m\u001b[0m\u001b[0m\n\u001b[0m\u001b[0;32m    608\u001b[0m         \u001b[1;32mexcept\u001b[0m \u001b[0mException\u001b[0m\u001b[1;33m:\u001b[0m\u001b[1;33m\u001b[0m\u001b[0m\n\u001b[0;32m    609\u001b[0m             \u001b[1;32mif\u001b[0m \u001b[0mhasattr\u001b[0m\u001b[1;33m(\u001b[0m\u001b[0mself\u001b[0m\u001b[1;33m.\u001b[0m\u001b[0mfn\u001b[0m\u001b[1;33m,\u001b[0m \u001b[1;34m'position_of_error'\u001b[0m\u001b[1;33m)\u001b[0m\u001b[1;33m:\u001b[0m\u001b[1;33m\u001b[0m\u001b[0m\n",
      "\u001b[1;31mKeyboardInterrupt\u001b[0m: "
     ]
    }
   ],
   "source": [
    "nneta.train(x=tx, y=ty, lrate=1, gamma=0.9, batch_size=1000, iters=100,\n",
    "            testx=vx, testy=vy, filename='model.npz'\n",
    "           )"
   ]
  },
  {
   "cell_type": "code",
   "execution_count": 42,
   "metadata": {
    "collapsed": false
   },
   "outputs": [
    {
     "name": "stdout",
     "output_type": "stream",
     "text": [
      "[array([[ 1.],\n",
      "       [ 1.],\n",
      "       [ 1.],\n",
      "       ..., \n",
      "       [ 1.],\n",
      "       [ 1.],\n",
      "       [ 1.]], dtype=float32)]\n",
      "(138276, 641)\n"
     ]
    }
   ],
   "source": [
    "print nneta.tester(vx[np.where(vy==0)[0]])\n",
    "print vx[np.where(vy==0)[0]].shape"
   ]
  }
 ],
 "metadata": {
  "kernelspec": {
   "display_name": "Python 2",
   "language": "python",
   "name": "python2"
  },
  "language_info": {
   "codemirror_mode": {
    "name": "ipython",
    "version": 2
   },
   "file_extension": ".py",
   "mimetype": "text/x-python",
   "name": "python",
   "nbconvert_exporter": "python",
   "pygments_lexer": "ipython2",
   "version": "2.7.10"
  }
 },
 "nbformat": 4,
 "nbformat_minor": 0
}
