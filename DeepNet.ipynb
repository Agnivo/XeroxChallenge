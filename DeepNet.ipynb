{
 "cells": [
  {
   "cell_type": "code",
   "execution_count": 1,
   "metadata": {
    "collapsed": false
   },
   "outputs": [
    {
     "name": "stdout",
     "output_type": "stream",
     "text": [
      "Populating the interactive namespace from numpy and matplotlib\n"
     ]
    },
    {
     "name": "stderr",
     "output_type": "stream",
     "text": [
      "Using gpu device 0: Tesla K20m (CNMeM is disabled)\n"
     ]
    }
   ],
   "source": [
    "%pylab inline\n",
    "\n",
    "from library import lasagnennet as LN\n",
    "from library import features as F\n",
    "from library import scale as S\n",
    "from library import validate as V\n",
    "import numpy as np\n",
    "import theano as TH\n",
    "import pandas as pa\n",
    "import lasagne as L"
   ]
  },
  {
   "cell_type": "code",
   "execution_count": 2,
   "metadata": {
    "collapsed": false
   },
   "outputs": [],
   "source": [
    "train_feats = pa.read_csv('win_train_feats.csv')\n",
    "train_targets = pa.read_csv('win_train_targets.csv')\n",
    "val_feats = pa.read_csv('win_validation_feats.csv')\n",
    "val_targets = pa.read_csv('win_validation_targets.csv')\n",
    "vval_feats = pa.read_csv('win_val_train_feats.csv')\n",
    "vval_targets = pa.read_csv('win_val_train_targets.csv')"
   ]
  },
  {
   "cell_type": "code",
   "execution_count": 3,
   "metadata": {
    "collapsed": false
   },
   "outputs": [
    {
     "name": "stdout",
     "output_type": "stream",
     "text": [
      "Index([u'ID', u'TIME', u'LABEL', u'ICU'], dtype='object')\n"
     ]
    }
   ],
   "source": [
    "print train_targets.columns"
   ]
  },
  {
   "cell_type": "code",
   "execution_count": 3,
   "metadata": {
    "collapsed": false
   },
   "outputs": [],
   "source": [
    "tx = np.asarray(train_feats, dtype=np.float32)\n",
    "tyall = np.asarray(train_targets, dtype=np.float32)\n",
    "ty = np.asarray(train_targets['LABEL'], dtype=np.float32).reshape(-1, 1)\n",
    "vx = np.asarray(val_feats, dtype=np.float32)\n",
    "vyall = np.asarray(val_targets, dtype=np.float32)\n",
    "vy = np.asarray(val_targets['LABEL'], dtype=np.float32).reshape(-1, 1)"
   ]
  },
  {
   "cell_type": "code",
   "execution_count": 4,
   "metadata": {
    "collapsed": true
   },
   "outputs": [],
   "source": [
    "valx = np.asarray(vval_feats, dtype=np.float32)\n",
    "valyall = np.asarray(vval_targets, dtype=np.int64)"
   ]
  },
  {
   "cell_type": "code",
   "execution_count": 5,
   "metadata": {
    "collapsed": false
   },
   "outputs": [
    {
     "name": "stdout",
     "output_type": "stream",
     "text": [
      "(481571, 321) (481571, 4) (481571, 1) (146866, 321) (146866, 4) (146866, 1) (199971, 321) (199971, 3)\n"
     ]
    }
   ],
   "source": [
    "print tx.shape, tyall.shape, ty.shape, vx.shape, vyall.shape, vy.shape, valx.shape, valyall.shape"
   ]
  },
  {
   "cell_type": "code",
   "execution_count": 49,
   "metadata": {
    "collapsed": false,
    "scrolled": true
   },
   "outputs": [
    {
     "name": "stdout",
     "output_type": "stream",
     "text": [
      "Training ... \n",
      "Iteration 0, Loss = 0.0636082938041\n",
      "Testing ...\n",
      "[ 0.79487032  0.79489094  0.79489845 ...,  0.79135108  0.7912159\n",
      "  0.79115719]\n",
      "Mean auc = 0.399856797079\n",
      "Iteration 1, Loss = 0.0518683758854\n",
      "Iteration 2, Loss = 0.0458472050819\n",
      "Iteration 3, Loss = 0.0412768308514\n",
      "Iteration 4, Loss = 0.0375781331281\n",
      "Iteration 5, Loss = 0.0345464382723\n",
      "Iteration 6, Loss = 0.0320728938308\n",
      "Iteration 7, Loss = 0.0300431300604\n",
      "Iteration 8, Loss = 0.0283794662108\n",
      "Iteration 9, Loss = 0.0270115482115\n",
      "Iteration 10, Loss = 0.0258897919733\n",
      "Testing ...\n",
      "[ 0.94751167  0.94751352  0.94751275 ...,  0.94693166  0.94691873\n",
      "  0.94690174]\n",
      "Mean auc = 0.633755223694\n",
      "Iteration 11, Loss = 0.0249649731682\n",
      "Iteration 12, Loss = 0.0242038789665\n",
      "Iteration 13, Loss = 0.0235744792914\n",
      "Iteration 14, Loss = 0.0230583905308\n",
      "Iteration 15, Loss = 0.0226317861763\n",
      "Iteration 16, Loss = 0.0222797094114\n",
      "Iteration 17, Loss = 0.0219884529455\n",
      "Iteration 18, Loss = 0.0217482097625\n",
      "Iteration 19, Loss = 0.0215499160069\n",
      "Iteration 20, Loss = 0.0213855049376\n",
      "Testing ...\n",
      "[ 0.95020074  0.9502002   0.95020056 ...,  0.9503606   0.95036393\n",
      "  0.95036846]\n",
      "Mean auc = 0.609469903395\n",
      "Iteration 21, Loss = 0.0212488281135\n",
      "Iteration 22, Loss = 0.0211370972051\n",
      "Iteration 23, Loss = 0.0210427700376\n",
      "Iteration 24, Loss = 0.0209653107797\n",
      "Iteration 25, Loss = 0.0209020879274\n",
      "Iteration 26, Loss = 0.0208472214925\n",
      "Iteration 27, Loss = 0.0208034614059\n",
      "Iteration 28, Loss = 0.0207653194279\n",
      "Iteration 29, Loss = 0.0207351858446\n",
      "Iteration 30, Loss = 0.0207086085976\n",
      "Testing ...\n",
      "[ 0.95027739  0.9502759   0.95027673 ...,  0.95066154  0.95066953\n",
      "  0.95067996]\n",
      "Mean auc = 0.71876952703\n",
      "Iteration 31, Loss = 0.0206879699541\n",
      "Iteration 32, Loss = 0.0206684078712\n",
      "Iteration 33, Loss = 0.0206545549194\n",
      "Iteration 34, Loss = 0.0206403560392\n",
      "Iteration 35, Loss = 0.0206296752493\n",
      "Iteration 36, Loss = 0.0206206282234\n",
      "Iteration 37, Loss = 0.0206121978798\n",
      "Iteration 38, Loss = 0.0206045792168\n",
      "Iteration 39, Loss = 0.0205993317628\n",
      "Iteration 40, Loss = 0.0205950924346\n",
      "Testing ...\n",
      "[ 0.95031863  0.95031679  0.9503178  ...,  0.95076996  0.95077932\n",
      "  0.95079136]\n",
      "Mean auc = 0.761826149997\n",
      "Iteration 41, Loss = 0.0205888702047\n",
      "Iteration 42, Loss = 0.0205851357113\n",
      "Iteration 43, Loss = 0.0205813882644\n",
      "Iteration 44, Loss = 0.0205789757467\n",
      "Iteration 45, Loss = 0.0205762107061\n",
      "Iteration 46, Loss = 0.0205734071411\n",
      "Iteration 47, Loss = 0.0205703876464\n",
      "Iteration 48, Loss = 0.0205685488833\n",
      "Iteration 49, Loss = 0.0205659700762\n",
      "Iteration 50, Loss = 0.020564395117\n",
      "Testing ...\n",
      "[ 0.95031959  0.95031768  0.95031887 ...,  0.95078403  0.95079362\n",
      "  0.95080584]\n",
      "Mean auc = 0.779306035163\n",
      "Iteration 51, Loss = 0.0206010555984\n",
      "Iteration 52, Loss = 0.0211446946004\n",
      "Iteration 53, Loss = 0.0211383472332\n",
      "Iteration 54, Loss = 0.0211402776736\n",
      "Iteration 55, Loss = 0.0211410306692\n",
      "Iteration 56, Loss = 0.0211388735271\n",
      "Iteration 57, Loss = 0.0211391232606\n",
      "Iteration 58, Loss = 0.0211405128132\n",
      "Iteration 59, Loss = 0.0211393254446\n",
      "Iteration 60, Loss = 0.0211399746479\n",
      "Testing ...\n",
      "[ 0.92785931  0.92785615  0.927858   ...,  0.92859244  0.92860758\n",
      "  0.92862648]\n",
      "Mean auc = 0.796665657229\n",
      "Iteration 61, Loss = 0.0211379956956\n",
      "Iteration 62, Loss = 0.021138867516\n",
      "Iteration 63, Loss = 0.0211364200138\n",
      "Iteration 64, Loss = 0.0211374913748\n",
      "Iteration 65, Loss = 0.0211357873791\n",
      "Iteration 66, Loss = 0.0211340904765\n",
      "Iteration 67, Loss = 0.0211332367648\n",
      "Iteration 68, Loss = 0.0211311994194\n",
      "Iteration 69, Loss = 0.0211304287384\n",
      "Iteration 70, Loss = 0.0211295571963\n",
      "Testing ...\n",
      "[ 0.92797828  0.92797542  0.92797703 ...,  0.92864919  0.92866307\n",
      "  0.92868036]\n",
      "Mean auc = 0.796718979297\n",
      "Iteration 71, Loss = 0.0211275784005\n",
      "Iteration 72, Loss = 0.0211256118858\n",
      "Iteration 73, Loss = 0.0211255060339\n",
      "Iteration 74, Loss = 0.0211230722658\n",
      "Iteration 75, Loss = 0.0211207803331\n",
      "Iteration 76, Loss = 0.0211210148989\n",
      "Iteration 77, Loss = 0.0211193793515\n",
      "Iteration 78, Loss = 0.0211170588782\n",
      "Iteration 79, Loss = 0.021116323972\n",
      "Iteration 80, Loss = 0.0211136400182\n",
      "Testing ...\n",
      "[ 0.92806286  0.92806017  0.92806172 ...,  0.92870212  0.92871529\n",
      "  0.92873186]\n",
      "Mean auc = 0.795758738168\n",
      "Iteration 81, Loss = 0.0211136736405\n",
      "Iteration 82, Loss = 0.0211135899316\n",
      "Iteration 83, Loss = 0.0211100759588\n",
      "Iteration 84, Loss = 0.0211089961269\n",
      "Iteration 85, Loss = 0.0211079111729\n",
      "Iteration 86, Loss = 0.0211054600845\n",
      "Iteration 87, Loss = 0.0211052897143\n",
      "Iteration 88, Loss = 0.0211039058385\n",
      "Iteration 89, Loss = 0.0211027318388\n",
      "Iteration 90, Loss = 0.0211001516579\n",
      "Testing ...\n",
      "[ 0.92819226  0.92818969  0.92819124 ...,  0.92881143  0.92882431\n",
      "  0.92884034]\n",
      "Mean auc = 0.795117080622\n",
      "Iteration 91, Loss = 0.0210996633434\n",
      "Iteration 92, Loss = 0.0210976511862\n",
      "Iteration 93, Loss = 0.0210959588378\n",
      "Iteration 94, Loss = 0.0210960258254\n",
      "Iteration 95, Loss = 0.0210922311265\n",
      "Iteration 96, Loss = 0.0210936010788\n",
      "Iteration 97, Loss = 0.0210896257574\n",
      "Iteration 98, Loss = 0.0210885540969\n",
      "Iteration 99, Loss = 0.0210880080114\n",
      "Iteration 100, Loss = 0.0210864777924\n",
      "Testing ...\n",
      "[ 0.92832178  0.92831922  0.92832065 ...,  0.92891711  0.92892945\n",
      "  0.92894483]\n",
      "Mean auc = 0.794720424063\n",
      "Iteration 101, Loss = 0.0210836106772\n",
      "Iteration 102, Loss = 0.0210846599048\n",
      "Iteration 103, Loss = 0.0210833837804\n",
      "Iteration 104, Loss = 0.0210808736013\n",
      "Iteration 105, Loss = 0.0210796639196\n",
      "Iteration 106, Loss = 0.0210783488071\n",
      "Iteration 107, Loss = 0.0210771687963\n",
      "Iteration 108, Loss = 0.0210759257782\n",
      "Iteration 109, Loss = 0.0210733357546\n",
      "Iteration 110, Loss = 0.0210730117935\n",
      "Testing ...\n",
      "[ 0.92845106  0.92844856  0.92844999 ...,  0.92902642  0.92903829\n",
      "  0.92905331]\n",
      "Mean auc = 0.794393303616\n",
      "Iteration 111, Loss = 0.0210704458027\n",
      "Iteration 112, Loss = 0.0210701887152\n",
      "Iteration 113, Loss = 0.0210691279137\n",
      "Iteration 114, Loss = 0.0210667578291\n",
      "Iteration 115, Loss = 0.021066531767\n",
      "Iteration 116, Loss = 0.0210635826007\n",
      "Iteration 117, Loss = 0.0210628981752\n",
      "Iteration 118, Loss = 0.0210620827791\n",
      "Iteration 119, Loss = 0.0210605097753\n",
      "Iteration 120, Loss = 0.0210589788626\n",
      "Testing ...\n",
      "[ 0.92854941  0.92854702  0.92854834 ...,  0.92910194  0.92911339\n",
      "  0.92912781]\n",
      "Mean auc = 0.793991913311\n",
      "Iteration 121, Loss = 0.0210571694825\n",
      "Iteration 122, Loss = 0.0210548616942\n",
      "Iteration 123, Loss = 0.0210569394613\n",
      "Iteration 124, Loss = 0.021053022877\n",
      "Iteration 125, Loss = 0.0210521247362\n",
      "Iteration 126, Loss = 0.0210512704177\n",
      "Iteration 127, Loss = 0.0210505689657\n",
      "Iteration 128, Loss = 0.0210477380194\n",
      "Iteration 129, Loss = 0.0210473852317\n",
      "Iteration 130, Loss = 0.0210456202073\n",
      "Testing ...\n",
      "[ 0.92862123  0.92861897  0.92862034 ...,  0.92915756  0.92916864\n",
      "  0.92918253]\n",
      "Mean auc = 0.793650730882\n",
      "Iteration 131, Loss = 0.0210440624563\n",
      "Iteration 132, Loss = 0.0210429462044\n",
      "Iteration 133, Loss = 0.0210417083163\n",
      "Iteration 134, Loss = 0.0210406250432\n",
      "Iteration 135, Loss = 0.0210383304847\n",
      "Iteration 136, Loss = 0.0210386563548\n",
      "Iteration 137, Loss = 0.021037478226\n",
      "Iteration 138, Loss = 0.0210343963212\n",
      "Iteration 139, Loss = 0.0210331494348\n",
      "Iteration 140, Loss = 0.0210323751927\n",
      "Testing ...\n",
      "[ 0.92873806  0.92873585  0.9287371  ...,  0.92925584  0.92926663\n",
      "  0.9292801 ]\n",
      "Mean auc = 0.793483648024\n",
      "Iteration 141, Loss = 0.0210306691605\n",
      "Iteration 142, Loss = 0.0210293878906\n",
      "Iteration 143, Loss = 0.0210294093129\n",
      "Iteration 144, Loss = 0.02102614039\n",
      "Iteration 145, Loss = 0.0210259186734\n",
      "Iteration 146, Loss = 0.0210234066703\n",
      "Iteration 147, Loss = 0.0210237801964\n",
      "Iteration 148, Loss = 0.021022349967\n",
      "Iteration 149, Loss = 0.0210203940041\n",
      "Iteration 150, Loss = 0.0210219404208\n",
      "Testing ...\n",
      "[ 0.928864    0.92886198  0.92886317 ...,  0.92936343  0.9293738\n",
      "  0.92938679]\n",
      "Mean auc = 0.793116587698\n",
      "Iteration 151, Loss = 0.0210164966723\n",
      "Iteration 152, Loss = 0.0210168261576\n",
      "Iteration 153, Loss = 0.0210159671883\n",
      "Iteration 154, Loss = 0.0210138689746\n",
      "Iteration 155, Loss = 0.0210131905293\n",
      "Iteration 156, Loss = 0.0210124659275\n",
      "Iteration 157, Loss = 0.0210101130704\n",
      "Iteration 158, Loss = 0.0210088079204\n",
      "Iteration 159, Loss = 0.021007658052\n",
      "Iteration 160, Loss = 0.0210067199106\n",
      "Testing ...\n",
      "[ 0.92887914  0.92887706  0.92887819 ...,  0.92936391  0.92937392\n",
      "  0.92938656]\n",
      "Mean auc = 0.792855121834\n",
      "Iteration 161, Loss = 0.0210050171322\n",
      "Iteration 162, Loss = 0.0210046095781\n",
      "Iteration 163, Loss = 0.0210034763653\n",
      "Iteration 164, Loss = 0.0210006912104\n",
      "Iteration 165, Loss = 0.0210002730832\n",
      "Iteration 166, Loss = 0.0209974676363\n",
      "Iteration 167, Loss = 0.0209983351613\n",
      "Iteration 168, Loss = 0.0209964562992\n",
      "Iteration 169, Loss = 0.0209956356726\n",
      "Iteration 170, Loss = 0.0209941013457\n",
      "Testing ...\n",
      "[ 0.92897367  0.92897159  0.92897284 ...,  0.929443    0.92945278\n",
      "  0.92946506]\n",
      "Mean auc = 0.792670587244\n",
      "Iteration 171, Loss = 0.020993234182\n",
      "Iteration 172, Loss = 0.0209918702369\n",
      "Iteration 173, Loss = 0.0209913117892\n",
      "Iteration 174, Loss = 0.0209882754477\n",
      "Iteration 175, Loss = 0.0209864260536\n",
      "Iteration 176, Loss = 0.0209873894836\n",
      "Iteration 177, Loss = 0.0209856017578\n",
      "Iteration 178, Loss = 0.0209833467244\n",
      "Iteration 179, Loss = 0.020981872889\n",
      "Iteration 180, Loss = 0.0209816132548\n",
      "Testing ...\n",
      "[ 0.92909777  0.92909586  0.929097   ...,  0.92954922  0.92955869\n",
      "  0.92957044]\n",
      "Mean auc = 0.792542858039\n",
      "Iteration 181, Loss = 0.020980034551\n",
      "Iteration 182, Loss = 0.0209792908783\n",
      "Iteration 183, Loss = 0.0209773742532\n",
      "Iteration 184, Loss = 0.020976743914\n",
      "Iteration 185, Loss = 0.0209757676657\n",
      "Iteration 186, Loss = 0.0209743579911\n",
      "Iteration 187, Loss = 0.0209728972503\n",
      "Iteration 188, Loss = 0.0209708851453\n",
      "Iteration 189, Loss = 0.0209705768543\n",
      "Iteration 190, Loss = 0.0209692517118\n",
      "Testing ...\n",
      "[ 0.9291079   0.92910606  0.92910713 ...,  0.92954826  0.92955744\n",
      "  0.92956901]\n",
      "Mean auc = 0.792274418731\n",
      "Iteration 191, Loss = 0.0209689551319\n",
      "Iteration 192, Loss = 0.0209659883691\n",
      "Iteration 193, Loss = 0.0209660328503\n",
      "Iteration 194, Loss = 0.0209642356528\n",
      "Iteration 195, Loss = 0.0209630533118\n",
      "Iteration 196, Loss = 0.0209626453287\n",
      "Iteration 197, Loss = 0.0209612991966\n",
      "Iteration 198, Loss = 0.0209588806137\n",
      "Iteration 199, Loss = 0.0209590634389\n",
      "Iteration 200, Loss = 0.0209571424798\n",
      "Testing ...\n",
      "[ 0.92927778  0.92927593  0.92927694 ...,  0.92970085  0.92970973\n",
      "  0.92972076]\n",
      "Mean auc = 0.792124932571\n",
      "Iteration 201, Loss = 0.0209551142873\n",
      "Iteration 202, Loss = 0.0209552143774\n",
      "Iteration 203, Loss = 0.0209538228887\n",
      "Iteration 204, Loss = 0.0209516949132\n",
      "Iteration 205, Loss = 0.0209521505812\n",
      "Iteration 206, Loss = 0.0209494579962\n",
      "Iteration 207, Loss = 0.020948439908\n",
      "Iteration 208, Loss = 0.0209473903867\n",
      "Iteration 209, Loss = 0.0209467819664\n",
      "Iteration 210, Loss = 0.020945179993\n",
      "Testing ...\n",
      "[ 0.9293592   0.92935747  0.92935848 ...,  0.92976606  0.92977452\n",
      "  0.92978525]\n",
      "Mean auc = 0.791839738456\n",
      "Iteration 211, Loss = 0.0209439480252\n",
      "Iteration 212, Loss = 0.0209429566439\n",
      "Iteration 213, Loss = 0.0209425808862\n",
      "Iteration 214, Loss = 0.0209409810344\n",
      "Iteration 215, Loss = 0.0209386171773\n",
      "Iteration 216, Loss = 0.0209386046624\n",
      "Iteration 217, Loss = 0.0209382294032\n",
      "Iteration 218, Loss = 0.0209348203162\n",
      "Iteration 219, Loss = 0.0209344637839\n",
      "Iteration 220, Loss = 0.0209334330359\n",
      "Testing ...\n",
      "[ 0.92940503  0.92940336  0.92940432 ...,  0.9297998   0.92980802\n",
      "  0.92981845]\n",
      "Mean auc = 0.791615167342\n",
      "Iteration 221, Loss = 0.0209325518482\n",
      "Iteration 222, Loss = 0.0209315802334\n",
      "Iteration 223, Loss = 0.0209296164026\n",
      "Iteration 224, Loss = 0.0209293547338\n",
      "Iteration 225, Loss = 0.0209287441262\n",
      "Iteration 226, Loss = 0.0209263382997\n",
      "Iteration 227, Loss = 0.0209257486643\n",
      "Iteration 228, Loss = 0.0209248922379\n",
      "Iteration 229, Loss = 0.0209237834114\n",
      "Iteration 230, Loss = 0.0209218471918\n",
      "Testing ...\n",
      "[ 0.92952532  0.92952377  0.9295246  ...,  0.92990571  0.92991364\n",
      "  0.92992365]\n",
      "Mean auc = 0.791291953466\n",
      "Iteration 231, Loss = 0.0209203617555\n",
      "Iteration 232, Loss = 0.0209198337902\n",
      "Iteration 233, Loss = 0.0209195926666\n",
      "Iteration 234, Loss = 0.0209182605623\n",
      "Iteration 235, Loss = 0.020915702795\n",
      "Iteration 236, Loss = 0.0209156453776\n",
      "Iteration 237, Loss = 0.0209140221944\n",
      "Iteration 238, Loss = 0.0209129881713\n",
      "Iteration 239, Loss = 0.0209121439467\n",
      "Iteration 240, Loss = 0.0209107269742\n",
      "Testing ...\n",
      "[ 0.9295668   0.92956525  0.92956609 ...,  0.92993695  0.92994469\n",
      "  0.92995447]\n",
      "Mean auc = 0.791136602619\n",
      "Iteration 241, Loss = 0.0209100577474\n",
      "Iteration 242, Loss = 0.0209089635303\n",
      "Iteration 243, Loss = 0.020907376804\n",
      "Iteration 244, Loss = 0.0209057753117\n",
      "Iteration 245, Loss = 0.0209054526722\n",
      "Iteration 246, Loss = 0.0209035971898\n",
      "Iteration 247, Loss = 0.0209021530311\n",
      "Iteration 248, Loss = 0.0209028915525\n",
      "Iteration 249, Loss = 0.0209005646296\n",
      "Iteration 250, Loss = 0.0208994766245\n",
      "Testing ...\n",
      "[ 0.92971814  0.92971659  0.92971754 ...,  0.93007082  0.93007821\n",
      "  0.93008751]\n",
      "Mean auc = 0.790867169645\n",
      "Iteration 251, Loss = 0.0208968544955\n",
      "Iteration 252, Loss = 0.0208984822657\n",
      "Iteration 253, Loss = 0.0208959912213\n",
      "Iteration 254, Loss = 0.020896086676\n",
      "Iteration 255, Loss = 0.0208931186959\n",
      "Iteration 256, Loss = 0.0208943380889\n",
      "Iteration 257, Loss = 0.0208912110033\n",
      "Iteration 258, Loss = 0.0208909850591\n",
      "Iteration 259, Loss = 0.0208894568979\n",
      "Iteration 260, Loss = 0.0208887347654\n",
      "Testing ...\n",
      "[ 0.92974663  0.92974514  0.92974597 ...,  0.93008769  0.93009484\n",
      "  0.93010378]\n",
      "Mean auc = 0.790390537561\n",
      "Iteration 261, Loss = 0.0208873366029\n",
      "Iteration 262, Loss = 0.0208874596534\n",
      "Iteration 263, Loss = 0.0208850531429\n",
      "Iteration 264, Loss = 0.0208844937523\n",
      "Iteration 265, Loss = 0.0208836842224\n",
      "Iteration 266, Loss = 0.020882957899\n",
      "Iteration 267, Loss = 0.0208812482535\n",
      "Iteration 268, Loss = 0.020880629123\n",
      "Iteration 269, Loss = 0.0208786110823\n",
      "Iteration 270, Loss = 0.0208777530753\n",
      "Testing ...\n",
      "[ 0.92984128  0.92983997  0.9298408  ...,  0.93017292  0.93017983\n",
      "  0.9301886 ]\n",
      "Mean auc = 0.790219053278\n",
      "Iteration 271, Loss = 0.0208761081451\n",
      "Iteration 272, Loss = 0.0208749555561\n",
      "Iteration 273, Loss = 0.0208761013959\n",
      "Iteration 274, Loss = 0.0208730933399\n",
      "Iteration 275, Loss = 0.0208723046894\n",
      "Iteration 276, Loss = 0.0208716672841\n",
      "Iteration 277, Loss = 0.0208707587191\n",
      "Iteration 278, Loss = 0.020869437124\n",
      "Iteration 279, Loss = 0.0208687139868\n",
      "Iteration 280, Loss = 0.0208670043452\n",
      "Testing ...\n",
      "[ 0.9299047   0.92990339  0.9299041  ...,  0.93022561  0.93023229\n",
      "  0.93024075]\n",
      "Mean auc = 0.790037395132\n",
      "Iteration 281, Loss = 0.0208659905426\n",
      "Iteration 282, Loss = 0.0208644408586\n",
      "Iteration 283, Loss = 0.0208645472574\n",
      "Iteration 284, Loss = 0.0208624746956\n",
      "Iteration 285, Loss = 0.0208622340163\n",
      "Iteration 286, Loss = 0.0208604116093\n",
      "Iteration 287, Loss = 0.0208596062993\n",
      "Iteration 288, Loss = 0.0208590242092\n",
      "Iteration 289, Loss = 0.0208580027841\n",
      "Iteration 290, Loss = 0.0208565124361\n",
      "Testing ...\n",
      "[ 0.92994821  0.92994684  0.92994767 ...,  0.93025792  0.93026429\n",
      "  0.93027252]\n",
      "Mean auc = 0.789718248385\n",
      "Iteration 291, Loss = 0.0208564866489\n",
      "Iteration 292, Loss = 0.0208539486132\n",
      "Iteration 293, Loss = 0.0208536909113\n",
      "Iteration 294, Loss = 0.020852659657\n",
      "Iteration 295, Loss = 0.0208522203278\n",
      "Iteration 296, Loss = 0.0208498894341\n",
      "Iteration 297, Loss = 0.0208496934815\n",
      "Iteration 298, Loss = 0.0208475869168\n",
      "Iteration 299, Loss = 0.0208478697317\n",
      "Iteration 300, Loss = 0.0208462468306\n",
      "Testing ...\n",
      "[ 0.93006057  0.93005937  0.93006009 ...,  0.93035829  0.93036455\n",
      "  0.93037242]\n",
      "Mean auc = 0.789484478183\n",
      "Iteration 301, Loss = 0.0208452705553\n",
      "Iteration 302, Loss = 0.0208445464443\n",
      "Iteration 303, Loss = 0.0208437944863\n",
      "Iteration 304, Loss = 0.0208416726726\n",
      "Iteration 305, Loss = 0.0208413905824\n",
      "Iteration 306, Loss = 0.0208409301651\n",
      "Iteration 307, Loss = 0.0208389868272\n",
      "Iteration 308, Loss = 0.0208380122947\n",
      "Iteration 309, Loss = 0.0208367428789\n",
      "Iteration 310, Loss = 0.020836101072\n",
      "Testing ...\n",
      "[ 0.93010485  0.9301036   0.93010432 ...,  0.93039399  0.93040007\n",
      "  0.9304077 ]\n",
      "Mean auc = 0.789301693708\n",
      "Iteration 311, Loss = 0.0208351011465\n",
      "Iteration 312, Loss = 0.0208341202243\n",
      "Iteration 313, Loss = 0.0208336868057\n",
      "Iteration 314, Loss = 0.0208317593834\n",
      "Iteration 315, Loss = 0.0208306618757\n"
     ]
    },
    {
     "ename": "KeyboardInterrupt",
     "evalue": "",
     "output_type": "error",
     "traceback": [
      "\u001b[1;31m---------------------------------------------------------------------------\u001b[0m",
      "\u001b[1;31mKeyboardInterrupt\u001b[0m                         Traceback (most recent call last)",
      "\u001b[1;32m<ipython-input-49-821dad35f9bf>\u001b[0m in \u001b[0;36m<module>\u001b[1;34m()\u001b[0m\n\u001b[0;32m      5\u001b[0m            )\n\u001b[0;32m      6\u001b[0m nneta.train2(x=tx, y=ty, lrate=0.1, gamma=0.9, batch_size=1000, iters=1000,\n\u001b[1;32m----> 7\u001b[1;33m             \u001b[0mtestx\u001b[0m\u001b[1;33m=\u001b[0m\u001b[0mvx\u001b[0m\u001b[1;33m,\u001b[0m \u001b[0mtesty\u001b[0m\u001b[1;33m=\u001b[0m\u001b[0mvy\u001b[0m\u001b[1;33m,\u001b[0m \u001b[0mfilename\u001b[0m\u001b[1;33m=\u001b[0m\u001b[1;34m'model.npz'\u001b[0m\u001b[1;33m,\u001b[0m \u001b[0mchange_iters\u001b[0m\u001b[1;33m=\u001b[0m\u001b[1;36m50\u001b[0m\u001b[1;33m\u001b[0m\u001b[0m\n\u001b[0m\u001b[0;32m      8\u001b[0m            )\n",
      "\u001b[1;32m/home/du2/12CS30009/XeroxChallenge/library/lasagnennet.py\u001b[0m in \u001b[0;36mtrain2\u001b[1;34m(self, x, y, lrate, gamma, batch_size, iters, test_batch, testx, testy, filename, change_iters)\u001b[0m\n\u001b[0;32m    167\u001b[0m             \u001b[0mcnt\u001b[0m \u001b[1;33m=\u001b[0m \u001b[1;36m0\u001b[0m\u001b[1;33m\u001b[0m\u001b[0m\n\u001b[0;32m    168\u001b[0m             \u001b[1;32mfor\u001b[0m \u001b[0mbx\u001b[0m\u001b[1;33m,\u001b[0m \u001b[0mby\u001b[0m \u001b[1;32min\u001b[0m \u001b[0mbatch_iterable\u001b[0m\u001b[1;33m(\u001b[0m\u001b[0mx\u001b[0m\u001b[1;33m,\u001b[0m \u001b[0my\u001b[0m\u001b[1;33m,\u001b[0m \u001b[0mbatch_size\u001b[0m\u001b[1;33m)\u001b[0m\u001b[1;33m:\u001b[0m\u001b[1;33m\u001b[0m\u001b[0m\n\u001b[1;32m--> 169\u001b[1;33m                 \u001b[0mc_loss\u001b[0m\u001b[1;33m,\u001b[0m \u001b[1;33m=\u001b[0m \u001b[0mself\u001b[0m\u001b[1;33m.\u001b[0m\u001b[0mtrainer\u001b[0m\u001b[1;33m(\u001b[0m\u001b[0mbx\u001b[0m\u001b[1;33m,\u001b[0m \u001b[0mby\u001b[0m\u001b[1;33m)\u001b[0m\u001b[1;33m\u001b[0m\u001b[0m\n\u001b[0m\u001b[0;32m    170\u001b[0m                 \u001b[0mtot_loss\u001b[0m \u001b[1;33m+=\u001b[0m \u001b[0mc_loss\u001b[0m\u001b[1;33m\u001b[0m\u001b[0m\n\u001b[0;32m    171\u001b[0m                 \u001b[0mcnt\u001b[0m \u001b[1;33m+=\u001b[0m \u001b[1;36m1\u001b[0m\u001b[1;33m\u001b[0m\u001b[0m\n",
      "\u001b[1;32m/home/du2/12CS30009/anaconda/lib/python2.7/site-packages/theano/compile/function_module.pyc\u001b[0m in \u001b[0;36m__call__\u001b[1;34m(self, *args, **kwargs)\u001b[0m\n\u001b[0;32m    605\u001b[0m         \u001b[0mt0_fn\u001b[0m \u001b[1;33m=\u001b[0m \u001b[0mtime\u001b[0m\u001b[1;33m.\u001b[0m\u001b[0mtime\u001b[0m\u001b[1;33m(\u001b[0m\u001b[1;33m)\u001b[0m\u001b[1;33m\u001b[0m\u001b[0m\n\u001b[0;32m    606\u001b[0m         \u001b[1;32mtry\u001b[0m\u001b[1;33m:\u001b[0m\u001b[1;33m\u001b[0m\u001b[0m\n\u001b[1;32m--> 607\u001b[1;33m             \u001b[0moutputs\u001b[0m \u001b[1;33m=\u001b[0m \u001b[0mself\u001b[0m\u001b[1;33m.\u001b[0m\u001b[0mfn\u001b[0m\u001b[1;33m(\u001b[0m\u001b[1;33m)\u001b[0m\u001b[1;33m\u001b[0m\u001b[0m\n\u001b[0m\u001b[0;32m    608\u001b[0m         \u001b[1;32mexcept\u001b[0m \u001b[0mException\u001b[0m\u001b[1;33m:\u001b[0m\u001b[1;33m\u001b[0m\u001b[0m\n\u001b[0;32m    609\u001b[0m             \u001b[1;32mif\u001b[0m \u001b[0mhasattr\u001b[0m\u001b[1;33m(\u001b[0m\u001b[0mself\u001b[0m\u001b[1;33m.\u001b[0m\u001b[0mfn\u001b[0m\u001b[1;33m,\u001b[0m \u001b[1;34m'position_of_error'\u001b[0m\u001b[1;33m)\u001b[0m\u001b[1;33m:\u001b[0m\u001b[1;33m\u001b[0m\u001b[0m\n",
      "\u001b[1;31mKeyboardInterrupt\u001b[0m: "
     ]
    }
   ],
   "source": [
    "reload(LN)\n",
    "nneta = LN.nnet(n_in=321, n_out=1, h_layers=[200,100],\n",
    "                i_drop=None, l_drops=[0.3,0.3], lam=0.0001,\n",
    "                nonlinearity=L.nonlinearities.sigmoid\n",
    "           )\n",
    "nneta.train2(x=tx, y=ty, lrate=0.1, gamma=0.9, batch_size=1000, iters=1000,\n",
    "            testx=vx, testy=vy, filename='model.npz', change_iters=50\n",
    "           )"
   ]
  },
  {
   "cell_type": "code",
   "execution_count": 50,
   "metadata": {
    "collapsed": false
   },
   "outputs": [],
   "source": [
    "nnetb = LN.nnet(n_in=321, n_out=1, h_layers=[200,100],\n",
    "                i_drop=None, l_drops=[0.3,0.3], lam=0.0,\n",
    "                nonlinearity=L.nonlinearities.sigmoid\n",
    "           )\n",
    "nnetb.loadmodel('model.npz')"
   ]
  },
  {
   "cell_type": "code",
   "execution_count": 51,
   "metadata": {
    "collapsed": false
   },
   "outputs": [
    {
     "name": "stdout",
     "output_type": "stream",
     "text": [
      "Testing ...\n"
     ]
    }
   ],
   "source": [
    "try:\n",
    "    nnetb.test(0,0,0)\n",
    "except:\n",
    "    pass"
   ]
  },
  {
   "cell_type": "code",
   "execution_count": 52,
   "metadata": {
    "collapsed": false
   },
   "outputs": [
    {
     "name": "stdout",
     "output_type": "stream",
     "text": [
      "[ 0.9302848   0.93027025  0.9305523  ...,  0.93046045  0.93044597\n",
      "  0.93046939]\n"
     ]
    }
   ],
   "source": [
    "probs = nnetb.tester(tx)[0].ravel()\n",
    "vprobs = nnetb.tester(vx)[0].ravel()\n",
    "valprobs = nnetb.tester(valx)[0].ravel()\n",
    "print probs"
   ]
  },
  {
   "cell_type": "code",
   "execution_count": 53,
   "metadata": {
    "collapsed": false
   },
   "outputs": [
    {
     "name": "stdout",
     "output_type": "stream",
     "text": [
      "0.769901436687\n",
      "0.789301693708\n"
     ]
    },
    {
     "data": {
      "text/plain": [
       "[<matplotlib.lines.Line2D at 0x7f5fbb75e310>]"
      ]
     },
     "execution_count": 53,
     "metadata": {},
     "output_type": "execute_result"
    },
    {
     "data": {
      "image/png": "[encoded data removed]",
      "text/plain": [
       "<matplotlib.figure.Figure at 0x7f5fb912ae90>"
      ]
     },
     "metadata": {},
     "output_type": "display_data"
    }
   ],
   "source": [
    "from sklearn.metrics import roc_curve\n",
    "from sklearn.metrics import roc_auc_score\n",
    "\n",
    "yscore = probs\n",
    "print roc_auc_score(ty, yscore)\n",
    "fpr, tpr, thresh = roc_curve(ty, yscore)\n",
    "pyplot.plot(1-fpr, tpr)\n",
    "# pyplot.axis('equal')\n",
    "\n",
    "yscore = vprobs\n",
    "print roc_auc_score(vy, yscore)\n",
    "fpr, tpr, thresh = roc_curve(vy, yscore)\n",
    "pyplot.plot(1-fpr, tpr)\n",
    "# pyplot.axis('equal')"
   ]
  },
  {
   "cell_type": "code",
   "execution_count": 68,
   "metadata": {
    "collapsed": false
   },
   "outputs": [
    {
     "name": "stdout",
     "output_type": "stream",
     "text": [
      "0.93085694313\n",
      "202\n"
     ]
    }
   ],
   "source": [
    "thresh = np.percentile(valprobs, 99.9)\n",
    "print thresh\n",
    "pred = np.int32(valprobs >= thresh)\n",
    "print np.sum(pred)\n",
    "\n",
    "outfile = open('output.csv', 'w')\n",
    "# outfile.write('ID,TIME,LABEL\\n')\n",
    "for i in xrange(valx.shape[0]):\n",
    "    if np.int64(valyall[i,2]) == 1:\n",
    "        outfile.write(str(valyall[i,0])+','+str(valyall[i,1])+','+str(pred[i])+'\\n')\n",
    "outfile.close()"
   ]
  },
  {
   "cell_type": "code",
   "execution_count": 64,
   "metadata": {
    "collapsed": false
   },
   "outputs": [
    {
     "name": "stdout",
     "output_type": "stream",
     "text": [
      "0.930841239691\n",
      "294\n"
     ]
    }
   ],
   "source": [
    "thresh = np.percentile(vprobs.ravel(), 99.8)\n",
    "# thresh = 0.93\n",
    "print thresh\n",
    "pred = np.int32(vprobs.ravel() >= thresh)\n",
    "print np.sum(pred)\n",
    "\n",
    "outfile = open('out.csv', 'w')\n",
    "outfile.write('ID,TIME,LABEL,ICU\\n')\n",
    "for i in xrange(vx.shape[0]):\n",
    "    if np.int32(vyall[i,3]) == 1.0:\n",
    "        outfile.write(str(vyall[i,0])+','+str(vyall[i,1])+','+str(pred[i])+',1\\n')\n",
    "outfile.close()"
   ]
  },
  {
   "cell_type": "code",
   "execution_count": 65,
   "metadata": {
    "collapsed": false
   },
   "outputs": [
    {
     "name": "stdout",
     "output_type": "stream",
     "text": [
      "tp :  12 , tn :  808 , fp :  6 , fn :  44\n",
      "sensitivity :  0.214285714286 , specificity :  0.992628992629\n",
      "accuracy :  0.942528735632 median prediction time :  59.4166666667\n",
      "finalScore :  33.8905545156\n"
     ]
    },
    {
     "data": {
      "text/plain": [
       "(0.21428571428571427,\n",
       " 0.9926289926289926,\n",
       " 0.9425287356321839,\n",
       " 59.416666666666664,\n",
       " 33.89055451555451)"
      ]
     },
     "execution_count": 65,
     "metadata": {},
     "output_type": "execute_result"
    }
   ],
   "source": [
    "reload(V)\n",
    "V.validate('out.csv', './Training_Dataset/id_label_train.csv')"
   ]
  }
 ],
 "metadata": {
  "kernelspec": {
   "display_name": "Python 2",
   "language": "python",
   "name": "python2"
  },
  "language_info": {
   "codemirror_mode": {
    "name": "ipython",
    "version": 2
   },
   "file_extension": ".py",
   "mimetype": "text/x-python",
   "name": "python",
   "nbconvert_exporter": "python",
   "pygments_lexer": "ipython2",
   "version": "2.7.10"
  }
 },
 "nbformat": 4,
 "nbformat_minor": 0
}
