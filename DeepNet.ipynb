{
 "cells": [
  {
   "cell_type": "code",
   "execution_count": 1,
   "metadata": {
    "collapsed": false
   },
   "outputs": [
    {
     "name": "stdout",
     "output_type": "stream",
     "text": [
      "Populating the interactive namespace from numpy and matplotlib\n"
     ]
    },
    {
     "name": "stderr",
     "output_type": "stream",
     "text": [
      "Using gpu device 0: Tesla K20m (CNMeM is disabled)\n"
     ]
    }
   ],
   "source": [
    "%pylab inline\n",
    "\n",
    "from library import lasagnennet as LN\n",
    "from library import features as F\n",
    "from library import scale as S\n",
    "from library import validate as V\n",
    "import numpy as np\n",
    "import theano as TH\n",
    "import pandas as pa\n",
    "import lasagne as L"
   ]
  },
  {
   "cell_type": "code",
   "execution_count": 50,
   "metadata": {
    "collapsed": false
   },
   "outputs": [],
   "source": [
    "train_feats = pa.read_csv('win_train_feats.csv')\n",
    "train_targets = pa.read_csv('win_train_targets.csv')\n",
    "val_feats = pa.read_csv('win_validation_feats.csv')\n",
    "val_targets = pa.read_csv('win_validation_targets.csv')\n",
    "vval_feats = pa.read_csv('win_val_train_feats.csv')\n",
    "vval_targets = pa.read_csv('win_val_train_targets.csv')"
   ]
  },
  {
   "cell_type": "code",
   "execution_count": 3,
   "metadata": {
    "collapsed": false
   },
   "outputs": [
    {
     "name": "stdout",
     "output_type": "stream",
     "text": [
      "Index([u'ID', u'TIME', u'LABEL', u'ICU'], dtype='object')\n"
     ]
    }
   ],
   "source": [
    "print train_targets.columns"
   ]
  },
  {
   "cell_type": "code",
   "execution_count": 51,
   "metadata": {
    "collapsed": false
   },
   "outputs": [],
   "source": [
    "tx = np.asarray(train_feats, dtype=np.float32)\n",
    "tyall = np.asarray(train_targets, dtype=np.float32)\n",
    "ty = np.asarray(train_targets['LABEL'], dtype=np.float32).reshape(-1, 1)\n",
    "vx = np.asarray(val_feats, dtype=np.float32)\n",
    "vyall = np.asarray(val_targets, dtype=np.float32)\n",
    "vy = np.asarray(val_targets['LABEL'], dtype=np.float32).reshape(-1, 1)"
   ]
  },
  {
   "cell_type": "code",
   "execution_count": 52,
   "metadata": {
    "collapsed": true
   },
   "outputs": [],
   "source": [
    "valx = np.asarray(vval_feats, dtype=np.float32)\n",
    "valyall = np.asarray(vval_targets, dtype=np.int64)"
   ]
  },
  {
   "cell_type": "code",
   "execution_count": 54,
   "metadata": {
    "collapsed": false
   },
   "outputs": [
    {
     "name": "stdout",
     "output_type": "stream",
     "text": [
      "(486050, 321) (486050, 4) (486050, 1) (142387, 321) (142387, 4) (142387, 1) (199971, 321) (199971, 3)\n"
     ]
    }
   ],
   "source": [
    "print tx.shape, tyall.shape, ty.shape, vx.shape, vyall.shape, vy.shape, valx.shape, valyall.shape"
   ]
  },
  {
   "cell_type": "code",
   "execution_count": 82,
   "metadata": {
    "collapsed": false,
    "scrolled": true
   },
   "outputs": [
    {
     "name": "stdout",
     "output_type": "stream",
     "text": [
      "Training ... \n",
      "Iteration 0, Loss = 0.0206610656837\n",
      "Testing ...\n",
      "[ 0.88574106  0.88592046  0.88522011 ...,  0.8852005   0.885068    0.88498706]\n",
      "Mean auc = 0.459337904518\n",
      "Iteration 1, Loss = 0.0152708733315\n",
      "Iteration 2, Loss = 0.0145794920532\n",
      "Iteration 3, Loss = 0.0143362725961\n",
      "Iteration 4, Loss = 0.0141649310175\n",
      "Iteration 5, Loss = 0.0140347164698\n",
      "Iteration 6, Loss = 0.0139371659473\n",
      "Iteration 7, Loss = 0.0138576877871\n",
      "Iteration 8, Loss = 0.0137712466138\n",
      "Iteration 9, Loss = 0.0136811167893\n",
      "Iteration 10, Loss = 0.0135815620051\n",
      "Testing ...\n",
      "[ 0.96063238  0.96051919  0.96037358 ...,  0.96043223  0.96038955\n",
      "  0.96035987]\n",
      "Mean auc = 0.852145925555\n",
      "Iteration 11, Loss = 0.013441315286\n",
      "Iteration 12, Loss = 0.0132660533338\n",
      "Iteration 13, Loss = 0.0131100344642\n"
     ]
    },
    {
     "ename": "KeyboardInterrupt",
     "evalue": "",
     "output_type": "error",
     "traceback": [
      "\u001b[1;31m---------------------------------------------------------------------------\u001b[0m",
      "\u001b[1;31mKeyboardInterrupt\u001b[0m                         Traceback (most recent call last)",
      "\u001b[1;32m<ipython-input-82-7b2ee4215741>\u001b[0m in \u001b[0;36m<module>\u001b[1;34m()\u001b[0m\n\u001b[0;32m      5\u001b[0m            )\n\u001b[0;32m      6\u001b[0m nneta.train(x=tx, y=ty, lrate=0.1, gamma=0.9, batch_size=1000, iters=50,\n\u001b[1;32m----> 7\u001b[1;33m             \u001b[0mtestx\u001b[0m\u001b[1;33m=\u001b[0m\u001b[0mvx\u001b[0m\u001b[1;33m,\u001b[0m \u001b[0mtesty\u001b[0m\u001b[1;33m=\u001b[0m\u001b[0mvy\u001b[0m\u001b[1;33m,\u001b[0m \u001b[0mfilename\u001b[0m\u001b[1;33m=\u001b[0m\u001b[1;34m'model.npz'\u001b[0m\u001b[1;33m\u001b[0m\u001b[0m\n\u001b[0m\u001b[0;32m      8\u001b[0m            )\n",
      "\u001b[1;32m/home/du2/12CS30009/XeroxChallenge/library/lasagnennet.py\u001b[0m in \u001b[0;36mtrain\u001b[1;34m(self, x, y, lrate, gamma, batch_size, iters, test_batch, testx, testy, filename, lrate_iters, lrate_factor)\u001b[0m\n\u001b[0;32m    128\u001b[0m             \u001b[0mcnt\u001b[0m \u001b[1;33m=\u001b[0m \u001b[1;36m0\u001b[0m\u001b[1;33m\u001b[0m\u001b[0m\n\u001b[0;32m    129\u001b[0m             \u001b[1;32mfor\u001b[0m \u001b[0mbx\u001b[0m\u001b[1;33m,\u001b[0m \u001b[0mby\u001b[0m \u001b[1;32min\u001b[0m \u001b[0mbatch_iterable\u001b[0m\u001b[1;33m(\u001b[0m\u001b[0mx\u001b[0m\u001b[1;33m,\u001b[0m \u001b[0my\u001b[0m\u001b[1;33m,\u001b[0m \u001b[0mbatch_size\u001b[0m\u001b[1;33m)\u001b[0m\u001b[1;33m:\u001b[0m\u001b[1;33m\u001b[0m\u001b[0m\n\u001b[1;32m--> 130\u001b[1;33m                 \u001b[0mc_loss\u001b[0m\u001b[1;33m,\u001b[0m \u001b[1;33m=\u001b[0m \u001b[0mself\u001b[0m\u001b[1;33m.\u001b[0m\u001b[0mtrainer\u001b[0m\u001b[1;33m(\u001b[0m\u001b[0mbx\u001b[0m\u001b[1;33m,\u001b[0m \u001b[0mby\u001b[0m\u001b[1;33m)\u001b[0m\u001b[1;33m\u001b[0m\u001b[0m\n\u001b[0m\u001b[0;32m    131\u001b[0m                 \u001b[0mtot_loss\u001b[0m \u001b[1;33m+=\u001b[0m \u001b[0mc_loss\u001b[0m\u001b[1;33m\u001b[0m\u001b[0m\n\u001b[0;32m    132\u001b[0m                 \u001b[0mcnt\u001b[0m \u001b[1;33m+=\u001b[0m \u001b[1;36m1\u001b[0m\u001b[1;33m\u001b[0m\u001b[0m\n",
      "\u001b[1;32m/home/du2/12CS30009/anaconda/lib/python2.7/site-packages/theano/compile/function_module.pyc\u001b[0m in \u001b[0;36m__call__\u001b[1;34m(self, *args, **kwargs)\u001b[0m\n\u001b[0;32m    605\u001b[0m         \u001b[0mt0_fn\u001b[0m \u001b[1;33m=\u001b[0m \u001b[0mtime\u001b[0m\u001b[1;33m.\u001b[0m\u001b[0mtime\u001b[0m\u001b[1;33m(\u001b[0m\u001b[1;33m)\u001b[0m\u001b[1;33m\u001b[0m\u001b[0m\n\u001b[0;32m    606\u001b[0m         \u001b[1;32mtry\u001b[0m\u001b[1;33m:\u001b[0m\u001b[1;33m\u001b[0m\u001b[0m\n\u001b[1;32m--> 607\u001b[1;33m             \u001b[0moutputs\u001b[0m \u001b[1;33m=\u001b[0m \u001b[0mself\u001b[0m\u001b[1;33m.\u001b[0m\u001b[0mfn\u001b[0m\u001b[1;33m(\u001b[0m\u001b[1;33m)\u001b[0m\u001b[1;33m\u001b[0m\u001b[0m\n\u001b[0m\u001b[0;32m    608\u001b[0m         \u001b[1;32mexcept\u001b[0m \u001b[0mException\u001b[0m\u001b[1;33m:\u001b[0m\u001b[1;33m\u001b[0m\u001b[0m\n\u001b[0;32m    609\u001b[0m             \u001b[1;32mif\u001b[0m \u001b[0mhasattr\u001b[0m\u001b[1;33m(\u001b[0m\u001b[0mself\u001b[0m\u001b[1;33m.\u001b[0m\u001b[0mfn\u001b[0m\u001b[1;33m,\u001b[0m \u001b[1;34m'position_of_error'\u001b[0m\u001b[1;33m)\u001b[0m\u001b[1;33m:\u001b[0m\u001b[1;33m\u001b[0m\u001b[0m\n",
      "\u001b[1;31mKeyboardInterrupt\u001b[0m: "
     ]
    }
   ],
   "source": [
    "reload(LN)\n",
    "nneta = LN.nnet(n_in=321, n_out=1, h_layers=[500,100],\n",
    "                i_drop=None, l_drops=[0.3,0.3], lam=0.0,\n",
    "                nonlinearity=L.nonlinearities.sigmoid\n",
    "           )\n",
    "nneta.train(x=tx, y=ty, lrate=0.1, gamma=0.9, batch_size=1000, iters=50,\n",
    "            testx=vx, testy=vy, filename='model.npz'\n",
    "           )"
   ]
  },
  {
   "cell_type": "code",
   "execution_count": 83,
   "metadata": {
    "collapsed": true
   },
   "outputs": [],
   "source": [
    "nneta.loadmodel('model.npz')"
   ]
  },
  {
   "cell_type": "code",
   "execution_count": 84,
   "metadata": {
    "collapsed": false
   },
   "outputs": [
    {
     "name": "stdout",
     "output_type": "stream",
     "text": [
      "[ 0.95816541  0.95825428  0.96033973 ...,  0.9599126   0.95994139\n",
      "  0.95992512]\n"
     ]
    }
   ],
   "source": [
    "probs = nneta.tester(tx)[0].ravel()\n",
    "vprobs = nneta.tester(vx)[0].ravel()\n",
    "valprobs = nneta.tester(valx)[0].ravel()\n",
    "print probs"
   ]
  },
  {
   "cell_type": "code",
   "execution_count": 85,
   "metadata": {
    "collapsed": false
   },
   "outputs": [
    {
     "name": "stdout",
     "output_type": "stream",
     "text": [
      "0.83681590356\n",
      "0.852145925555\n"
     ]
    },
    {
     "data": {
      "text/plain": [
       "(0.0, 1.0, 0.0, 1.0)"
      ]
     },
     "execution_count": 85,
     "metadata": {},
     "output_type": "execute_result"
    },
    {
     "data": {
      "image/png": "[encoded data removed]",
      "text/plain": [
       "<matplotlib.figure.Figure at 0x7f28721bff10>"
      ]
     },
     "metadata": {},
     "output_type": "display_data"
    }
   ],
   "source": [
    "from sklearn.metrics import roc_curve\n",
    "from sklearn.metrics import roc_auc_score\n",
    "\n",
    "yscore = probs\n",
    "print roc_auc_score(ty, yscore)\n",
    "fpr, tpr, thresh = roc_curve(ty, yscore)\n",
    "pyplot.plot(1-fpr, tpr)\n",
    "pyplot.axis('equal')\n",
    "\n",
    "yscore = vprobs\n",
    "print roc_auc_score(vy, yscore)\n",
    "fpr, tpr, thresh = roc_curve(vy, yscore)\n",
    "pyplot.plot(1-fpr, tpr)\n",
    "pyplot.axis('equal')"
   ]
  },
  {
   "cell_type": "code",
   "execution_count": 86,
   "metadata": {
    "collapsed": false
   },
   "outputs": [
    {
     "name": "stdout",
     "output_type": "stream",
     "text": [
      "1001\n"
     ]
    }
   ],
   "source": [
    "thresh = np.percentile(valprobs, 99.5)\n",
    "pred = np.int32(valprobs >= thresh)\n",
    "print np.sum(pred)\n",
    "\n",
    "outfile = open('output.csv', 'w')\n",
    "# outfile.write('ID,TIME,LABEL\\n')\n",
    "for i in xrange(valx.shape[0]):\n",
    "    if np.int64(valyall[i,2]) == 1:\n",
    "        outfile.write(str(valyall[i,0])+','+str(valyall[i,1])+','+str(pred[i])+'\\n')\n",
    "outfile.close()"
   ]
  },
  {
   "cell_type": "code",
   "execution_count": 93,
   "metadata": {
    "collapsed": false
   },
   "outputs": [
    {
     "name": "stdout",
     "output_type": "stream",
     "text": [
      "2421\n"
     ]
    }
   ],
   "source": [
    "thresh = np.percentile(vprobs.ravel(), 98.3)\n",
    "pred = np.int32(vprobs.ravel() >= thresh)\n",
    "print np.sum(pred)\n",
    "\n",
    "outfile = open('out.csv', 'w')\n",
    "outfile.write('ID,TIME,LABEL,ICU\\n')\n",
    "for i in xrange(vx.shape[0]):\n",
    "    if np.int32(vyall[i,3]) == 1.0:\n",
    "        outfile.write(str(vyall[i,0])+','+str(vyall[i,1])+','+str(pred[i])+',1\\n')\n",
    "outfile.close()"
   ]
  },
  {
   "cell_type": "code",
   "execution_count": 94,
   "metadata": {
    "collapsed": false
   },
   "outputs": [
    {
     "name": "stdout",
     "output_type": "stream",
     "text": [
      "tp :  22 , tn :  824 , fp :  7 , fn :  47\n",
      "sensitivity :  0.31884057971 , specificity :  0.991576413959\n",
      "accuracy :  0.94 median prediction time :  80.065\n",
      "finalScore :  44.7012504578\n"
     ]
    },
    {
     "data": {
      "text/plain": [
       "(0.3188405797101449,\n",
       " 0.9915764139590855,\n",
       " 0.94,\n",
       " 80.064999999999998,\n",
       " 44.7012504578036)"
      ]
     },
     "execution_count": 94,
     "metadata": {},
     "output_type": "execute_result"
    }
   ],
   "source": [
    "reload(V)\n",
    "V.validate('out.csv', './Training_Dataset/id_label_train.csv')"
   ]
  }
 ],
 "metadata": {
  "kernelspec": {
   "display_name": "Python 2",
   "language": "python",
   "name": "python2"
  },
  "language_info": {
   "codemirror_mode": {
    "name": "ipython",
    "version": 2
   },
   "file_extension": ".py",
   "mimetype": "text/x-python",
   "name": "python",
   "nbconvert_exporter": "python",
   "pygments_lexer": "ipython2",
   "version": "2.7.10"
  }
 },
 "nbformat": 4,
 "nbformat_minor": 0
}
