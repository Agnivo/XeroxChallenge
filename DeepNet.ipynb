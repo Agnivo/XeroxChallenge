{
 "cells": [
  {
   "cell_type": "code",
   "execution_count": 1,
   "metadata": {
    "collapsed": false
   },
   "outputs": [
    {
     "name": "stdout",
     "output_type": "stream",
     "text": [
      "Populating the interactive namespace from numpy and matplotlib\n"
     ]
    },
    {
     "name": "stderr",
     "output_type": "stream",
     "text": [
      "Using gpu device 0: Tesla K20m (CNMeM is disabled)\n"
     ]
    }
   ],
   "source": [
    "%pylab inline\n",
    "\n",
    "from library import lasagnennet as LN\n",
    "from library import features as F\n",
    "from library import scale as S\n",
    "from library import validate as V\n",
    "import numpy as np\n",
    "import theano as TH\n",
    "import pandas as pa\n",
    "import lasagne as L"
   ]
  },
  {
   "cell_type": "code",
   "execution_count": 52,
   "metadata": {
    "collapsed": false,
    "scrolled": true
   },
   "outputs": [
    {
     "name": "stdout",
     "output_type": "stream",
     "text": [
      "['ID', 'TIME', 'V1', 'V2', 'V3', 'V4', 'V5', 'V6', 'ICU']\n",
      "['ID', 'TIME', 'L1', 'L2', 'L3', 'L4', 'L5', 'L6', 'L7', 'L8', 'L9', 'L10', 'L11', 'L12', 'L13', 'L14', 'L15', 'L16', 'L17', 'L18', 'L19', 'L20', 'L21', 'L22', 'L23', 'L24', 'L25']\n",
      "['ID', 'AGE']\n",
      "Column :  V1 max Value :  290.0 mean Value :  122.710736712 Mean by Max ratio :  0.42314047142\n",
      "Column :  V1 Mean by Max ratio :  0.42314047142\n",
      "Column :  V2 max Value :  200.0 mean Value :  69.2100425966 Mean by Max ratio :  0.346050212983\n",
      "Column :  V2 Mean by Max ratio :  0.346050212983\n",
      "Column :  V3 max Value :  219.0 mean Value :  86.8153202933 Mean by Max ratio :  0.39641698764\n",
      "Column :  V3 Mean by Max ratio :  0.39641698764\n",
      "Column :  V4 max Value :  82.0 mean Value :  20.4260971774 Mean by Max ratio :  0.249098746066\n",
      "Column :  V4 Mean by Max ratio :  0.249098746066\n",
      "Column :  V5 max Value :  102.0 mean Value :  97.6664309932 Mean by Max ratio :  0.957514029345\n",
      "Column :  V5 Mean by Max ratio :  0.957514029345\n",
      "Column :  V6 max Value :  108.2 mean Value :  98.2426799542 Mean by Max ratio :  0.907973012515\n",
      "Column :  V6 Mean by Max ratio :  0.907973012515\n",
      "Column :  L18 max Value :  1599.36233609 mean Value :  148.042570994 Mean by Max ratio :  0.0925634971222 finite values :  106199\n",
      "Column :  L18 Mean by Max ratio :  0.6751935772\n",
      "Column :  L19 max Value :  857.331644251 mean Value :  157.473834812 Mean by Max ratio :  0.183679018345 finite values :  1484\n",
      "Column :  L19 Mean by Max ratio :  0.183679018345\n",
      "Column :  L14 max Value :  284.98123446 mean Value :  86.1962171214 Mean by Max ratio :  0.302462782452 finite values :  1214\n",
      "Column :  L14 Mean by Max ratio :  0.302462782452\n",
      "Column :  L15 max Value :  28.7438804567 mean Value :  2.68680579806 Mean by Max ratio :  0.0934740110023 finite values :  1968\n",
      "Column :  L15 Mean by Max ratio :  0.485948474379\n",
      "Column :  L16 max Value :  247.27499433 mean Value :  5.00107603793 Mean by Max ratio :  0.0202247544338 finite values :  4709\n",
      "Column :  L16 Mean by Max ratio :  0.668922056492\n",
      "Column :  L17 max Value :  5.44628078605 mean Value :  0.389832611785 Mean by Max ratio :  0.0715777660203 finite values :  104\n",
      "Column :  L17 Mean by Max ratio :  0.515676906793\n",
      "Column :  L10 max Value :  70.3214705805 mean Value :  31.2982370957 Mean by Max ratio :  0.445073699928 finite values :  29835\n",
      "Column :  L10 Mean by Max ratio :  0.445073699928\n",
      "Column :  L11 max Value :  1758.21767799 mean Value :  219.903522576 Mean by Max ratio :  0.125071841404 finite values :  26593\n",
      "Column :  L11 Mean by Max ratio :  0.125071841404\n",
      "Column :  L12 max Value :  38.6527652929 mean Value :  1.3618623351 Mean by Max ratio :  0.0352332446277 finite values :  11119\n",
      "Column :  L12 Mean by Max ratio :  0.45448799264\n",
      "Column :  L13 max Value :  5006.57651932 mean Value :  1674.94163214 Mean by Max ratio :  0.334548293765 finite values :  41\n",
      "Column :  L13 Mean by Max ratio :  0.334548293765\n",
      "Column :  L21 max Value :  5.4746654179 mean Value :  2.87050440695 Mean by Max ratio :  0.524325084336 finite values :  13184\n",
      "Column :  L21 Mean by Max ratio :  0.524325084336\n",
      "Column :  L20 max Value :  2052.67059939 mean Value :  56.5746757373 Mean by Max ratio :  0.0275614975701 finite values :  6330\n",
      "Column :  L20 Mean by Max ratio :  0.650367539913\n",
      "Column :  L23 max Value :  5753.5877775 mean Value :  64.6844007667 Mean by Max ratio :  0.0112424461515 finite values :  5775\n",
      "Column :  L23 Mean by Max ratio :  0.568424629799\n",
      "Column :  L22 max Value :  1148.88118594 mean Value :  98.8390728979 Mean by Max ratio :  0.0860307176299 finite values :  10879\n",
      "Column :  L22 Mean by Max ratio :  0.471418231388\n",
      "Column :  L25 max Value :  9.46730142689 mean Value :  1.97080241534 Mean by Max ratio :  0.20816939553 finite values :  16990\n",
      "Column :  L25 Mean by Max ratio :  0.20816939553\n",
      "Column :  L24 max Value :  152.662242761 mean Value :  37.8914316939 Mean by Max ratio :  0.248204343187 finite values :  459\n",
      "Column :  L24 Mean by Max ratio :  0.248204343187\n",
      "Column :  L6 max Value :  62.0436226912 mean Value :  25.6178691599 Mean by Max ratio :  0.412900924361 finite values :  12961\n",
      "Column :  L6 Mean by Max ratio :  0.412900924361\n",
      "Column :  L7 max Value :  19955.3569063 mean Value :  34.8834420927 Mean by Max ratio :  0.00174807407638 finite values :  29993\n",
      "Column :  L7 Mean by Max ratio :  0.619070685349\n",
      "Column :  L4 max Value :  207.631022205 mean Value :  137.72916393 Mean by Max ratio :  0.663336155009 finite values :  32719\n",
      "Column :  L4 Mean by Max ratio :  0.663336155009\n",
      "Column :  L5 max Value :  86.4218004279 mean Value :  4.05307622823 Mean by Max ratio :  0.0468987710064 finite values :  35741\n",
      "Column :  L5 Mean by Max ratio :  0.270267104839\n",
      "Column :  L2 max Value :  189.360909446 mean Value :  43.7436430747 Mean by Max ratio :  0.231006722574 finite values :  12790\n",
      "Column :  L2 Mean by Max ratio :  0.231006722574\n",
      "Column :  L3 max Value :  663.8873613 mean Value :  121.660821814 Mean by Max ratio :  0.183255216029 finite values :  12831\n",
      "Column :  L3 Mean by Max ratio :  0.183255216029\n",
      "Column :  L1 max Value :  8.00528877671 mean Value :  7.36783249866 Mean by Max ratio :  0.920370608003 finite values :  12471\n",
      "Column :  L1 Mean by Max ratio :  0.920370608003\n",
      "Column :  L8 max Value :  421.380554184 mean Value :  1.90882551954 Mean by Max ratio :  0.00452993262406 finite values :  30131\n",
      "Column :  L8 Mean by Max ratio :  0.642774179253\n",
      "Column :  L9 max Value :  435674.196596 mean Value :  169.829406886 Mean by Max ratio :  0.000389808274653 finite values :  26986\n",
      "Column :  L9 Mean by Max ratio :  0.474399348802\n"
     ]
    }
   ],
   "source": [
    "# reload(S)\n",
    "# S.scale()"
   ]
  },
  {
   "cell_type": "code",
   "execution_count": 72,
   "metadata": {
    "collapsed": false,
    "scrolled": true
   },
   "outputs": [
    {
     "name": "stdout",
     "output_type": "stream",
     "text": [
      "Getting features...\n"
     ]
    },
    {
     "ename": "KeyboardInterrupt",
     "evalue": "",
     "output_type": "error",
     "traceback": [
      "\u001b[1;31m---------------------------------------------------------------------------\u001b[0m",
      "\u001b[1;31mKeyboardInterrupt\u001b[0m                         Traceback (most recent call last)",
      "\u001b[1;32m<ipython-input-72-56e4ced78fec>\u001b[0m in \u001b[0;36m<module>\u001b[1;34m()\u001b[0m\n\u001b[0;32m      5\u001b[0m     \u001b[0mage_file\u001b[0m\u001b[1;33m=\u001b[0m\u001b[1;34m'Training_Dataset/age_train.csv'\u001b[0m\u001b[1;33m,\u001b[0m\u001b[1;33m\u001b[0m\u001b[0m\n\u001b[0;32m      6\u001b[0m     \u001b[0mlabel_file\u001b[0m\u001b[1;33m=\u001b[0m\u001b[1;34m'Training_Dataset/id_label_train.csv'\u001b[0m\u001b[1;33m,\u001b[0m\u001b[1;33m\u001b[0m\u001b[0m\n\u001b[1;32m----> 7\u001b[1;33m     \u001b[0mprefix\u001b[0m\u001b[1;33m=\u001b[0m\u001b[1;34m''\u001b[0m\u001b[1;33m\u001b[0m\u001b[0m\n\u001b[0m\u001b[0;32m      8\u001b[0m )\n",
      "\u001b[1;32m/home/du2/12CS30009/XeroxChallenge/library/features.py\u001b[0m in \u001b[0;36mgetfeatures\u001b[1;34m(vital_file, lab_file, age_file, label_file, prefix, valfold)\u001b[0m\n\u001b[0;32m     60\u001b[0m \u001b[1;33m\u001b[0m\u001b[0m\n\u001b[0;32m     61\u001b[0m     \u001b[1;32mfor\u001b[0m \u001b[0mi\u001b[0m\u001b[1;33m,\u001b[0m \u001b[0mrow\u001b[0m \u001b[1;32min\u001b[0m \u001b[0menumerate\u001b[0m\u001b[1;33m(\u001b[0m\u001b[0mvitals\u001b[0m\u001b[1;33m.\u001b[0m\u001b[0miterrows\u001b[0m\u001b[1;33m(\u001b[0m\u001b[1;33m)\u001b[0m\u001b[1;33m)\u001b[0m\u001b[1;33m:\u001b[0m\u001b[1;33m\u001b[0m\u001b[0m\n\u001b[1;32m---> 62\u001b[1;33m         \u001b[0mtvitals\u001b[0m\u001b[1;33m[\u001b[0m\u001b[0mrow\u001b[0m\u001b[1;33m[\u001b[0m\u001b[1;36m1\u001b[0m\u001b[1;33m]\u001b[0m\u001b[1;33m[\u001b[0m\u001b[1;34m'ID'\u001b[0m\u001b[1;33m]\u001b[0m\u001b[1;33m.\u001b[0m\u001b[0mastype\u001b[0m\u001b[1;33m(\u001b[0m\u001b[0mnp\u001b[0m\u001b[1;33m.\u001b[0m\u001b[0mint32\u001b[0m\u001b[1;33m)\u001b[0m\u001b[1;33m]\u001b[0m\u001b[1;33m.\u001b[0m\u001b[0mappend\u001b[0m\u001b[1;33m(\u001b[0m\u001b[0mnp\u001b[0m\u001b[1;33m.\u001b[0m\u001b[0masarray\u001b[0m\u001b[1;33m(\u001b[0m\u001b[0mrow\u001b[0m\u001b[1;33m[\u001b[0m\u001b[1;36m1\u001b[0m\u001b[1;33m]\u001b[0m\u001b[1;33m[\u001b[0m\u001b[1;36m2\u001b[0m\u001b[1;33m:\u001b[0m\u001b[1;33m]\u001b[0m\u001b[1;33m)\u001b[0m\u001b[1;33m)\u001b[0m\u001b[1;33m\u001b[0m\u001b[0m\n\u001b[0m\u001b[0;32m     63\u001b[0m         \u001b[0mttime\u001b[0m\u001b[1;33m[\u001b[0m\u001b[0mrow\u001b[0m\u001b[1;33m[\u001b[0m\u001b[1;36m1\u001b[0m\u001b[1;33m]\u001b[0m\u001b[1;33m[\u001b[0m\u001b[1;34m'ID'\u001b[0m\u001b[1;33m]\u001b[0m\u001b[1;33m.\u001b[0m\u001b[0mastype\u001b[0m\u001b[1;33m(\u001b[0m\u001b[0mnp\u001b[0m\u001b[1;33m.\u001b[0m\u001b[0mint32\u001b[0m\u001b[1;33m)\u001b[0m\u001b[1;33m]\u001b[0m\u001b[1;33m.\u001b[0m\u001b[0;31m\\\u001b[0m\u001b[1;33m\u001b[0m\u001b[0m\n\u001b[0;32m     64\u001b[0m             \u001b[0mappend\u001b[0m\u001b[1;33m(\u001b[0m\u001b[0mrow\u001b[0m\u001b[1;33m[\u001b[0m\u001b[1;36m1\u001b[0m\u001b[1;33m]\u001b[0m\u001b[1;33m[\u001b[0m\u001b[1;34m'TIME'\u001b[0m\u001b[1;33m]\u001b[0m\u001b[1;33m.\u001b[0m\u001b[0mastype\u001b[0m\u001b[1;33m(\u001b[0m\u001b[0mnp\u001b[0m\u001b[1;33m.\u001b[0m\u001b[0mint32\u001b[0m\u001b[1;33m)\u001b[0m\u001b[1;33m)\u001b[0m\u001b[1;33m\u001b[0m\u001b[0m\n",
      "\u001b[1;32m/home/du2/12CS30009/anaconda/lib/python2.7/site-packages/pandas/core/series.pyc\u001b[0m in \u001b[0;36m__getitem__\u001b[1;34m(self, key)\u001b[0m\n\u001b[0;32m    519\u001b[0m     \u001b[1;32mdef\u001b[0m \u001b[0m__getitem__\u001b[0m\u001b[1;33m(\u001b[0m\u001b[0mself\u001b[0m\u001b[1;33m,\u001b[0m \u001b[0mkey\u001b[0m\u001b[1;33m)\u001b[0m\u001b[1;33m:\u001b[0m\u001b[1;33m\u001b[0m\u001b[0m\n\u001b[0;32m    520\u001b[0m         \u001b[1;32mtry\u001b[0m\u001b[1;33m:\u001b[0m\u001b[1;33m\u001b[0m\u001b[0m\n\u001b[1;32m--> 521\u001b[1;33m             \u001b[0mresult\u001b[0m \u001b[1;33m=\u001b[0m \u001b[0mself\u001b[0m\u001b[1;33m.\u001b[0m\u001b[0mindex\u001b[0m\u001b[1;33m.\u001b[0m\u001b[0mget_value\u001b[0m\u001b[1;33m(\u001b[0m\u001b[0mself\u001b[0m\u001b[1;33m,\u001b[0m \u001b[0mkey\u001b[0m\u001b[1;33m)\u001b[0m\u001b[1;33m\u001b[0m\u001b[0m\n\u001b[0m\u001b[0;32m    522\u001b[0m \u001b[1;33m\u001b[0m\u001b[0m\n\u001b[0;32m    523\u001b[0m             \u001b[1;32mif\u001b[0m \u001b[1;32mnot\u001b[0m \u001b[0mnp\u001b[0m\u001b[1;33m.\u001b[0m\u001b[0misscalar\u001b[0m\u001b[1;33m(\u001b[0m\u001b[0mresult\u001b[0m\u001b[1;33m)\u001b[0m\u001b[1;33m:\u001b[0m\u001b[1;33m\u001b[0m\u001b[0m\n",
      "\u001b[1;31mKeyboardInterrupt\u001b[0m: "
     ]
    }
   ],
   "source": [
    "# reload(F)\n",
    "# F.getfeatures(\n",
    "#     vital_file='Training_Dataset/vital_train.csv',\n",
    "#     lab_file='Training_Dataset/lab_train.csv',\n",
    "#     age_file='Training_Dataset/age_train.csv',\n",
    "#     label_file='Training_Dataset/id_label_train.csv',\n",
    "#     prefix=''\n",
    "# )"
   ]
  },
  {
   "cell_type": "code",
   "execution_count": 2,
   "metadata": {
    "collapsed": true
   },
   "outputs": [],
   "source": [
    "train_feats = pa.read_csv('train_feats.csv')\n",
    "train_targets = pa.read_csv('train_targets.csv')\n",
    "val_feats = pa.read_csv('validation_feats.csv')\n",
    "val_targets = pa.read_csv('validation_targets.csv')"
   ]
  },
  {
   "cell_type": "code",
   "execution_count": 3,
   "metadata": {
    "collapsed": false
   },
   "outputs": [
    {
     "name": "stdout",
     "output_type": "stream",
     "text": [
      "Index([u'ID', u'TIME', u'LABEL', u'ICU'], dtype='object')\n"
     ]
    }
   ],
   "source": [
    "print train_targets.columns"
   ]
  },
  {
   "cell_type": "code",
   "execution_count": 4,
   "metadata": {
    "collapsed": true
   },
   "outputs": [],
   "source": [
    "tx = np.asarray(train_feats, dtype=TH.config.floatX)\n",
    "tyall = np.asarray(train_targets, dtype=TH.config.floatX)\n",
    "ty = np.asarray(train_targets['LABEL'], dtype=TH.config.floatX).reshape(-1, 1)\n",
    "vx = np.asarray(val_feats, dtype=TH.config.floatX)\n",
    "vyall = np.asarray(val_targets, dtype=TH.config.floatX)\n",
    "vy = np.asarray(val_targets['LABEL'], dtype=TH.config.floatX).reshape(-1, 1)"
   ]
  },
  {
   "cell_type": "code",
   "execution_count": 5,
   "metadata": {
    "collapsed": false
   },
   "outputs": [
    {
     "name": "stdout",
     "output_type": "stream",
     "text": [
      "(426092, 321) (426092, 4) (426092, 1) (152282, 321) (152282, 4) (152282, 1)\n"
     ]
    }
   ],
   "source": [
    "print tx.shape, tyall.shape, ty.shape, vx.shape, vyall.shape, vy.shape"
   ]
  },
  {
   "cell_type": "code",
   "execution_count": 33,
   "metadata": {
    "collapsed": false,
    "scrolled": true
   },
   "outputs": [
    {
     "name": "stdout",
     "output_type": "stream",
     "text": [
      "Training ... \n",
      "Iteration 0, Loss = 0.0100931371527\n",
      "Testing ...\n",
      "Mean auc = 0.518331043779\n",
      "Iteration 1, Loss = 0.00894643869939\n",
      "Iteration 2, Loss = 0.00804043471446\n",
      "Iteration 3, Loss = 0.00760570778822\n",
      "Iteration 4, Loss = 0.00736488944889\n",
      "Iteration 5, Loss = 0.00717027325458\n",
      "Iteration 6, Loss = 0.0070868253886\n",
      "Iteration 7, Loss = 0.00694967578581\n",
      "Iteration 8, Loss = 0.00689584421218\n",
      "Iteration 9, Loss = 0.00676242500052\n",
      "Iteration 10, Loss = 0.00664706270059\n",
      "Testing ...\n",
      "Mean auc = 0.803206017661\n",
      "Iteration 11, Loss = 0.00653950855226\n",
      "Iteration 12, Loss = 0.00646453639266\n",
      "Iteration 13, Loss = 0.00641271407889\n",
      "Iteration 14, Loss = 0.00636154950689\n",
      "Iteration 15, Loss = 0.00630035990581\n",
      "Iteration 16, Loss = 0.00624740174028\n",
      "Iteration 17, Loss = 0.00621528427863\n",
      "Iteration 18, Loss = 0.00618710493947\n",
      "Iteration 19, Loss = 0.00614539256974\n",
      "Iteration 20, Loss = 0.00610232063328\n",
      "Testing ...\n",
      "Mean auc = 0.818300398507\n",
      "Iteration 21, Loss = 0.00608065385172\n",
      "Iteration 22, Loss = 0.00604998318666\n",
      "Iteration 23, Loss = 0.00601631716437\n",
      "Iteration 24, Loss = 0.00596614699449\n",
      "Iteration 25, Loss = 0.00594991495047\n",
      "Iteration 26, Loss = 0.00593012218718\n",
      "Iteration 27, Loss = 0.00590594311425\n",
      "Iteration 28, Loss = 0.00587893322594\n",
      "Iteration 29, Loss = 0.0058492854674\n",
      "Iteration 30, Loss = 0.00582206927377\n",
      "Testing ...\n",
      "Mean auc = 0.822101464693\n",
      "Iteration 31, Loss = 0.00579352978773\n",
      "Iteration 32, Loss = 0.00580269181243\n",
      "Iteration 33, Loss = 0.00576157113096\n",
      "Iteration 34, Loss = 0.00572399491528\n",
      "Iteration 35, Loss = 0.00569926216169\n",
      "Iteration 36, Loss = 0.00569417196267\n",
      "Iteration 37, Loss = 0.00567073737832\n",
      "Iteration 38, Loss = 0.00564591921612\n",
      "Iteration 39, Loss = 0.0056289776324\n",
      "Iteration 40, Loss = 0.00561235887377\n",
      "Testing ...\n",
      "Mean auc = 0.824485177219\n",
      "Iteration 41, Loss = 0.00560707679193\n",
      "Iteration 42, Loss = 0.00558225901897\n",
      "Iteration 43, Loss = 0.00555348940847\n",
      "Iteration 44, Loss = 0.00554026833338\n",
      "Iteration 45, Loss = 0.00551814678867\n",
      "Iteration 46, Loss = 0.00551190428405\n",
      "Iteration 47, Loss = 0.00550633656468\n",
      "Iteration 48, Loss = 0.00547579837737\n",
      "Iteration 49, Loss = 0.00548340237597\n",
      "Iteration 50, Loss = 0.00545108149623\n",
      "Testing ...\n",
      "Mean auc = 0.825351789684\n",
      "Iteration 51, Loss = 0.00541626686002\n",
      "Iteration 52, Loss = 0.00542342117159\n",
      "Iteration 53, Loss = 0.00540474440586\n",
      "Iteration 54, Loss = 0.00541836878353\n",
      "Iteration 55, Loss = 0.00541087977078\n",
      "Iteration 56, Loss = 0.00537639484918\n",
      "Iteration 57, Loss = 0.0053685547394\n",
      "Iteration 58, Loss = 0.00536056890999\n",
      "Iteration 59, Loss = 0.00535258256365\n",
      "Iteration 60, Loss = 0.00531450084791\n",
      "Testing ...\n",
      "Mean auc = 0.824223287849\n",
      "Iteration 61, Loss = 0.00529832863883\n",
      "Iteration 62, Loss = 0.00530098795929\n",
      "Iteration 63, Loss = 0.00526300956035\n",
      "Iteration 64, Loss = 0.00527717660007\n",
      "Iteration 65, Loss = 0.00523158476596\n",
      "Iteration 66, Loss = 0.00522888574929\n",
      "Iteration 67, Loss = 0.00522795392632\n",
      "Iteration 68, Loss = 0.00519491028027\n",
      "Iteration 69, Loss = 0.0051925180327\n",
      "Iteration 70, Loss = 0.00519036233938\n",
      "Testing ...\n",
      "Mean auc = 0.826608543466\n",
      "Iteration 71, Loss = 0.00515129853896\n",
      "Iteration 72, Loss = 0.00516262050834\n",
      "Iteration 73, Loss = 0.00511101230793\n",
      "Iteration 74, Loss = 0.00512525293464\n",
      "Iteration 75, Loss = 0.005097109426\n",
      "Iteration 76, Loss = 0.00510768111014\n",
      "Iteration 77, Loss = 0.00507935575356\n",
      "Iteration 78, Loss = 0.00506151522629\n",
      "Iteration 79, Loss = 0.00503827116615\n",
      "Iteration 80, Loss = 0.00505299006634\n",
      "Testing ...\n",
      "Mean auc = 0.826092795816\n",
      "Iteration 81, Loss = 0.00502877734365\n",
      "Iteration 82, Loss = 0.00502389476867\n",
      "Iteration 83, Loss = 0.0050120658884\n",
      "Iteration 84, Loss = 0.00498564085233\n",
      "Iteration 85, Loss = 0.00498295101631\n",
      "Iteration 86, Loss = 0.00496418643687\n",
      "Iteration 87, Loss = 0.00494882043456\n",
      "Iteration 88, Loss = 0.00492734087332\n",
      "Iteration 89, Loss = 0.00492423717139\n",
      "Iteration 90, Loss = 0.00488037515444\n",
      "Testing ...\n",
      "Mean auc = 0.8282404263\n",
      "Iteration 91, Loss = 0.00487702099453\n",
      "Iteration 92, Loss = 0.00488590538971\n",
      "Iteration 93, Loss = 0.00489944202094\n",
      "Iteration 94, Loss = 0.0048640686205\n",
      "Iteration 95, Loss = 0.00483813054382\n",
      "Iteration 96, Loss = 0.00483444687235\n",
      "Iteration 97, Loss = 0.00476876371115\n",
      "Iteration 98, Loss = 0.00476103459078\n",
      "Iteration 99, Loss = 0.00475894374952\n"
     ]
    }
   ],
   "source": [
    "reload(LN)\n",
    "nneta = LN.nnet(n_in=321, n_out=1, h_layers=[500,100],\n",
    "                i_drop=None, l_drops=[0.3, 0.3], lam=0.0,\n",
    "                nonlinearity=L.nonlinearities.rectify\n",
    "           )\n",
    "nneta.train(x=tx, y=ty, lrate=0.1, gamma=0.9, batch_size=1000, iters=100,\n",
    "            testx=vx, testy=vy, filename='model.npz'\n",
    "           )"
   ]
  },
  {
   "cell_type": "code",
   "execution_count": 34,
   "metadata": {
    "collapsed": false
   },
   "outputs": [
    {
     "name": "stdout",
     "output_type": "stream",
     "text": [
      "[array([[  1.77385024e-04],\n",
      "       [  1.41916156e-04],\n",
      "       [  1.38019503e-04],\n",
      "       ..., \n",
      "       [  1.00557031e-06],\n",
      "       [  9.74531872e-07],\n",
      "       [  7.02427428e-07]], dtype=float32)]\n"
     ]
    }
   ],
   "source": [
    "probs = nneta.tester(vx)\n",
    "print probs"
   ]
  },
  {
   "cell_type": "code",
   "execution_count": 35,
   "metadata": {
    "collapsed": false
   },
   "outputs": [
    {
     "name": "stdout",
     "output_type": "stream",
     "text": [
      "0.832006492365\n"
     ]
    },
    {
     "data": {
      "text/plain": [
       "[<matplotlib.lines.Line2D at 0x7fd2ab88d910>]"
      ]
     },
     "execution_count": 35,
     "metadata": {},
     "output_type": "execute_result"
    },
    {
     "data": {
      "image/png": "[encoded data removed]",
      "text/plain": [
       "<matplotlib.figure.Figure at 0x7fd2ad60ef10>"
      ]
     },
     "metadata": {},
     "output_type": "display_data"
    }
   ],
   "source": [
    "from sklearn.metrics import roc_curve\n",
    "from sklearn.metrics import roc_auc_score\n",
    "\n",
    "yscore = probs[0].ravel()\n",
    "print roc_auc_score(vy, yscore)\n",
    "fpr, tpr, thresh = roc_curve(vy, yscore)\n",
    "pyplot.plot(1-fpr, tpr)"
   ]
  },
  {
   "cell_type": "code",
   "execution_count": 44,
   "metadata": {
    "collapsed": false
   },
   "outputs": [
    {
     "name": "stdout",
     "output_type": "stream",
     "text": [
      "914\n"
     ]
    }
   ],
   "source": [
    "thresh = np.percentile(probs[0].ravel(), 99.4)\n",
    "pred = np.int32(probs[0].ravel()>=thresh)\n",
    "# for i in xrange(len(pred)):\n",
    "#     id = np.int32(vyall[i,0])\n",
    "#     if idtimes[id]-vyall[i,1] < 5*60*60:\n",
    "#         pred[i] = 0\n",
    "print np.sum(pred)"
   ]
  },
  {
   "cell_type": "code",
   "execution_count": 45,
   "metadata": {
    "collapsed": true
   },
   "outputs": [],
   "source": [
    "output = vyall.swapaxes(0,1)\n",
    "output[2] = pred\n",
    "output = output.swapaxes(0,1)"
   ]
  },
  {
   "cell_type": "code",
   "execution_count": 46,
   "metadata": {
    "collapsed": true
   },
   "outputs": [],
   "source": [
    "outfile = open('out.csv', 'w')\n",
    "outfile.write('ID,TIME,LABEL,ICU\\n')\n",
    "for i in output:\n",
    "    if i[3] == 1:\n",
    "        outfile.write(','.join([str(int(j)) for j in i])+'\\n')\n",
    "outfile.close()"
   ]
  },
  {
   "cell_type": "code",
   "execution_count": 47,
   "metadata": {
    "collapsed": false
   },
   "outputs": [
    {
     "name": "stdout",
     "output_type": "stream",
     "text": [
      "tp :  25 , tn :  831 , fp :  6 , fn :  35\n",
      "sensitivity :  0.416666666667 , specificity :  0.992831541219\n",
      "accuracy :  0.954292084727 median prediction time :  29.7591666667\n",
      "finalScore :  40.9322057945\n"
     ]
    },
    {
     "data": {
      "text/plain": [
       "(0.4166666666666667,\n",
       " 0.992831541218638,\n",
       " 0.9542920847268673,\n",
       " 29.759166666666665,\n",
       " 40.93220579450421)"
      ]
     },
     "execution_count": 47,
     "metadata": {},
     "output_type": "execute_result"
    }
   ],
   "source": [
    "reload(V)\n",
    "V.validate('out.csv', './Training_Dataset/id_label_train.csv')"
   ]
  }
 ],
 "metadata": {
  "kernelspec": {
   "display_name": "Python 2",
   "language": "python",
   "name": "python2"
  },
  "language_info": {
   "codemirror_mode": {
    "name": "ipython",
    "version": 2
   },
   "file_extension": ".py",
   "mimetype": "text/x-python",
   "name": "python",
   "nbconvert_exporter": "python",
   "pygments_lexer": "ipython2",
   "version": "2.7.10"
  }
 },
 "nbformat": 4,
 "nbformat_minor": 0
}
