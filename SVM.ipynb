{
 "cells": [
  {
   "cell_type": "code",
   "execution_count": 147,
   "metadata": {
    "collapsed": false
   },
   "outputs": [
    {
     "name": "stdout",
     "output_type": "stream",
     "text": [
      "Populating the interactive namespace from numpy and matplotlib\n"
     ]
    },
    {
     "name": "stderr",
     "output_type": "stream",
     "text": [
      "WARNING: pylab import has clobbered these variables: ['clf', 'TH']\n",
      "`%matplotlib` prevents importing * from pylab and numpy\n"
     ]
    }
   ],
   "source": [
    "%pylab inline\n",
    "\n",
    "from library import lasagnennet as LN\n",
    "from library import features as F\n",
    "from library import scale as S\n",
    "from library import validate as V\n",
    "import numpy as np\n",
    "import theano as TH\n",
    "import pandas as pa\n",
    "import lasagne as L"
   ]
  },
  {
   "cell_type": "code",
   "execution_count": 148,
   "metadata": {
    "collapsed": false,
    "scrolled": true
   },
   "outputs": [],
   "source": [
    "train_feats = pa.read_csv('train_feats.csv')\n",
    "train_targets = pa.read_csv('train_targets.csv')\n",
    "val_feats = pa.read_csv('validation_feats.csv')\n",
    "val_targets = pa.read_csv('validation_targets.csv')\n",
    "vval_feats = pa.read_csv('val_train_feats.csv')\n",
    "vval_targets = pa.read_csv('val_train_targets.csv')"
   ]
  },
  {
   "cell_type": "code",
   "execution_count": 149,
   "metadata": {
    "collapsed": true
   },
   "outputs": [],
   "source": [
    "tx = np.asarray(train_feats, dtype=np.float32)\n",
    "tyall = np.asarray(train_targets, dtype=np.float32)\n",
    "ty = np.asarray(train_targets['LABEL'], dtype=np.float32).reshape(-1, 1)\n",
    "vx = np.asarray(val_feats, dtype=np.float32)\n",
    "vyall = np.asarray(val_targets, dtype=np.float32)\n",
    "vy = np.asarray(val_targets['LABEL'], dtype=np.float32).reshape(-1, 1)"
   ]
  },
  {
   "cell_type": "code",
   "execution_count": 176,
   "metadata": {
    "collapsed": true
   },
   "outputs": [],
   "source": [
    "valx = np.asarray(vval_feats, dtype=np.float32)\n",
    "valyall = np.asarray(vval_targets, dtype=np.int64)"
   ]
  },
  {
   "cell_type": "code",
   "execution_count": 168,
   "metadata": {
    "collapsed": false
   },
   "outputs": [
    {
     "data": {
      "text/plain": [
       "(199971, 3)"
      ]
     },
     "execution_count": 168,
     "metadata": {},
     "output_type": "execute_result"
    }
   ],
   "source": [
    "valyall.shape"
   ]
  },
  {
   "cell_type": "code",
   "execution_count": 108,
   "metadata": {
    "collapsed": false
   },
   "outputs": [
    {
     "name": "stdout",
     "output_type": "stream",
     "text": [
      "(199971, 129)\n"
     ]
    }
   ],
   "source": [
    "print valx.shape"
   ]
  },
  {
   "cell_type": "code",
   "execution_count": 7,
   "metadata": {
    "collapsed": false
   },
   "outputs": [],
   "source": [
    "idtimes = [0 for i in xrange(3595)]\n",
    "for i in vyall:\n",
    "    idtimes[np.int32(i[0])] = max(idtimes[np.int32(i[0])], i[1])"
   ]
  },
  {
   "cell_type": "code",
   "execution_count": 151,
   "metadata": {
    "collapsed": true
   },
   "outputs": [],
   "source": [
    "ty = ty.ravel()\n",
    "vy = vy.ravel()"
   ]
  },
  {
   "cell_type": "code",
   "execution_count": 152,
   "metadata": {
    "collapsed": false
   },
   "outputs": [],
   "source": [
    "from sklearn import svm\n",
    "from sklearn.metrics import roc_curve\n",
    "from sklearn.metrics import auc_score"
   ]
  },
  {
   "cell_type": "code",
   "execution_count": 153,
   "metadata": {
    "collapsed": false
   },
   "outputs": [
    {
     "name": "stdout",
     "output_type": "stream",
     "text": [
      "[LibSVM]"
     ]
    },
    {
     "data": {
      "text/plain": [
       "SVC(C=1.0, cache_size=200, class_weight={0: 1, 1: 1.5}, coef0=0.0, degree=3,\n",
       "  gamma=0.0, kernel='rbf', max_iter=200, probability=False,\n",
       "  random_state=None, shrinking=True, tol=0.001, verbose=True)"
      ]
     },
     "execution_count": 153,
     "metadata": {},
     "output_type": "execute_result"
    }
   ],
   "source": [
    "clf = svm.SVC(verbose=True, max_iter=200, class_weight={0:1, 1:1.5})\n",
    "clf.fit(tx, ty)"
   ]
  },
  {
   "cell_type": "code",
   "execution_count": 154,
   "metadata": {
    "collapsed": false
   },
   "outputs": [],
   "source": [
    "tprobs = clf.decision_function(tx)\n",
    "vprobs = clf.decision_function(vx)\n",
    "valprobs = clf.decision_function(valx)"
   ]
  },
  {
   "cell_type": "code",
   "execution_count": 155,
   "metadata": {
    "collapsed": false
   },
   "outputs": [
    {
     "name": "stdout",
     "output_type": "stream",
     "text": [
      "0.666030912191\n"
     ]
    },
    {
     "name": "stderr",
     "output_type": "stream",
     "text": [
      "/home/biswajit/anaconda/lib/python2.7/site-packages/sklearn/utils/__init__.py:93: DeprecationWarning: Function auc_score is deprecated; Function 'auc_score' has been renamed to 'roc_auc_score' and will be removed in release 0.16.\n",
      "  warnings.warn(msg, category=DeprecationWarning)\n"
     ]
    },
    {
     "data": {
      "text/plain": [
       "[<matplotlib.lines.Line2D at 0x7f3c29c11110>]"
      ]
     },
     "metadata": {},
     "output_type": "display_data"
    },
    {
     "name": "stdout",
     "output_type": "stream",
     "text": [
      "0.723290323215\n"
     ]
    },
    {
     "name": "stderr",
     "output_type": "stream",
     "text": [
      "/home/biswajit/anaconda/lib/python2.7/site-packages/sklearn/utils/__init__.py:93: DeprecationWarning: Function auc_score is deprecated; Function 'auc_score' has been renamed to 'roc_auc_score' and will be removed in release 0.16.\n",
      "  warnings.warn(msg, category=DeprecationWarning)\n"
     ]
    },
    {
     "data": {
      "text/plain": [
       "[<matplotlib.lines.Line2D at 0x7f3c32e6a790>]"
      ]
     },
     "metadata": {},
     "output_type": "display_data"
    },
    {
     "data": {
      "image/png": "[encoded data removed]",
      "text/plain": [
       "<matplotlib.figure.Figure at 0x7f3c29b55b10>"
      ]
     },
     "metadata": {},
     "output_type": "display_data"
    }
   ],
   "source": [
    "yscore = tprobs.ravel()\n",
    "fpr, tpr, thresh = roc_curve(ty, yscore)\n",
    "auc = auc_score(ty, yscore)\n",
    "print auc\n",
    "display(pyplot.plot(1-fpr, tpr,))\n",
    "\n",
    "yscore = vprobs.ravel()\n",
    "fpr, tpr, thresh = roc_curve(vy, yscore)\n",
    "auc = auc_score(vy, yscore)\n",
    "print auc\n",
    "display(pyplot.plot(1-fpr, tpr,))"
   ]
  },
  {
   "cell_type": "code",
   "execution_count": 160,
   "metadata": {
    "collapsed": false
   },
   "outputs": [
    {
     "name": "stdout",
     "output_type": "stream",
     "text": [
      "1476\n"
     ]
    }
   ],
   "source": [
    "thresh = np.percentile(vprobs.ravel(), 99.3)\n",
    "pred = np.int32(vprobs.ravel() >= thresh)\n",
    "print np.sum(pred)"
   ]
  },
  {
   "cell_type": "code",
   "execution_count": 178,
   "metadata": {
    "collapsed": false
   },
   "outputs": [
    {
     "name": "stdout",
     "output_type": "stream",
     "text": [
      "2000\n"
     ]
    }
   ],
   "source": [
    "thresh = np.percentile(valprobs.ravel(), 99)\n",
    "pred = np.int32(valprobs.ravel() >= thresh)\n",
    "print np.sum(pred)"
   ]
  },
  {
   "cell_type": "code",
   "execution_count": 162,
   "metadata": {
    "collapsed": true
   },
   "outputs": [],
   "source": [
    "outfile = open('out.csv', 'w')\n",
    "outfile.write('ID,TIME,LABEL,ICU\\n')\n",
    "for i in xrange(vx.shape[0]):\n",
    "    if np.int32(vyall[i,3]) == 1.0:\n",
    "        outfile.write(str(vyall[i,0])+','+str(vyall[i,1])+','+str(pred[i])+',1\\n')\n",
    "outfile.close()"
   ]
  },
  {
   "cell_type": "code",
   "execution_count": 158,
   "metadata": {
    "collapsed": false
   },
   "outputs": [
    {
     "name": "stdout",
     "output_type": "stream",
     "text": [
      "1.0\n"
     ]
    }
   ],
   "source": [
    "print valyall[26,2]"
   ]
  },
  {
   "cell_type": "code",
   "execution_count": 169,
   "metadata": {
    "collapsed": false
   },
   "outputs": [
    {
     "name": "stdout",
     "output_type": "stream",
     "text": [
      "199971\n"
     ]
    }
   ],
   "source": [
    "print valx.shape[0]"
   ]
  },
  {
   "cell_type": "code",
   "execution_count": 179,
   "metadata": {
    "collapsed": false
   },
   "outputs": [],
   "source": [
    "outfile = open('output.csv', 'w')\n",
    "# outfile.write('ID,TIME,LABEL\\n')\n",
    "for i in xrange(valx.shape[0]):\n",
    "    if np.int64(valyall[i,2]) == 1:\n",
    "        outfile.write(str(valyall[i,0])+','+str(valyall[i,1])+','+str(pred[i])+'\\n')\n",
    "outfile.close()"
   ]
  },
  {
   "cell_type": "code",
   "execution_count": 132,
   "metadata": {
    "collapsed": false
   },
   "outputs": [
    {
     "name": "stdout",
     "output_type": "stream",
     "text": [
      "(199971, 3)\n"
     ]
    }
   ],
   "source": [
    "print output.shape"
   ]
  },
  {
   "cell_type": "code",
   "execution_count": 163,
   "metadata": {
    "collapsed": false,
    "scrolled": true
   },
   "outputs": [
    {
     "name": "stdout",
     "output_type": "stream",
     "text": [
      "tp :  8 , tn :  841 , fp :  8 , fn :  49\n",
      "sensitivity :  0.140350877193 , specificity :  0.990577149588\n",
      "accuracy :  0.937086092715 median prediction time :  165.631111111\n",
      "finalScore :  30.8148905833\n"
     ]
    },
    {
     "data": {
      "text/plain": [
       "(0.14035087719298245,\n",
       " 0.9905771495877503,\n",
       " 0.9370860927152318,\n",
       " 165.63111111111112,\n",
       " 30.81489058334886)"
      ]
     },
     "execution_count": 163,
     "metadata": {},
     "output_type": "execute_result"
    }
   ],
   "source": [
    "reload(V)\n",
    "V.validate('out.csv', './Training_Dataset/id_label_train.csv')"
   ]
  }
 ],
 "metadata": {
  "kernelspec": {
   "display_name": "Python 2",
   "language": "python",
   "name": "python2"
  },
  "language_info": {
   "codemirror_mode": {
    "name": "ipython",
    "version": 2
   },
   "file_extension": ".py",
   "mimetype": "text/x-python",
   "name": "python",
   "nbconvert_exporter": "python",
   "pygments_lexer": "ipython2",
   "version": "2.7.10"
  }
 },
 "nbformat": 4,
 "nbformat_minor": 0
}
