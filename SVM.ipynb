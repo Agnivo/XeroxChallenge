{
 "cells": [
  {
   "cell_type": "code",
   "execution_count": 8,
   "metadata": {
    "collapsed": false
   },
   "outputs": [
    {
     "name": "stdout",
     "output_type": "stream",
     "text": [
      "Populating the interactive namespace from numpy and matplotlib\n"
     ]
    },
    {
     "name": "stderr",
     "output_type": "stream",
     "text": [
      "WARNING: pylab import has clobbered these variables: ['TH']\n",
      "`%matplotlib` prevents importing * from pylab and numpy\n"
     ]
    }
   ],
   "source": [
    "%pylab inline\n",
    "\n",
    "from library import lasagnennet as LN\n",
    "from library import features as F\n",
    "from library import scale as S\n",
    "from library import validate as V\n",
    "import numpy as np\n",
    "import theano as TH\n",
    "import pandas as pa\n",
    "import lasagne as L"
   ]
  },
  {
   "cell_type": "code",
   "execution_count": 9,
   "metadata": {
    "collapsed": false,
    "scrolled": true
   },
   "outputs": [],
   "source": [
    "train_feats = pa.read_csv('train_feats.csv')\n",
    "train_targets = pa.read_csv('train_targets.csv')\n",
    "val_feats = pa.read_csv('validation_feats.csv')\n",
    "val_targets = pa.read_csv('validation_targets.csv')"
   ]
  },
  {
   "cell_type": "code",
   "execution_count": 10,
   "metadata": {
    "collapsed": true
   },
   "outputs": [],
   "source": [
    "tx = np.asarray(train_feats, dtype=TH.config.floatX)\n",
    "tyall = np.asarray(train_targets, dtype=TH.config.floatX)\n",
    "ty = np.asarray(train_targets['LABEL'], dtype=TH.config.floatX).reshape(-1, 1)\n",
    "vx = np.asarray(val_feats, dtype=TH.config.floatX)\n",
    "vyall = np.asarray(val_targets, dtype=TH.config.floatX)\n",
    "vy = np.asarray(val_targets['LABEL'], dtype=TH.config.floatX).reshape(-1, 1)"
   ]
  },
  {
   "cell_type": "code",
   "execution_count": 11,
   "metadata": {
    "collapsed": false
   },
   "outputs": [
    {
     "name": "stdout",
     "output_type": "stream",
     "text": [
      "(152282, 4)\n"
     ]
    }
   ],
   "source": [
    "print vyall.shape"
   ]
  },
  {
   "cell_type": "code",
   "execution_count": 12,
   "metadata": {
    "collapsed": false
   },
   "outputs": [],
   "source": [
    "idtimes = [0 for i in xrange(3595)]\n",
    "for i in vyall:\n",
    "    idtimes[np.int32(i[0])] = max(idtimes[np.int32(i[0])], i[1])"
   ]
  },
  {
   "cell_type": "code",
   "execution_count": 13,
   "metadata": {
    "collapsed": true
   },
   "outputs": [],
   "source": [
    "ty = ty.ravel()\n",
    "vy = vy.ravel()"
   ]
  },
  {
   "cell_type": "code",
   "execution_count": 14,
   "metadata": {
    "collapsed": false
   },
   "outputs": [],
   "source": [
    "from sklearn import svm\n",
    "from sklearn.metrics import roc_curve"
   ]
  },
  {
   "cell_type": "code",
   "execution_count": null,
   "metadata": {
    "collapsed": false
   },
   "outputs": [],
   "source": [
    "clf = svm.SVC(verbose=True, max_iter=1000, class_weight={0:1, 1:3})\n",
    "clf.fit(tx, ty)"
   ]
  },
  {
   "cell_type": "code",
   "execution_count": 18,
   "metadata": {
    "collapsed": false
   },
   "outputs": [
    {
     "ename": "AttributeError",
     "evalue": "predict_proba is not available when probability=False",
     "output_type": "error",
     "traceback": [
      "\u001b[1;31m---------------------------------------------------------------------------\u001b[0m",
      "\u001b[1;31mAttributeError\u001b[0m                            Traceback (most recent call last)",
      "\u001b[1;32m<ipython-input-18-0e26f5d981da>\u001b[0m in \u001b[0;36m<module>\u001b[1;34m()\u001b[0m\n\u001b[1;32m----> 1\u001b[1;33m \u001b[0mprobs\u001b[0m \u001b[1;33m=\u001b[0m \u001b[0mclf\u001b[0m\u001b[1;33m.\u001b[0m\u001b[0mpredict_proba\u001b[0m\u001b[1;33m(\u001b[0m\u001b[0mvx\u001b[0m\u001b[1;33m)\u001b[0m\u001b[1;33m\u001b[0m\u001b[0m\n\u001b[0m",
      "\u001b[1;32m/home/du2/12CS30009/anaconda/lib/python2.7/site-packages/sklearn/svm/base.pyc\u001b[0m in \u001b[0;36mpredict_proba\u001b[1;34m(self)\u001b[0m\n\u001b[0;32m    505\u001b[0m         \u001b[0mdatasets\u001b[0m\u001b[1;33m.\u001b[0m\u001b[1;33m\u001b[0m\u001b[0m\n\u001b[0;32m    506\u001b[0m         \"\"\"\n\u001b[1;32m--> 507\u001b[1;33m         \u001b[0mself\u001b[0m\u001b[1;33m.\u001b[0m\u001b[0m_check_proba\u001b[0m\u001b[1;33m(\u001b[0m\u001b[1;33m)\u001b[0m\u001b[1;33m\u001b[0m\u001b[0m\n\u001b[0m\u001b[0;32m    508\u001b[0m         \u001b[1;32mreturn\u001b[0m \u001b[0mself\u001b[0m\u001b[1;33m.\u001b[0m\u001b[0m_predict_proba\u001b[0m\u001b[1;33m\u001b[0m\u001b[0m\n\u001b[0;32m    509\u001b[0m \u001b[1;33m\u001b[0m\u001b[0m\n",
      "\u001b[1;32m/home/du2/12CS30009/anaconda/lib/python2.7/site-packages/sklearn/svm/base.pyc\u001b[0m in \u001b[0;36m_check_proba\u001b[1;34m(self)\u001b[0m\n\u001b[0;32m    475\u001b[0m         \u001b[1;32mif\u001b[0m \u001b[1;32mnot\u001b[0m \u001b[0mself\u001b[0m\u001b[1;33m.\u001b[0m\u001b[0mprobability\u001b[0m\u001b[1;33m:\u001b[0m\u001b[1;33m\u001b[0m\u001b[0m\n\u001b[0;32m    476\u001b[0m             raise AttributeError(\"predict_proba is not available when\"\n\u001b[1;32m--> 477\u001b[1;33m                                  \" probability=%r\" % self.probability)\n\u001b[0m\u001b[0;32m    478\u001b[0m         \u001b[1;32mif\u001b[0m \u001b[0mself\u001b[0m\u001b[1;33m.\u001b[0m\u001b[0m_impl\u001b[0m \u001b[1;32mnot\u001b[0m \u001b[1;32min\u001b[0m \u001b[1;33m(\u001b[0m\u001b[1;34m'c_svc'\u001b[0m\u001b[1;33m,\u001b[0m \u001b[1;34m'nu_svc'\u001b[0m\u001b[1;33m)\u001b[0m\u001b[1;33m:\u001b[0m\u001b[1;33m\u001b[0m\u001b[0m\n\u001b[0;32m    479\u001b[0m             raise AttributeError(\"predict_proba only implemented for SVC\"\n",
      "\u001b[1;31mAttributeError\u001b[0m: predict_proba is not available when probability=False"
     ]
    }
   ],
   "source": [
    "probs = clf.predict_proba(vx)"
   ]
  },
  {
   "cell_type": "code",
   "execution_count": null,
   "metadata": {
    "collapsed": false
   },
   "outputs": [],
   "source": [
    "yscore = probs[:,1]\n",
    "fpr, tpr, thresh = roc_curve(vy, yscore)\n",
    "pyplot.plot(1-fpr, tpr)"
   ]
  },
  {
   "cell_type": "code",
   "execution_count": 47,
   "metadata": {
    "collapsed": false
   },
   "outputs": [
    {
     "name": "stdout",
     "output_type": "stream",
     "text": [
      "1523\n"
     ]
    }
   ],
   "source": [
    "thresh = np.percentile(probs[:,1], 99)\n",
    "pred = np.int32(probs[:,1]>=thresh)\n",
    "# for i in xrange(len(pred)):\n",
    "#     id = np.int32(vyall[i,0])\n",
    "#     if idtimes[id]-vyall[i,1] < 5*60*60:\n",
    "#         pred[i] = 0\n",
    "print np.sum(pred)"
   ]
  },
  {
   "cell_type": "code",
   "execution_count": 12,
   "metadata": {
    "collapsed": false
   },
   "outputs": [
    {
     "name": "stdout",
     "output_type": "stream",
     "text": [
      "(array([1303, 1305, 1306, 1307, 1308, 1310, 1313, 1317, 1330, 1332, 1351,\n",
      "       1352, 1359, 1365, 1369, 1380]),)\n"
     ]
    }
   ],
   "source": [
    "print np.where(pred==1)"
   ]
  },
  {
   "cell_type": "code",
   "execution_count": 13,
   "metadata": {
    "collapsed": false
   },
   "outputs": [
    {
     "name": "stdout",
     "output_type": "stream",
     "text": [
      "1137110 0\n"
     ]
    }
   ],
   "source": [
    "print np.int32(vyall[19441, 1]), idtimes[986]"
   ]
  },
  {
   "cell_type": "code",
   "execution_count": 48,
   "metadata": {
    "collapsed": false
   },
   "outputs": [],
   "source": [
    "output = vyall.swapaxes(0,1)\n",
    "output[2] = pred\n",
    "output = output.swapaxes(0,1)"
   ]
  },
  {
   "cell_type": "code",
   "execution_count": 51,
   "metadata": {
    "collapsed": true
   },
   "outputs": [],
   "source": [
    "outfile = open('out.csv', 'w')\n",
    "outfile.write('ID,TIME,LABEL,ICU\\n')\n",
    "for i in output:\n",
    "    if i[3] == 1:\n",
    "        outfile.write(','.join([str(int(j)) for j in i])+'\\n')\n",
    "outfile.close()"
   ]
  },
  {
   "cell_type": "code",
   "execution_count": 52,
   "metadata": {
    "collapsed": false,
    "scrolled": true
   },
   "outputs": [
    {
     "name": "stdout",
     "output_type": "stream",
     "text": [
      "tp :  9 , tn :  831 , fp :  6 , fn :  51\n",
      "sensitivity :  0.15 , specificity :  0.992831541219\n",
      "accuracy :  0.936454849498 median prediction time :  135.3575\n",
      "finalScore :  32.6657706093\n"
     ]
    },
    {
     "data": {
      "text/plain": [
       "(0.15,\n",
       " 0.992831541218638,\n",
       " 0.9364548494983278,\n",
       " 135.35749999999999,\n",
       " 32.665770609319026)"
      ]
     },
     "execution_count": 52,
     "metadata": {},
     "output_type": "execute_result"
    }
   ],
   "source": [
    "reload(V)\n",
    "V.validate('out.csv', './Training_Dataset/id_label_train.csv')"
   ]
  }
 ],
 "metadata": {
  "kernelspec": {
   "display_name": "Python 2",
   "language": "python",
   "name": "python2"
  },
  "language_info": {
   "codemirror_mode": {
    "name": "ipython",
    "version": 2
   },
   "file_extension": ".py",
   "mimetype": "text/x-python",
   "name": "python",
   "nbconvert_exporter": "python",
   "pygments_lexer": "ipython2",
   "version": "2.7.10"
  }
 },
 "nbformat": 4,
 "nbformat_minor": 0
}
