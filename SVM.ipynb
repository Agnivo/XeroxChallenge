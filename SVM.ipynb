{
 "cells": [
  {
   "cell_type": "code",
   "execution_count": 76,
   "metadata": {
    "collapsed": false
   },
   "outputs": [
    {
     "name": "stdout",
     "output_type": "stream",
     "text": [
      "Populating the interactive namespace from numpy and matplotlib\n"
     ]
    },
    {
     "name": "stderr",
     "output_type": "stream",
     "text": [
      "WARNING: pylab import has clobbered these variables: ['clf', 'TH']\n",
      "`%matplotlib` prevents importing * from pylab and numpy\n"
     ]
    }
   ],
   "source": [
    "%pylab inline\n",
    "\n",
    "from library import lasagnennet as LN\n",
    "from library import features as F\n",
    "from library import scale as S\n",
    "from library import validate as V\n",
    "import numpy as np\n",
    "import theano as TH\n",
    "import pandas as pa\n",
    "import lasagne as L"
   ]
  },
  {
   "cell_type": "code",
   "execution_count": 77,
   "metadata": {
    "collapsed": false,
    "scrolled": true
   },
   "outputs": [],
   "source": [
    "train_feats = pa.read_csv('train_feats.csv')\n",
    "train_targets = pa.read_csv('train_targets.csv')\n",
    "val_feats = pa.read_csv('validation_feats.csv')\n",
    "val_targets = pa.read_csv('validation_targets.csv')"
   ]
  },
  {
   "cell_type": "code",
   "execution_count": 78,
   "metadata": {
    "collapsed": true
   },
   "outputs": [],
   "source": [
    "tx = np.asarray(train_feats, dtype=TH.config.floatX)\n",
    "tyall = np.asarray(train_targets, dtype=TH.config.floatX)\n",
    "ty = np.asarray(train_targets['LABEL'], dtype=TH.config.floatX).reshape(-1, 1)\n",
    "vx = np.asarray(val_feats, dtype=TH.config.floatX)\n",
    "vyall = np.asarray(val_targets, dtype=TH.config.floatX)\n",
    "vy = np.asarray(val_targets['LABEL'], dtype=TH.config.floatX).reshape(-1, 1)"
   ]
  },
  {
   "cell_type": "code",
   "execution_count": 79,
   "metadata": {
    "collapsed": true
   },
   "outputs": [],
   "source": [
    "ty = ty.ravel()\n",
    "vy = vy.ravel()"
   ]
  },
  {
   "cell_type": "code",
   "execution_count": 80,
   "metadata": {
    "collapsed": false
   },
   "outputs": [],
   "source": [
    "from sklearn import svm"
   ]
  },
  {
   "cell_type": "code",
   "execution_count": 101,
   "metadata": {
    "collapsed": false
   },
   "outputs": [
    {
     "name": "stdout",
     "output_type": "stream",
     "text": [
      "[LibSVM]"
     ]
    },
    {
     "data": {
      "text/plain": [
       "SVC(C=1.0, cache_size=200, class_weight={0: 1.3, 1: 1}, coef0=0.0, degree=3,\n",
       "  gamma=0.0, kernel='rbf', max_iter=100, probability=True,\n",
       "  random_state=None, shrinking=True, tol=0.001, verbose=True)"
      ]
     },
     "execution_count": 101,
     "metadata": {},
     "output_type": "execute_result"
    }
   ],
   "source": [
    "clf = svm.SVC(verbose=True, max_iter=100, class_weight={0:1.3, 1:1}, probability=True)\n",
    "clf.fit(tx, ty)"
   ]
  },
  {
   "cell_type": "code",
   "execution_count": 108,
   "metadata": {
    "collapsed": false
   },
   "outputs": [],
   "source": [
    "probs = clf.predict_proba(vx)"
   ]
  },
  {
   "cell_type": "code",
   "execution_count": 127,
   "metadata": {
    "collapsed": false
   },
   "outputs": [
    {
     "name": "stdout",
     "output_type": "stream",
     "text": [
      "7\n"
     ]
    }
   ],
   "source": [
    "thresh = np.percentile(probs[:,1], 99.99)\n",
    "pred = np.int32(probs[:,1]>=thresh)\n",
    "print np.sum(pred)"
   ]
  },
  {
   "cell_type": "code",
   "execution_count": 128,
   "metadata": {
    "collapsed": false
   },
   "outputs": [],
   "source": [
    "output = vyall.swapaxes(0,1)\n",
    "output[2] = pred\n",
    "output = output.swapaxes(0,1)"
   ]
  },
  {
   "cell_type": "code",
   "execution_count": 129,
   "metadata": {
    "collapsed": true
   },
   "outputs": [],
   "source": [
    "outfile = open('out.csv', 'w')\n",
    "outfile.write('ID,TIME,LABEL,ICU\\n')\n",
    "for i in output:\n",
    "    outfile.write(','.join([str(int(j)) for j in i])+'\\n')\n",
    "outfile.close()"
   ]
  },
  {
   "cell_type": "code",
   "execution_count": 131,
   "metadata": {
    "collapsed": false,
    "scrolled": true
   },
   "outputs": [
    {
     "name": "stdout",
     "output_type": "stream",
     "text": [
      "tp :  1 , tn :  827 , fp :  1 , fn :  71\n",
      "sensitivity :  0.0138888888889 , specificity :  0.998792270531\n",
      "accuracy :  0.92 median prediction time :  4820.5\n",
      "specificity < 0.99 or sensitivity = 0            or medianPredictionTime < 5\n",
      "finalScore :  0\n"
     ]
    },
    {
     "data": {
      "text/plain": [
       "(0.013888888888888888, 0.998792270531401, 0.92, 4820.5, 0)"
      ]
     },
     "execution_count": 131,
     "metadata": {},
     "output_type": "execute_result"
    }
   ],
   "source": [
    "reload(V)\n",
    "V.validate('out.csv', './Training_Dataset/id_label_train.csv')"
   ]
  }
 ],
 "metadata": {
  "kernelspec": {
   "display_name": "Python 2",
   "language": "python",
   "name": "python2"
  },
  "language_info": {
   "codemirror_mode": {
    "name": "ipython",
    "version": 2
   },
   "file_extension": ".py",
   "mimetype": "text/x-python",
   "name": "python",
   "nbconvert_exporter": "python",
   "pygments_lexer": "ipython2",
   "version": "2.7.10"
  }
 },
 "nbformat": 4,
 "nbformat_minor": 0
}
