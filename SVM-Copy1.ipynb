{
 "cells": [
  {
   "cell_type": "code",
   "execution_count": 1,
   "metadata": {
    "collapsed": false
   },
   "outputs": [
    {
     "name": "stdout",
     "output_type": "stream",
     "text": [
      "Populating the interactive namespace from numpy and matplotlib\n"
     ]
    }
   ],
   "source": [
    "%pylab inline\n",
    "\n",
    "from library import lasagnennet as LN\n",
    "from library import features as F\n",
    "from library import scale as S\n",
    "from library import validate as V\n",
    "import numpy as np\n",
    "import theano as TH\n",
    "import pandas as pa\n",
    "import lasagne as L"
   ]
  },
  {
   "cell_type": "code",
   "execution_count": 2,
   "metadata": {
    "collapsed": false,
    "scrolled": true
   },
   "outputs": [],
   "source": [
    "train_feats = pa.read_csv('full2_train_feats.csv')\n",
    "train_targets = pa.read_csv('full2_train_targets.csv')\n",
    "val_feats = pa.read_csv('validation_feats.csv')\n",
    "val_targets = pa.read_csv('validation_targets.csv')\n",
    "vval_feats = pa.read_csv('val_train_feats.csv')\n",
    "vval_targets = pa.read_csv('val_train_targets.csv')"
   ]
  },
  {
   "cell_type": "code",
   "execution_count": 3,
   "metadata": {
    "collapsed": true
   },
   "outputs": [],
   "source": [
    "tx = np.asarray(train_feats, dtype=np.float32)\n",
    "tyall = np.asarray(train_targets, dtype=np.float32)\n",
    "ty = np.asarray(train_targets['LABEL'], dtype=np.float32).reshape(-1, 1)\n",
    "vx = np.asarray(val_feats, dtype=np.float32)\n",
    "vyall = np.asarray(val_targets, dtype=np.float32)\n",
    "vy = np.asarray(val_targets['LABEL'], dtype=np.float32).reshape(-1, 1)"
   ]
  },
  {
   "cell_type": "code",
   "execution_count": 4,
   "metadata": {
    "collapsed": false
   },
   "outputs": [],
   "source": [
    "valx = np.asarray(vval_feats, dtype=np.float32)\n",
    "valyall = np.asarray(vval_targets, dtype=np.int64)"
   ]
  },
  {
   "cell_type": "code",
   "execution_count": 5,
   "metadata": {
    "collapsed": true
   },
   "outputs": [],
   "source": [
    "ty = ty.ravel()\n",
    "vy = vy.ravel()"
   ]
  },
  {
   "cell_type": "code",
   "execution_count": 6,
   "metadata": {
    "collapsed": false
   },
   "outputs": [
    {
     "name": "stdout",
     "output_type": "stream",
     "text": [
      "(628437, 129) (628437, 4) (628437,) (163632, 129) (163632, 4) (163632,) (199971, 129)\n"
     ]
    }
   ],
   "source": [
    "print tx.shape, tyall.shape, ty.shape, vx.shape, vyall.shape, vy.shape, valx.shape"
   ]
  },
  {
   "cell_type": "code",
   "execution_count": 8,
   "metadata": {
    "collapsed": false
   },
   "outputs": [],
   "source": [
    "from sklearn import svm\n",
    "from sklearn.metrics import roc_curve\n",
    "from sklearn.metrics import auc_score"
   ]
  },
  {
   "cell_type": "code",
   "execution_count": 30,
   "metadata": {
    "collapsed": false
   },
   "outputs": [
    {
     "name": "stdout",
     "output_type": "stream",
     "text": [
      "[LibSVM]"
     ]
    },
    {
     "data": {
      "text/plain": [
       "SVC(C=1.0, cache_size=200, class_weight={0: 1, 1: 2}, coef0=0.0, degree=3,\n",
       "  gamma=0.0, kernel='rbf', max_iter=200, probability=False,\n",
       "  random_state=None, shrinking=True, tol=0.001, verbose=True)"
      ]
     },
     "execution_count": 30,
     "metadata": {},
     "output_type": "execute_result"
    }
   ],
   "source": [
    "clf = svm.SVC(verbose=True, max_iter=200, class_weight={0:1, 1:2})\n",
    "clf.fit(tx, ty)"
   ]
  },
  {
   "cell_type": "code",
   "execution_count": 31,
   "metadata": {
    "collapsed": false
   },
   "outputs": [],
   "source": [
    "tprobs = clf.decision_function(tx)\n",
    "vprobs = clf.decision_function(vx)\n",
    "valprobs = clf.decision_function(valx)"
   ]
  },
  {
   "cell_type": "code",
   "execution_count": 9,
   "metadata": {
    "collapsed": false
   },
   "outputs": [
    {
     "name": "stderr",
     "output_type": "stream",
     "text": [
      "[Parallel(n_jobs=3)]: Done   1 out of   3 | elapsed:  1.0min remaining:  2.1min\n",
      "[Parallel(n_jobs=3)]: Done   3 out of   3 | elapsed:  1.1min finished\n"
     ]
    },
    {
     "data": {
      "text/plain": [
       "RandomForestClassifier(bootstrap=True, compute_importances=None,\n",
       "            criterion='gini', max_depth=3, max_features='auto',\n",
       "            max_leaf_nodes=None, min_density=None, min_samples_leaf=1,\n",
       "            min_samples_split=2, n_estimators=100, n_jobs=3,\n",
       "            oob_score=False, random_state=None, verbose=True)"
      ]
     },
     "execution_count": 9,
     "metadata": {},
     "output_type": "execute_result"
    }
   ],
   "source": [
    "from sklearn.ensemble import RandomForestClassifier\n",
    "clf = RandomForestClassifier(n_estimators=100, verbose=True, n_jobs=3, max_depth=3)\n",
    "clf.fit(tx, ty)"
   ]
  },
  {
   "cell_type": "code",
   "execution_count": 10,
   "metadata": {
    "collapsed": false
   },
   "outputs": [
    {
     "name": "stderr",
     "output_type": "stream",
     "text": [
      "[Parallel(n_jobs=3)]: Done   1 out of   3 | elapsed:    2.8s remaining:    5.5s\n",
      "[Parallel(n_jobs=3)]: Done   3 out of   3 | elapsed:    2.8s finished\n",
      "[Parallel(n_jobs=3)]: Done   1 out of   3 | elapsed:    0.5s remaining:    1.1s\n",
      "[Parallel(n_jobs=3)]: Done   3 out of   3 | elapsed:    0.7s finished\n",
      "[Parallel(n_jobs=3)]: Done   1 out of   3 | elapsed:    0.9s remaining:    1.7s\n",
      "[Parallel(n_jobs=3)]: Done   3 out of   3 | elapsed:    0.9s finished\n"
     ]
    }
   ],
   "source": [
    "tprobs = clf.predict_proba(tx)[:,1]\n",
    "vprobs = clf.predict_proba(vx)[:,1]\n",
    "valprobs = clf.predict_proba(valx)[:,1]"
   ]
  },
  {
   "cell_type": "code",
   "execution_count": 19,
   "metadata": {
    "collapsed": false
   },
   "outputs": [
    {
     "name": "stdout",
     "output_type": "stream",
     "text": [
      "[ 0.03918062  0.05856521  0.05856521 ...,  0.02660812  0.02660812\n",
      "  0.02660812]\n"
     ]
    }
   ],
   "source": [
    "print tprobs"
   ]
  },
  {
   "cell_type": "code",
   "execution_count": 11,
   "metadata": {
    "collapsed": false
   },
   "outputs": [
    {
     "name": "stdout",
     "output_type": "stream",
     "text": [
      "0.841956804855\n"
     ]
    },
    {
     "name": "stderr",
     "output_type": "stream",
     "text": [
      "/home/biswajit/anaconda/lib/python2.7/site-packages/sklearn/utils/__init__.py:93: DeprecationWarning: Function auc_score is deprecated; Function 'auc_score' has been renamed to 'roc_auc_score' and will be removed in release 0.16.\n",
      "  warnings.warn(msg, category=DeprecationWarning)\n"
     ]
    },
    {
     "data": {
      "text/plain": [
       "[<matplotlib.lines.Line2D at 0x7f9bdcf87810>]"
      ]
     },
     "metadata": {},
     "output_type": "display_data"
    },
    {
     "name": "stdout",
     "output_type": "stream",
     "text": [
      "0.866547645485\n"
     ]
    },
    {
     "name": "stderr",
     "output_type": "stream",
     "text": [
      "/home/biswajit/anaconda/lib/python2.7/site-packages/sklearn/utils/__init__.py:93: DeprecationWarning: Function auc_score is deprecated; Function 'auc_score' has been renamed to 'roc_auc_score' and will be removed in release 0.16.\n",
      "  warnings.warn(msg, category=DeprecationWarning)\n"
     ]
    },
    {
     "data": {
      "text/plain": [
       "[<matplotlib.lines.Line2D at 0x7f9bdcfd3390>]"
      ]
     },
     "metadata": {},
     "output_type": "display_data"
    },
    {
     "data": {
      "image/png": "[encoded data removed]",
      "text/plain": [
       "<matplotlib.figure.Figure at 0x7f9bfc539e90>"
      ]
     },
     "metadata": {},
     "output_type": "display_data"
    }
   ],
   "source": [
    "yscore = tprobs.ravel()\n",
    "fpr, tpr, thresh = roc_curve(ty, yscore)\n",
    "auc = auc_score(ty, yscore)\n",
    "print auc\n",
    "display(pyplot.plot(1-fpr, tpr,))\n",
    "\n",
    "yscore = vprobs.ravel()\n",
    "fpr, tpr, thresh = roc_curve(vy, yscore)\n",
    "auc = auc_score(vy, yscore)\n",
    "print auc\n",
    "display(pyplot.plot(1-fpr, tpr,))"
   ]
  },
  {
   "cell_type": "code",
   "execution_count": 35,
   "metadata": {
    "collapsed": false
   },
   "outputs": [
    {
     "name": "stdout",
     "output_type": "stream",
     "text": [
      "1.0115883414\n"
     ]
    }
   ],
   "source": [
    "print np.percentile(vprobs.ravel(), 99)"
   ]
  },
  {
   "cell_type": "code",
   "execution_count": 33,
   "metadata": {
    "collapsed": false
   },
   "outputs": [
    {
     "name": "stdout",
     "output_type": "stream",
     "text": [
      "1.0115883414\n",
      "1637\n",
      "23\n"
     ]
    }
   ],
   "source": [
    "thresh = np.percentile(vprobs.ravel(), 99)\n",
    "# thresh = 0.406092323258\n",
    "print thresh\n",
    "pred = np.int32(vprobs.ravel() >= thresh)\n",
    "print np.sum(pred)\n",
    "\n",
    "outfile = open('out.csv', 'w')\n",
    "dids = set()\n",
    "outfile.write('ID,TIME,LABEL,ICU\\n')\n",
    "for i in xrange(vx.shape[0]):\n",
    "    if np.int32(vyall[i,3]) == 1.0:\n",
    "        outfile.write(str(vyall[i,0])+','+str(vyall[i,1])+','+str(pred[i])+',1\\n')\n",
    "        if pred[i] == 1:\n",
    "            dids.add(valyall[i,0])\n",
    "outfile.close()\n",
    "print len(dids)"
   ]
  },
  {
   "cell_type": "code",
   "execution_count": 26,
   "metadata": {
    "collapsed": false,
    "scrolled": true
   },
   "outputs": [],
   "source": [
    "# for i in vprobs[np.where(vprobs.ravel()>=thresh)]:\n",
    "#     print i"
   ]
  },
  {
   "cell_type": "code",
   "execution_count": 18,
   "metadata": {
    "collapsed": false
   },
   "outputs": [
    {
     "name": "stdout",
     "output_type": "stream",
     "text": [
      "0.392954587789\n",
      "0.424414313873\n",
      "0.373\n",
      "2774\n",
      "28\n",
      "35.2805555556\n"
     ]
    }
   ],
   "source": [
    "print np.percentile(valprobs.ravel(), 99)\n",
    "print np.percentile(valprobs.ravel(), 99.5)\n",
    "\n",
    "# thresh = np.percentile(valprobs.ravel(), 99)\n",
    "thresh = 0.373\n",
    "print thresh\n",
    "pred = np.int32(valprobs.ravel() >= thresh)\n",
    "print np.sum(pred)\n",
    "\n",
    "outfile = open('output.csv', 'w')\n",
    "dids = set()\n",
    "alltimes = [nan for i in xrange(5000)]\n",
    "# outfile.write('ID,TIME,LABEL\\n')\n",
    "for i in xrange(valx.shape[0]):\n",
    "    if np.int64(valyall[i,2]) == 1:\n",
    "        outfile.write(str(valyall[i,0])+','+str(valyall[i,1])+','+str(pred[i])+'\\n')\n",
    "        if pred[i] == 1:\n",
    "            tid = valyall[i,0]\n",
    "            dids.add(tid)\n",
    "            if np.isnan(alltimes[tid]):\n",
    "                alltimes[tid] = valyall[i,1]\n",
    "            \n",
    "outfile.close()\n",
    "print len(dids)\n",
    "print np.nanmedian(alltimes)/3600"
   ]
  },
  {
   "cell_type": "code",
   "execution_count": 15,
   "metadata": {
    "collapsed": false,
    "scrolled": true
   },
   "outputs": [
    {
     "name": "stdout",
     "output_type": "stream",
     "text": [
      "tp :  8 , tn :  813 , fp :  1 , fn :  53\n",
      "sensitivity :  0.131147540984 , specificity :  0.998771498771\n",
      "accuracy :  0.938285714286 median prediction time :  179.627222222\n",
      "finalScore :  34.2218149595\n"
     ]
    },
    {
     "data": {
      "text/plain": [
       "(0.13114754098360656,\n",
       " 0.9987714987714987,\n",
       " 0.9382857142857143,\n",
       " 179.62722222222223,\n",
       " 34.22181495951986)"
      ]
     },
     "execution_count": 15,
     "metadata": {},
     "output_type": "execute_result"
    }
   ],
   "source": [
    "reload(V)\n",
    "V.validate('out.csv', './Training_Dataset/id_label_train.csv')"
   ]
  }
 ],
 "metadata": {
  "kernelspec": {
   "display_name": "Python 2",
   "language": "python",
   "name": "python2"
  },
  "language_info": {
   "codemirror_mode": {
    "name": "ipython",
    "version": 2
   },
   "file_extension": ".py",
   "mimetype": "text/x-python",
   "name": "python",
   "nbconvert_exporter": "python",
   "pygments_lexer": "ipython2",
   "version": "2.7.10"
  }
 },
 "nbformat": 4,
 "nbformat_minor": 0
}
